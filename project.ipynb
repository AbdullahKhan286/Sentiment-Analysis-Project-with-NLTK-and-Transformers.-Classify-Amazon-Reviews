
 "cells": [
  {
   "cell_type": "code",
   "execution_count": 31,
   "metadata": {},
   "outputs": [],
   "source": [
    "import pandas as pd\n",
    "import numpy as np\n",
    "import matplotlib.pyplot as plt\n",
    "import seaborn as sns\n",
    "plt.style.use('ggplot')\n",
    "import nltk"
   ]
  },
  {
   "cell_type": "code",
   "execution_count": 32,
   "metadata": {},
   "outputs": [
    {
     "name": "stdout",
     "output_type": "stream",
     "text": [
      "(568454, 10)\n",
      "(500, 10)\n"
     ]
    }
   ],
   "source": [
    "# Read in data\n",
    "df = pd.read_csv('Reviews.csv')\n",
    "print(df.shape)\n",
    "df = df.head(500)\n",
    "print(df.shape)"
   ]
  },
  {
   "cell_type": "code",
   "execution_count": 33,
   "metadata": {},
   "outputs": [
    {
     "data": {
      "text/html": [
       "<div>\n",
       "<style scoped>\n",
       "    .dataframe tbody tr th:only-of-type {\n",
       "        vertical-align: middle;\n",
       "    }\n",
       "\n",
       "    .dataframe tbody tr th {\n",
       "        vertical-align: top;\n",
       "    }\n",
       "\n",
       "    .dataframe thead th {\n",
       "        text-align: right;\n",
       "    }\n",
       "</style>\n",
       "<table border=\"1\" class=\"dataframe\">\n",
       "  <thead>\n",
       "    <tr style=\"text-align: right;\">\n",
       "      <th></th>\n",
       "      <th>Id</th>\n",
       "      <th>ProductId</th>\n",
       "      <th>UserId</th>\n",
       "      <th>ProfileName</th>\n",
       "      <th>HelpfulnessNumerator</th>\n",
       "      <th>HelpfulnessDenominator</th>\n",
       "      <th>Score</th>\n",
       "      <th>Time</th>\n",
       "      <th>Summary</th>\n",
       "      <th>Text</th>\n",
       "    </tr>\n",
       "  </thead>\n",
       "  <tbody>\n",
       "    <tr>\n",
       "      <th>0</th>\n",
       "      <td>1</td>\n",
       "      <td>B001E4KFG0</td>\n",
       "      <td>A3SGXH7AUHU8GW</td>\n",
       "      <td>delmartian</td>\n",
       "      <td>1</td>\n",
       "      <td>1</td>\n",
       "      <td>5</td>\n",
       "      <td>1303862400</td>\n",
       "      <td>Good Quality Dog Food</td>\n",
       "      <td>I have bought several of the Vitality canned d...</td>\n",
       "    </tr>\n",
       "    <tr>\n",
       "      <th>1</th>\n",
       "      <td>2</td>\n",
       "      <td>B00813GRG4</td>\n",
       "      <td>A1D87F6ZCVE5NK</td>\n",
       "      <td>dll pa</td>\n",
       "      <td>0</td>\n",
       "      <td>0</td>\n",
       "      <td>1</td>\n",
       "      <td>1346976000</td>\n",
       "      <td>Not as Advertised</td>\n",
       "      <td>Product arrived labeled as Jumbo Salted Peanut...</td>\n",
       "    </tr>\n",
       "    <tr>\n",
       "      <th>2</th>\n",
       "      <td>3</td>\n",
       "      <td>B000LQOCH0</td>\n",
       "      <td>ABXLMWJIXXAIN</td>\n",
       "      <td>Natalia Corres \"Natalia Corres\"</td>\n",
       "      <td>1</td>\n",
       "      <td>1</td>\n",
       "      <td>4</td>\n",
       "      <td>1219017600</td>\n",
       "      <td>\"Delight\" says it all</td>\n",
       "      <td>This is a confection that has been around a fe...</td>\n",
       "    </tr>\n",
       "    <tr>\n",
       "      <th>3</th>\n",
       "      <td>4</td>\n",
       "      <td>B000UA0QIQ</td>\n",
       "      <td>A395BORC6FGVXV</td>\n",
       "      <td>Karl</td>\n",
       "      <td>3</td>\n",
       "      <td>3</td>\n",
       "      <td>2</td>\n",
       "      <td>1307923200</td>\n",
       "      <td>Cough Medicine</td>\n",
       "      <td>If you are looking for the secret ingredient i...</td>\n",
       "    </tr>\n",
       "    <tr>\n",
       "      <th>4</th>\n",
       "      <td>5</td>\n",
       "      <td>B006K2ZZ7K</td>\n",
       "      <td>A1UQRSCLF8GW1T</td>\n",
       "      <td>Michael D. Bigham \"M. Wassir\"</td>\n",
       "      <td>0</td>\n",
       "      <td>0</td>\n",
       "      <td>5</td>\n",
       "      <td>1350777600</td>\n",
       "      <td>Great taffy</td>\n",
       "      <td>Great taffy at a great price.  There was a wid...</td>\n",
       "    </tr>\n",
       "  </tbody>\n",
       "</table>\n",
       "</div>"
      ],
      "text/plain": [
       "   Id   ProductId          UserId                      ProfileName  \\\n",
       "0   1  B001E4KFG0  A3SGXH7AUHU8GW                       delmartian   \n",
       "1   2  B00813GRG4  A1D87F6ZCVE5NK                           dll pa   \n",
       "2   3  B000LQOCH0   ABXLMWJIXXAIN  Natalia Corres \"Natalia Corres\"   \n",
       "3   4  B000UA0QIQ  A395BORC6FGVXV                             Karl   \n",
       "4   5  B006K2ZZ7K  A1UQRSCLF8GW1T    Michael D. Bigham \"M. Wassir\"   \n",
       "\n",
       "   HelpfulnessNumerator  HelpfulnessDenominator  Score        Time  \\\n",
       "0                     1                       1      5  1303862400   \n",
       "1                     0                       0      1  1346976000   \n",
       "2                     1                       1      4  1219017600   \n",
       "3                     3                       3      2  1307923200   \n",
       "4                     0                       0      5  1350777600   \n",
       "\n",
       "                 Summary                                               Text  \n",
       "0  Good Quality Dog Food  I have bought several of the Vitality canned d...  \n",
       "1      Not as Advertised  Product arrived labeled as Jumbo Salted Peanut...  \n",
       "2  \"Delight\" says it all  This is a confection that has been around a fe...  \n",
       "3         Cough Medicine  If you are looking for the secret ingredient i...  \n",
       "4            Great taffy  Great taffy at a great price.  There was a wid...  "
      ]
     },
     "execution_count": 33,
     "metadata": {},
     "output_type": "execute_result"
    }
   ],
   "source": [
    "df.head()"
   ]
  },
  {
   "cell_type": "code",
   "execution_count": 34,
   "metadata": {},
   "outputs": [
    {
     "data": {
      "image/png": "iVBORw0KGgoAAAANSUhEUgAAAz8AAAHWCAYAAABZgTcgAAAAOXRFWHRTb2Z0d2FyZQBNYXRwbG90bGliIHZlcnNpb24zLjguMywgaHR0cHM6Ly9tYXRwbG90bGliLm9yZy/H5lhTAAAACXBIWXMAAA9hAAAPYQGoP6dpAABLWElEQVR4nO3deViVdf7/8dcBDrtyQFRAFHBBzQ0yNdFJI0drclyqnxZWlmmLaTWNY4v7lqk5U44109eltNJ07KvplFvmktniUu5GbrmBSQKmiLLcvz+6uL8eAeUonJPcz8d1eV2ce33fN2+VF597sRmGYQgAAAAAKjkvTxcAAAAAAO5A+AEAAABgCYQfAAAAAJZA+AEAAABgCYQfAAAAAJZA+AEAAABgCYQfAAAAAJZA+AEAAABgCYQfAAAAAJZA+AGACrZq1SolJSXJ4XDIZrOpR48eni7JZYcPH5bNZtMjjzzi6VKuW2U6lt+LixcvqkGDBvrTn/7k6VI8YuvWrbLZbJo5c6anSwFwFYQfAC7Zt2+fBg8erKZNmyokJES+vr6KiorS3XffrVmzZunChQueLvGq3n33XdlsNr377rsVvq/Dhw+re/fuOnTokPr166dRo0bp/vvvv+I669atk81mc/pjt9sVFRWle+65Rxs2bKjwulFxCgoKNGPGDHXo0EFhYWGy2+2qUaOGmjdvrv79+2vp0qVOy7uzX6/VtGnTtH//fo0fP95pelZWlqZMmaI+ffropptuko+Pj2w2mz777DOX9+HO8/DII48U+zt46Z99+/Y5Ld+yZUv16NFDI0aM0NmzZyu8PgDXzsfTBQC4cYwdO1ZjxoxRYWGh2rZtq759+yo4OFgnT57UunXr1L9/f/3rX//Sli1bPF3q78Znn32m3NxcTZ06VSkpKS6tGxMTY45O5OTkaOvWrVq8eLGWLFmiBQsW6P/9v/9XARWXrFatWtq7d69CQkLcts/KqKCgQF27dtWKFSvkcDh09913Kzo6WhcvXtTu3bs1b9487du3T926dfN0qWV27tw5TZgwQX/84x918803O807fPiwhg4dKkmKjo5WeHi4Tp486Ykyr8mzzz4rh8NRbHp4eHixaS+99JLatGmjadOm6eWXX3ZDdQCuBeEHQJm88sorGjVqlGrXrq3//Oc/atOmTbFl/vvf/2rq1KkeqO7368SJE5KkqKgol9eNjY3V6NGjnaa9+uqreumllzR06FC3hh+73a5GjRq5bX+V1fz587VixQq1aNFC69evLxYmc3Jy9M0333ioumszb948ZWVllXgZYUxMjD777DMlJiYqLCxMjzzyiObMmeP+Iq/Rc889p9jY2DIt27p1azVq1Ehvv/22XnzxRXl5cXEN8LtkAMBVHDp0yLDb7Ybdbjd27tx5xWVzc3OLTVuwYIHxhz/8wahatarh7+9vNG3a1HjllVdKXFaS0aFDhxK33bdvX0OScejQIafaJBl9+/Y1Dh06ZPTu3duoVq2a4efnZ7Rs2dJYtmyZ0zY6dOhgSCrxz6XbvZKyHM/atWtL3c/atWuvuP2idUs6Dz///LO5nVOnThWbP2/ePKNjx45GSEiI4efnZzRq1MgYN26cU23Hjh0zvLy8jISEhFJruPPOOw1J5vf70vN8uXPnzhmvvPKK0aJFCyMwMNAICgoybr31VmPevHlOy+3bt8+QZKSkpDhNP3jwoHlMGzZscJo3dOhQQ5KxZs0ac9r27duN+++/34iJiTF8fX2N8PBwIzEx0Xj22WeNixcvlnpMRS49lr179xrdu3c3QkNDjcDAQKNdu3bGypUrnZb/97//bUgyRo8eXeL20tLSDB8fH6Np06ZX3fdTTz1lSDL+8Y9/XHVZwyhbvx4/ftwYM2aMkZSUZNSsWdOw2+1GZGSk8cADDxi7d+++4vH/8MMPRq9evYzq1asbNpvN7M0DBw4YAwYMMOrVq2f4+/sboaGhRtOmTY0nnnjCyMjIcNpemzZtDF9fX+PcuXNXPZ6iv8OrV68u0/G7ch4MwzCysrKMF1980YiPjzf8/PwMh8NhdO7c2eX9lfRvTVmMHj3akGSsWLHCpfUAuA8jPwCu6p133lFeXp7uv/9+NW3a9IrL+vn5OX1++eWXNXHiRIWHhyslJUXBwcFavny5Xn75Za1cuVKrVq2Sr6/vddf4008/qXXr1qpbt64eeughnT59WgsWLFD37t312Wef6fbbb5f027X8DodDH3/8sbp3766EhARzGyVd3nK5sh5PbGysRo0apXXr1mn9+vXq27ev+Rvksv4m+WrsdrvT5379+umdd95RdHS07r33XjkcDn399dcaMWKE1qxZo9WrV8vHx0e1atVSp06dtGrVKu3cuVPNmjVz2k5aWppWr16tli1bXvX7nZWVpeTkZH333Xe6+eab1a9fPxUWFmrlypVKSUnR7t27zftAGjZsqFq1aunzzz932saaNWucvv7DH/7g9Nnf319JSUmSpB07dqhNmzay2Wzq1q2b4uLidObMGe3fv19vvfWWxo8fX+y8lObQoUNq27atmjVrpieeeEJpaWlasGCB7rrrLs2bN0+9e/eWJPXp00dDhw7VrFmzNHz4cHl7ezttZ/bs2crPz9cTTzxx1X1Wq1ZNkpSamlqmGsvSrxs2bNCrr76q22+/Xffee6+Cg4P1448/atGiRVq6dKm+/PJLtWjRoti2Dxw4oDZt2ig+Pl59+vTR+fPnVbVqVaWlpalVq1Y6c+aM/vSnP+nee+9Vbm6uDh06pPfee0+DBg0yjyM7O1tbtmxRq1atFBgYWKZjuhZlOQ9ZWVlq166d9uzZo1atWum5555TRkaGFi5cqM6dO+tf//pXmb5Hl1q+fLnOnDkjb29v1a9fX8nJyapatWqpy7dr106StHr1anXp0sXl4wTgBp5OXwB+/5KTkw1JxowZM1xab9OmTYYko3bt2kZaWpo5PS8vz+jatashyZgwYYLTOrrGkR+V8Jv5FStWGJKMu+66y2n6O++8Y0gy3nnnnQo/nlGjRpVptOdSVxr5GTdunCGp2ChD0TH17NnTyMnJKbGG119/3Zw2b948Q5Lx17/+tdg+Jk+ebEgypk2bZk4rbeSn6HsyadIkp+nnz583unTpYthsNuO7774zpz/00EOGJGPXrl3mtPvvv98IDw83EhISjPbt25vTT58+bXh5eRnJycnmtOeff96QZCxZsqRY3adPnzYKCgqKTb/cpT0zZMgQp3mbN282fHx8DIfDYWRnZ5vTn376aUNSsZHEwsJCIy4uzggMDDSysrKuuu9t27YZdrvdsNlsxoMPPmh89NFHxuHDh6+4ztX69eTJk8aZM2eKTf/++++NoKAg484773Safunxv/TSS8XWmzZtWrF+KXL27Fmn/lq+fLkhyRg0aNAVj6HItY78GMbVz8Pjjz9uSDIef/xxo7Cw0JyemppqVK1a1fD19S3zSE5RnZf/qVKlijF9+vRS18vKyjIkGa1atXLl0AC4ERekAriqtLQ0Sb/dsOyK2bNnS5KGDx+uiIgIc7qPj4+mTp0qLy+vcns0bExMjIYPH+40rUuXLqpTp46+/fbbctmHO49H+u1m8dGjR2v06NEaOnSokpOTNWLECFWtWlVvv/2207JvvPGGfHx8NHv2bAUEBDjNGzFihKpVq6YPPvjAnNajRw+FhITogw8+UEFBgdPyc+bMkd1u1wMPPHDF+n755Re9//77uuWWW8yb2ov4+/tr0qRJMgxD8+bNM6ffcccdkpxHez7//HMlJyerU6dO+uabb3Tu3DlJ0tq1a1VYWGiuc6nLj1GSQkNDXbrPIiQkRCNHjnSadsstt6hPnz7KysrS4sWLzelPPfWUJBU776tWrdKhQ4fUu3fvMj0MIjExUe+//75q1qyp999/X/fee69iY2NVrVo19ezZU8uWLStz/UVq1KihKlWqFJveokULJScna+3atcrLyys2v2bNmho1alSp2y3pHAcFBTlNP3LkiCQpMjLS5brL08WLF/X+++8rODhYEydOlM1mM+c1aNBAzzzzjC5evKi5c+eWaXu33XabFixYoJ9++knnz5/XgQMH9Nprr0mSBg0apP/5n/8pcb2QkBD5+/ub5wXA7w+XvQGoMNu2bZMkJScnF5sXHx+v6OhoHTp0SNnZ2df9FLGEhIRilyNJUu3atfXVV19d17aLuPN4pN8u5RszZozTtNDQUH3++edOl/3k5ORo+/btCg8P1+uvv17itvz8/LR3717zc0BAgHr16qUZM2Zo5cqV5vtZtm7dqt27d6tnz54lPtHqUps3b1ZBQYFsNluxBzNIMn/gvnS/ReduzZo1euaZZ7Rr1y79/PPPuuOOO1S7dm299tpr2rBhg+666y7z8rhLz3fv3r31xhtvqEePHrrvvvvUqVMntWvXTvXq1btirSW5+eabSwwNHTt21Jw5c/Tdd9+pb9++kqQmTZrotttu0/Lly3X06FHVrl1bkswfgp988sky77dXr17q2bOn1q5dq40bN+q7777Txo0btWTJEi1ZskQPP/yw+Vjnsvrkk0/073//W1u2bFFGRoby8/Od5mdkZBQLKC1atCh2maokdevWTS+//LKefvpprVy5Ul26dFG7du100003Favpl19+kfRbX3rSDz/8oJycHLVr105hYWHF5icnJ2v8+PH67rvvyrS9fv36OX2uW7eu/vrXv6phw4b685//rGHDhumxxx4r8d+csLCwG+qJdoDVEH4AXFVkZKT27t2r48ePu7Redna2uX5p2z1y5IiysrKuOyyUdr+Oj4+PCgsLr2vbRdx5PJLUoUMHrVu3TpJ0+vRpffTRRxo0aJD+/Oc/a/PmzeboU2ZmpgzD0KlTp4qFpSt55JFHNGPGDM2ZM8cMP0VP4ir6of9Kin7w3bx5szZv3lzqcpe+96R27dpq0KCB1q9fr4KCAnME6I477lBERITsdrvWrFmju+66S2vWrFHVqlXVqlUrc/3WrVvriy++0IQJE7Ro0SK99957kn67n2jUqFFXHa26VM2aNUucXnRei77fRQYOHKgNGzZo5syZGjNmjNLT07V06VIlJCSodevWZd6v9Nv9Wp07d1bnzp0l/fYI7I8++kj9+vXT3Llz1bNnzzK/DPeNN97Qc889p9DQUP3xj39UnTp1FBgYKJvNpiVLlmj79u0lvn/r0tHLS8XExOjbb7/V6NGjtWLFCv3v//6vpN++d0OGDNEzzzxjLls0CpSbm+vK4Ze7svzdlH67L+h6dO3aVbVq1dLx48e1Z8+eYvfLSdL58+dLHDUD8PvAZW8Arqp9+/aSnC9VKouiAJCenl7i/KLL6S4NCjabrdhvrYtc7w8u1+tajqe8hIWFacCAAfr73/+uY8eOaeDAgcXqSkxMlGEYV/xzqaSkJDVo0EBLly5VVlaW8vLyNH/+fIWHh5th6EqK9vuXv/zlivtcu3at03rJycnKzs7W5s2btWbNGsXExKhevXoKCgpS69at9dlnn+nEiRPat2+fbrvttmK/XW/btq3++9//KjMzU19++aVGjBihkydPKiUlxaWXZ5b22/mi7+/l38d77rlHNWvW1KxZs1RQUODSgw6uxtvbW7169dJf/vIXSSr2UIjS5Ofna/To0YqIiNDu3bu1YMECTZkyRWPGjNHo0aNLDXiSrjiy1LhxYy1YsEC//PKLtmzZoldffVWFhYV69tlnNWvWLHO5GjVqSPq/IOwp7vy7Wb16dUkyL8+8VGFhobKysszzAuD3h/AD4KoeffRR2e12ffTRR9qzZ88Vl730N8yJiYmSZI5eXGr//v06duyY4uLinEZtQkNDdfTo0WLLFxQU6Pvvv7+m+i9X9MP05fe6XM21HE95e/LJJ9WkSRMtXrxYX375pSQpODhYTZo00e7du3X69GmXtte3b1/l5uZqwYIF+uSTT5SRkaGUlJQyPTGtdevW8vLy0hdffOHSPovu4Vm5cqU2bNjgdE/PHXfcoR07dmjBggVOy5bEz89PSUlJGjt2rKZNmyZJ+vjjj8tcx7Zt2/Trr78Wm170/S36fhex2+3q37+/jh8/rmXLlmnmzJkKDg5Wnz59yrzPqym6DO/SoHqlfs3IyFBWVpaSkpKKjXqcPXvWvFTzWvn4+Khly5Z64YUXNH/+fEnSkiVLzPnNmzeXJO3bt++69lMWVzoPDRs2VGBgoLZv317iL0mKAvjlL2F1VXZ2tvbt2yebzaa4uLhi83/44QcZhuF0WSqA3xfCD4CrKnrZ5sWLF3X33Xdry5YtJS63YsUK3XXXXebnouvmx48fr1OnTpnTCwoKNGTIEBUWFuqxxx5z2kbr1q115MgRrVq1ymn6+PHj9dNPP5XL8RQ9ptfVm5Kv5XjKm7e3t3lp27Bhw8zpzz//vC5evKh+/fqV+MNfZmZmiT8IP/zww/Ly8tLcuXPNm8FLelllSWrUqKE+ffpoy5YtGjduXIk/lB44cECHDh1ymnb77bfLZrPprbfeUnZ2tlPASU5OlmEYevXVV83Pl9q0aZPOnz9fbD9FoziuPG45OztbY8eOdZq2ZcsWffDBBwoJCVHPnj2LrfP444/L29tbgwYN0qFDh5SSklLifUOlmT9/vlavXl3ipZjp6emaMWOGpN9uuC9ypX6tUaOGAgMDtXXrVqfLC/Py8vTss88qIyOjzLUV2bp1a7FL/qSSz3GTJk1UvXp1ff311y7vx1VXOg++vr7q06ePfv31V40YMcJp3oEDBzRt2jTZ7XY99NBDV91Penq6jh07Vmz62bNn9cgjjyg3N1edOnUqcVSt6DwUPVofwO8P9/wAKJOXX35Z+fn5GjNmjFq1aqWkpCTdcsstCg4O1smTJ7Vhwwb9+OOPuuWWW8x1kpKSNHToUE2ePFlNmzbVfffdp6CgIC1fvly7du1S+/bt9be//c1pP0OGDNHKlSvVvXt39e7dW2FhYdq0aZMOHTqkjh07ljjq4qq2bdsqMDBQr7/+un755Rfz3ofBgwdf8bKYazmeinDPPfcoISFB69evN29I79evn7Zu3aq33npL9erVM590d/r0aR06dEgbNmzQo48+qn//+99O26pdu7Zuv/12rVmzRj4+PmrWrFmxEY8rmT59un788UeNHDlS7733ntq3b6+aNWvqxIkT2rt3rzZv3qz58+c7/ZY8PDxczZs31/bt2yU5B5yi783PP/+s6tWrF7unYvLkyfr888/1hz/8QXFxcQoODtbu3bu1fPlyhYaG6vHHHy9z7bfddptmzpypb775Ru3atTPf81NYWKi33367xPe51KlTR3fffbeWLl0qSS5f8vbNN9/ojTfeUEREhNq3b2+el0OHDumTTz7R+fPn1b17d913333Fzklp/frMM8/o1VdfVbNmzdS9e3ddvHhRa9eu1enTp3X77bcXu+zwat577z29/fbbat++verVq6fQ0FAdOHBAy5Ytk5+fn5577jlzWZvNpp49e+p//ud/tHv3bjVp0qTY9oYMGWKGsI0bN0qSpkyZovfff1/Sb08eLMv9TVc7D6+++qq++OILTZ8+XZs3b9btt99uvufn119/1fTp00scrbncvn371KlTJ7Vt21bx8fGqUaOGjh8/rtWrVys9PV1169Yt9amOq1atkre3t7p3737V/QDwEPc+WRvAjW7Pnj3GoEGDjCZNmhhVqlQx7Ha7ERERYdx5553GzJkzjdzc3GLrzJ8/32jXrp0RHBxs+Pn5GTfddJMxfvx44/z58yXu4+OPPzZatmxp+Pn5GWFhYUbv3r2Nw4cPX/E9P5e/f6ZI0ZvhL7d8+XLj1ltvNYKCgkp8U/yVuHI85f2enyJLly41JBm33HKL0/Rly5YZd999t1G9enXDbrcbNWvWNFq1amUMGzbM2Lt3b4nbeu+998xz8Nprr5W4zJXO84ULF4x//vOfRtu2bc33qdSuXdtITk42/vGPfxgZGRnF1il6X89NN91UbF7nzp0NSUavXr2KzVu5cqXxyCOPGI0bNzaqVq1qBAYGGvHx8cbgwYOv+r6cko5lz549Rrdu3QyHw2EEBAQYSUlJxooVK664/pIlS0o892Vx5MgRY/r06UaPHj2M+Ph4p79Dd911l/Hee++V+K6iK/VrXl6eMXXqVKNx48aGv7+/UbNmTePBBx+85r8zX3/9tfHkk08azZs3N0JDQw1/f3+jXr16xiOPPGLs3Lmz2PLff/+9IckYOnRoiduLiYkp8Z05RX9GjRpV5vN3tb+3mZmZxtChQ4369esbvr6+RkhIiNGpUydj5cqVZd7HkSNHjMcff9xITEw0wsPDDR8fH6Nq1apGq1atjPHjx5f4TiXD+O0dP/7+/kb37t3LvC8A7mczjMvugAUAAKUaPXq0xowZo5kzZ1b4ZY43ii5dumjHjh06ePCgZZ909s9//lPPPPOMvvjiC/MhMQB+fwg/AACU0a+//qoGDRooLy9PR48edekeo8ps586dSkxM1KRJk/TXv/7V0+W43fnz51WvXj0lJSVp0aJFni4HwBVwzw8AAFfxySefaNu2bVq2bJlOnjyp1157jeBziWbNmmn27NklPj3PCg4fPqzHH3+8zA8LAeA5jPwAAHAVjzzyiObMmaOaNWuqX79+Gj9+vLy8eGAqANxoCD8AAAAALIFfWwEAAACwBMIPAAAAAEsg/AAAAACwBMIPAAAAAEu4oR91nZmZqfz8fE+XcUOpXr26Tp065ekyYAH0GtyFXoO70GtwF3rNNT4+PgoNDS3bsq5seNWqVVq1apX5zYiOjtZ9992nxMRESb+99XrPnj1O63Tq1EmPP/64+TkjI0MzZszQ7t275e/vrw4dOiglJUXe3t6ulCJJys/PV15ensvrWZXNZpP023njIX+oSPQa3IVeg7vQa3AXeq1iuRR+wsLClJKSosjISBmGofXr12vy5MmaPHmyateuLUm644471Lt3b3MdX19f8+vCwkJNnDhRDodD48ePV2ZmpqZPny5vb2+lpKSU0yEBAAAAQHEu3fNzyy236Oabb1ZkZKSioqL0wAMPyN/fXz/++KO5jJ+fnxwOh/nn0jdgb9++XceOHdPgwYMVGxurxMRE9e7dWytXruTyNQAAAAAV6prv+SksLNRXX32lCxcuKD4+3pz+xRdf6IsvvpDD4VDLli117733ys/PT5KUmpqqOnXqyOFwmMsnJCRo5syZOnr0qOLi4krcV15entPlbTabTQEBAebXKJuic8U5Q0Wj1+Au9BrchV6Du9BrFcvl8HPkyBENGzZMeXl58vf315AhQxQdHS1Jat++vcLDwxUWFqaffvpJH3zwgU6cOKEhQ4ZIkrKyspyCjySFhISY80qzePFiLVq0yPwcFxenSZMmqXr16q6WD0kRERGeLgEWQa/BXeg1uAu9Bneh1yqGy+EnKipKU6ZMUU5Ojr7++mu9+eabGjNmjKKjo9WpUydzuTp16ig0NFRjx45Venr6dX0De/bsqa5du5qfi5LwqVOnuFzOBTabTREREUpPT+cGOlQoeg3uQq/BXeg1uAu95jofH58yD4q4HH58fHzMIFO3bl0dOHBAn376qdMT3YrUr19fkszw43A4tH//fqdlsrOzJanYiNCl7Ha77HZ7ifNoCtcZhsF5g1vQa3AXeg3uQq/BXei1inHdLzktLCws9XHThw8fliTzudvx8fE6cuSIGXgkaceOHQoICDAvnQMAAACAiuDSyM+8efOUkJCg8PBw5ebmauPGjdqzZ4+GDRum9PR0bdy4UTfffLOCg4N15MgRzZkzR40bN1ZMTIwkqUWLFoqOjtb06dPVp08fZWVl6cMPP1SXLl1KHdkBAAAAgPLgUvjJzs7Wm2++qczMTAUGBiomJkbDhg1T8+bNlZGRoZ07d+rTTz/VhQsXVK1aNbVp00b33HOPub6Xl5defPFFzZw5U8OHD5efn586dOjg9F4gAAAAAKgINuMGvpjw1KlTpV5yh+JsNpsiIyOVlpbGNaSoUPQa3IVeg7vQa3AXes11dru9zA88uO57fgAAAADgRkD4AQAAAGAJhB8AAAAAlkD4AQAAAGAJhB8AAAAAluDSo64BAACAyqBgQDdPl1Cqo54uoBTeM5Z6uoTrxsgPAAAAAEsg/AAAAACwBMIPAAAAAEsg/AAAAACwBMIPAAAAAEsg/AAAAACwBMIPAAAAAEsg/AAAAACwBMIPAAAAAEsg/AAAAACwBMIPAAAAAEsg/AAAAACwBMIPAAAAAEsg/AAAAACwBMIPAAAAAEsg/AAAAACwBMIPAAAAAEsg/AAAAACwBMIPAAAAAEsg/AAAAACwBMIPAAAAAEsg/AAAAACwBMIPAAAAAEsg/AAAAACwBMIPAAAAAEsg/AAAAACwBMIPAAAAAEsg/AAAAACwBMIPAAAAAEsg/AAAAACwBMIPAAAAAEsg/AAAAACwBMIPAAAAAEsg/AAAAACwBMIPAAAAAEsg/AAAAACwBMIPAAAAAEvwcWXhVatWadWqVTp16pQkKTo6Wvfdd58SExMlSRcvXtTcuXO1adMm5eXlqUWLFurfv78cDoe5jYyMDM2YMUO7d++Wv7+/OnTooJSUFHl7e5ffUQEAAADAZVwKP2FhYUpJSVFkZKQMw9D69es1efJkTZ48WbVr19acOXO0bds2Pf/88woMDNSsWbM0depUjRs3TpJUWFioiRMnyuFwaPz48crMzNT06dPl7e2tlJSUCjlAAAAAAJBcvOztlltu0c0336zIyEhFRUXpgQcekL+/v3788Ufl5OTo888/V9++fdW0aVPVrVtXAwcO1A8//KDU1FRJ0vbt23Xs2DENHjxYsbGxSkxMVO/evbVy5Url5+dXyAECAAAAgOTiyM+lCgsL9dVXX+nChQuKj4/XwYMHVVBQoGbNmpnL1KpVS+Hh4UpNTVV8fLxSU1NVp04dp8vgEhISNHPmTB09elRxcXEl7isvL095eXnmZ5vNpoCAAPNrlE3RueKcoaLRa3AXeg3uQq8BlaP/XQ4/R44c0bBhw5SXlyd/f38NGTJE0dHROnz4sHx8fBQUFOS0fEhIiLKysiRJWVlZTsGnaH7RvNIsXrxYixYtMj/HxcVp0qRJql69uqvlQ1JERISnS4BF0GtwF3oN7kKvVR5HPV3ADSgyMtLTJVw3l8NPVFSUpkyZopycHH399dd68803NWbMmIqozdSzZ0917drV/FyUOk+dOsXlci6w2WyKiIhQenq6DMPwdDmoxOg1uAu9Bneh1wApLS3N0yWUyMfHp8yDIi6HHx8fH/O3HnXr1tWBAwf06aefKikpSfn5+Tp37pzT6E92drY52uNwOLR//36n7WVnZ5vzSmO322W320ucxz9ArjMMg/MGt6DX4C70GtyFXoOVVYbev+73/BQWFiovL09169aVt7e3du7cac47ceKEMjIyFB8fL0mKj4/XkSNHzMAjSTt27FBAQICio6OvtxQAAAAAKJVLIz/z5s1TQkKCwsPDlZubq40bN2rPnj0aNmyYAgMDlZycrLlz5yo4OFiBgYGaPXu24uPjzfDTokULRUdHa/r06erTp4+ysrL04YcfqkuXLqWO7AAAAABAeXAp/GRnZ+vNN99UZmamAgMDFRMTo2HDhql58+aSpL59+8pms2nq1KnKz883X3JaxMvLSy+++KJmzpyp4cOHy8/PTx06dFDv3r3L96gAAAAA4DI24wa+eO/UqVNOj8DGldlsNkVGRiotLa1SXLOJ3y96De5Cr8Fd6LXKp2BAN0+XcMPxnrHU0yWUyG63l/mBB9d9zw8AAAAA3AgIPwAAAAAsgfADAAAAwBIIPwAAAAAsgfADAAAAwBIIPwAAAAAsgfADAAAAwBIIPwAAAAAsgfADAAAAwBIIPwAAAAAsgfADAAAAwBIIPwAAAAAsgfADAAAAwBIIPwAAAAAsgfADAAAAwBIIPwAAAAAsgfADAAAAwBIIPwAAAAAsgfADAAAAwBIIPwAAAAAsgfADAAAAwBIIPwAAAAAsgfADAAAAwBIIPwAAAAAsgfADAAAAwBIIPwAAAAAsgfADAAAAwBIIPwAAAAAsgfADAAAAwBIIPwAAAAAsgfADAAAAwBIIPwAAAAAsgfADAAAAwBIIPwAAAAAsgfADAAAAwBIIPwAAAAAsgfADAAAAwBIIPwAAAAAsgfADAAAAwBIIPwAAAAAsgfADAAAAwBIIPwAAAAAsgfADAAAAwBJ8XFl48eLF+vbbb3X8+HH5+voqPj5eDz74oKKiosxlRo8erT179jit16lTJz3++OPm54yMDM2YMUO7d++Wv7+/OnTooJSUFHl7e1/n4QAAAABAyVwKP3v27FGXLl1Ur149FRQUaP78+Ro/frz+/ve/y9/f31zujjvuUO/evc3Pvr6+5teFhYWaOHGiHA6Hxo8fr8zMTE2fPl3e3t5KSUkph0MCAAAAgOJcuuxt2LBh6tixo2rXrq3Y2Fg9/fTTysjI0MGDB52W8/Pzk8PhMP8EBgaa87Zv365jx45p8ODBio2NVWJionr37q2VK1cqPz+/fI4KAAAAAC7j0sjP5XJyciRJwcHBTtO/+OILffHFF3I4HGrZsqXuvfde+fn5SZJSU1NVp04dORwOc/mEhATNnDlTR48eVVxcXLH95OXlKS8vz/xss9kUEBBgfo2yKTpXnDNUNHoN7kKvwV3oNaBy9P81h5/CwkK9++67atiwoerUqWNOb9++vcLDwxUWFqaffvpJH3zwgU6cOKEhQ4ZIkrKyspyCjySFhISY80qyePFiLVq0yPwcFxenSZMmqXr16tdavqVFRER4ugRYBL0Gd6HX4C70WuVx1NMF3IAiIyM9XcJ1u+bwM2vWLB09elRjx451mt6pUyfz6zp16ig0NFRjx45Venr6Nf+D0bNnT3Xt2tX8XJQ6T506xaVyLrDZbIqIiFB6eroMw/B0OajE6DW4C70Gd6HXACktLc3TJZTIx8enzIMi1xR+Zs2apW3btmnMmDGqVq3aFZetX7++JJnhx+FwaP/+/U7LZGdnS1KxEaEidrtddru9xHn8A+Q6wzA4b3ALeg3uQq/BXeg1WFll6H2XHnhgGIZmzZqlb7/9ViNHjlSNGjWuus7hw4clSaGhoZKk+Ph4HTlyxAw8krRjxw4FBAQoOjralXIAAAAAoMxcGvmZNWuWNm7cqKFDhyogIMC8RycwMFC+vr5KT0/Xxo0bdfPNNys4OFhHjhzRnDlz1LhxY8XExEiSWrRooejoaE2fPl19+vRRVlaWPvzwQ3Xp0qXU0R0AAAAAuF4uhZ9Vq1ZJ+u1FppcaOHCgOnbsKB8fH+3cuVOffvqpLly4oGrVqqlNmza65557zGW9vLz04osvaubMmRo+fLj8/PzUoUMHp/cCAQAAAEB5cyn8LFy48Irzw8PDNWbMmKtup3r16nrppZdc2TUAAAAAXBeX7vkBAAAAgBsV4QcAAACAJRB+AAAAAFgC4QcAAACAJRB+AAAAAFgC4QcAAACAJRB+AAAAAFgC4QcAAACAJRB+AAAAAFgC4QcAAACAJRB+AAAAAFgC4QcAAACAJRB+AAAAAFgC4QcAAACAJRB+AAAAAFgC4QcAAACAJRB+AAAAAFgC4QcAAACAJRB+AAAAAFgC4QcAAACAJRB+AAAAAFgC4QcAAACAJRB+AAAAAFgC4QcAAACAJRB+AAAAAFgC4QcAAACAJRB+AAAAAFgC4QcAAACAJRB+AAAAAFgC4QcAAACAJRB+AAAAAFgC4QcAAACAJRB+AAAAAFgC4QcAAACAJRB+AAAAAFgC4QcAAACAJRB+AAAAAFgC4QcAAACAJRB+AAAAAFgC4QcAAACAJRB+AAAAAFgC4QcAAACAJRB+AAAAAFgC4QcAAACAJfi4svDixYv17bff6vjx4/L19VV8fLwefPBBRUVFmctcvHhRc+fO1aZNm5SXl6cWLVqof//+cjgc5jIZGRmaMWOGdu/eLX9/f3Xo0EEpKSny9vYutwMDAAAAgEu5NPKzZ88edenSRRMmTNDw4cNVUFCg8ePHKzc311xmzpw52rp1q55//nmNGTNGmZmZmjp1qjm/sLBQEydOVH5+vsaPH6+nn35a69at04IFC8rvqAAAAADgMi6Fn2HDhqljx46qXbu2YmNj9fTTTysjI0MHDx6UJOXk5Ojzzz9X37591bRpU9WtW1cDBw7UDz/8oNTUVEnS9u3bdezYMQ0ePFixsbFKTExU7969tXLlSuXn55f/EQIAAACAXLzs7XI5OTmSpODgYEnSwYMHVVBQoGbNmpnL1KpVS+Hh4UpNTVV8fLxSU1NVp04dp8vgEhISNHPmTB09elRxcXHF9pOXl6e8vDzzs81mU0BAgPk1yqboXHHOUNHoNbgLvQZ3odeAytH/1xx+CgsL9e6776phw4aqU6eOJCkrK0s+Pj4KCgpyWjYkJERZWVnmMpcGn6L5RfNKsnjxYi1atMj8HBcXp0mTJql69erXWr6lRUREeLoEWAS9Bneh1+Au9FrlcdTTBdyAIiMjPV3Cdbvm8DNr1iwdPXpUY8eOLc96StSzZ0917drV/FyUOk+dOsWlci6w2WyKiIhQenq6DMPwdDmoxOg1uAu9Bneh1wApLS3N0yWUyMfHp8yDItcUfmbNmqVt27ZpzJgxqlatmjnd4XAoPz9f586dcxr9yc7ONkd7HA6H9u/f77S97Oxsc15J7Ha77HZ7ifP4B8h1hmFw3uAW9BrchV6Du9BrsLLK0PsuPfDAMAzNmjVL3377rUaOHKkaNWo4za9bt668vb21c+dOc9qJEyeUkZGh+Ph4SVJ8fLyOHDliBh5J2rFjhwICAhQdHX09xwIAAAAApXJp5GfWrFnauHGjhg4dqoCAAPMencDAQPn6+iowMFDJycmaO3eugoODFRgYqNmzZys+Pt4MPy1atFB0dLSmT5+uPn36KCsrSx9++KG6dOlS6ugOAAAAAFwvl8LPqlWrJEmjR492mj5w4EB17NhRktS3b1/ZbDZNnTpV+fn55ktOi3h5eenFF1/UzJkzNXz4cPn5+alDhw7q3bv39R0JAAAAAFyBzbiBL947deqU0yOwcWU2m02RkZFKS0urFNds4veLXoO70GtwF3qt8ikY0M3TJdxwvGcs9XQJJbLb7WV+4IFL9/wAAAAAwI2K8AMAAADAEgg/AAAAACyB8AMAAADAEgg/AAAAACyB8AMAAADAEgg/AAAAACyB8AMAAADAEgg/AAAAACyB8AMAAADAEgg/AAAAACyB8AMAAADAEgg/AAAAACyB8AMAAADAEgg/AAAAACyB8AMAAADAEgg/AAAAACyB8AMAAADAEgg/AAAAACyB8AMAAADAEgg/AAAAACyB8AMAAADAEgg/AAAAACyB8AMAAADAEgg/AAAAACyB8AMAAADAEgg/AAAAACyB8AMAAADAEgg/AAAAACyB8AMAAADAEgg/AAAAACyB8AMAAADAEgg/AAAAACyB8AMAAADAEgg/AAAAACyB8AMAAADAEgg/AAAAACyB8AMAAADAEgg/AAAAACyB8AMAAADAEgg/AAAAACyB8AMAAADAEgg/AAAAACzBx9UV9uzZo6VLl+rQoUPKzMzUkCFD1Lp1a3P+m2++qfXr1zut06JFCw0bNsz8fPbsWc2ePVtbt26VzWZTmzZt9Oijj8rf3/86DgUAAAAASudy+Llw4YJiY2OVnJys1157rcRlEhISNHDgwP/biY/zbqZNm6bMzEwNHz5cBQUFeuutt/T222/r2WefdbUcAAAAACgTl8NPYmKiEhMTr7xRHx85HI4S5x07dkzff/+9Jk6cqHr16kmS+vXrp4kTJ+qhhx5SWFiYqyUBAAAAwFW5HH7KYs+ePerfv7+CgoLUtGlT3X///apSpYokKTU1VUFBQWbwkaRmzZrJZrNp//79TpfQFcnLy1NeXp752WazKSAgwPwaZVN0rjhnqGj0GtyFXoO70GtA5ej/cg8/CQkJatOmjWrUqKH09HTNnz9fr7zyiiZMmCAvLy9lZWWpatWqTut4e3srODhYWVlZJW5z8eLFWrRokfk5Li5OkyZNUvXq1cu7fEuIiIjwdAmwCHoN7kKvwV3otcrjqKcLuAFFRkZ6uoTrVu7hp127dubXderUUUxMjAYPHqzdu3erWbNm17TNnj17qmvXrubnotR56tQp5efnX1/BFmKz2RQREaH09HQZhuHpclCJ0WtwF3oN7kKvAVJaWpqnSyiRj49PmQdFKuSyt0vVrFlTVapUUXp6upo1ayaHw6EzZ844LVNQUKCzZ8+Wep+Q3W6X3W4vcR7/ALnOMAzOG9yCXoO70GtwF3oNVlYZer/C3/Pzyy+/6OzZswoNDZUkxcfH69y5czp48KC5zK5du2QYhurXr1/R5QAAAACwKJdHfnJzc5Wenm5+/vnnn3X48GEFBwcrODhY//nPf9SmTRs5HA6dPHlS77//viIiItSiRQtJUnR0tBISEvT2229rwIABys/P1+zZs5WUlMST3gAAAABUGJfDz4EDBzRmzBjz89y5cyVJHTp00IABA3TkyBGtX79e586dU1hYmJo3b67evXs7Xbb2zDPPaNasWRo7dqz5ktN+/fqVw+EAAAAAQMlcDj9NmjTRwoULS50/bNiwq24jODiYF5oCAAAAcKsKv+cHAAAAAH4PCD8AAAAALIHwAwAAAMASCD8AAAAALIHwAwAAAMASCD8AAAAALIHwAwAAAMASCD8AAAAALIHwAwAAAMASCD8AAAAALIHwAwAAAMASCD8AAAAALIHwAwAAAMASCD8AAAAALIHwAwAAAMASCD8AAAAALIHwAwAAAMASCD8AAAAALIHwAwAAAMASCD8AAAAALIHwAwAAAMASCD8AAAAALIHwAwAAAMASCD8AAAAALIHwAwAAAMASCD8AAAAALIHwAwAAAMASCD8AAAAALIHwAwAAAMASCD8AAAAALIHwAwAAAMASCD8AAAAALIHwAwAAAMASCD8AAAAALIHwAwAAAMASCD8AAAAALIHwAwAAAMASCD8AAAAALIHwAwAAAMASCD8AAAAALIHwAwAAAMASCD8AAAAALIHwAwAAAMASfFxdYc+ePVq6dKkOHTqkzMxMDRkyRK1btzbnG4ahhQsXas2aNTp37pwaNWqk/v37KzIy0lzm7Nmzmj17trZu3SqbzaY2bdro0Ucflb+/f/kcFQAAAABcxuWRnwsXLig2NlaPPfZYifM//vhjLV++XAMGDNArr7wiPz8/TZgwQRcvXjSXmTZtmo4eParhw4frxRdf1N69e/X2229f+1EAAAAAwFW4HH4SExN1//33O432FDEMQ59++qnuuecetWrVSjExMRo0aJAyMzO1efNmSdKxY8f0/fff68knn1SDBg3UqFEj9evXT5s2bdLp06ev/4gAAAAAoAQuX/Z2JT///LOysrLUvHlzc1pgYKDq16+v1NRUtWvXTqmpqQoKClK9evXMZZo1ayabzab9+/eXGKry8vKUl5dnfrbZbAoICDC/RtkUnSvOGSoavQZ3odfgLvQaUDn6v1zDT1ZWliQpJCTEaXpISIg5LysrS1WrVnWa7+3treDgYHOZyy1evFiLFi0yP8fFxWnSpEmqXr16udVuJREREZ4uARZBr8Fd6DW4C71WeRz1dAE3oEvv4b9RlWv4qSg9e/ZU165dzc9FqfPUqVPKz8/3VFk3HJvNpoiICKWnp8swDE+Xg0qMXoO70GtwF3oNkNLS0jxdQol8fHzKPChSruHH4XBIkrKzsxUaGmpOz87OVmxsrLnMmTNnnNYrKCjQ2bNnzfUvZ7fbZbfbS5zHP0CuMwyD8wa3oNfgLvQa3IVeg5VVht4v1/f81KhRQw6HQzt37jSn5eTkaP/+/YqPj5ckxcfH69y5czp48KC5zK5du2QYhurXr1+e5QAAAACAyeWRn9zcXKWnp5uff/75Zx0+fFjBwcEKDw/Xn/70J/3v//6vIiMjVaNGDX344YcKDQ1Vq1atJEnR0dFKSEjQ22+/rQEDBig/P1+zZ89WUlKSwsLCyu/IAAAAAOASLoefAwcOaMyYMebnuXPnSpI6dOigp59+Wt27d9eFCxf09ttvKycnR40aNdLLL78sX19fc51nnnlGs2bN0tixY82XnPbr168cDgcAAAAASmYzbuCL906dOuX0CGxcmc1mU2RkpNLS0irFNZv4/aLX4C70GtyFXqt8CgZ083QJNxzvGUs9XUKJ7HZ7mR94UK73/AAAAADA7xXhBwAAAIAlEH4AAAAAWALhBwAAAIAlEH4AAAAAWALhBwAAAIAlEH4AAAAAWALhBwAAAIAlEH4AAAAAWALhBwAAAIAlEH4AAAAAWALhBwAAAIAlEH4AAAAAWALhBwAAAIAlEH4AAAAAWALhBwAAAIAlEH4AAAAAWALhBwAAAIAlEH4AAAAAWALhBwAAAIAlEH4AAAAAWALhBwAAAIAlEH4AAAAAWALhBwAAAIAlEH4AAAAAWIKPpwsAAAAoUjCgm6dLKNVRTxdQCu8ZSz1dAnDDYOQHAAAAgCUQfgAAAABYAuEHAAAAgCUQfgAAAABYAuEHAAAAgCUQfgAAAABYAuEHAAAAgCUQfgAAAABYAuEHAAAAgCUQfgAAAABYAuEHAAAAgCUQfgAAAABYAuEHAAAAgCUQfgAAAABYAuEHAAAAgCUQfgAAAABYAuEHAAAAgCX4lPcGFy5cqEWLFjlNi4qK0uuvvy5JunjxoubOnatNmzYpLy9PLVq0UP/+/eVwOMq7FAAAAAAwlXv4kaTatWtrxIgR5mcvr/8bYJozZ462bdum559/XoGBgZo1a5amTp2qcePGVUQpAAAAACCpgi578/LyksPhMP9UrVpVkpSTk6PPP/9cffv2VdOmTVW3bl0NHDhQP/zwg1JTUyuiFAAAAACQVEEjP+np6XriiSdkt9sVHx+vlJQUhYeH6+DBgyooKFCzZs3MZWvVqqXw8HClpqYqPj6+xO3l5eUpLy/P/Gyz2RQQEGB+jbIpOlecM1Q0eg3uQq8B9D/cpzL0WrmHnwYNGmjgwIGKiopSZmamFi1apJEjR2rq1KnKysqSj4+PgoKCnNYJCQlRVlZWqdtcvHix031EcXFxmjRpkqpXr17e5VtCRESEp0uARdBrcBd6rfI46ukCbkCRkZGeLuGGRK+5rjL0WrmHn8TERPPrmJgYMwx99dVX8vX1vaZt9uzZU127djU/F6XOU6dOKT8///oKthCbzaaIiAilp6fLMAxPl4NKjF6Du9BrgJSWlubpEmARv9de8/HxKfOgSIVc9napoKAgRUVFKT09Xc2bN1d+fr7OnTvnNPqTnZ19xae92e122e32Eufxn53rDMPgvMEt6DW4C70GK6P34S6Vodcq/D0/ubm5Sk9Pl8PhUN26deXt7a2dO3ea80+cOKGMjIxS7/cBAAAAgPJQ7iM/c+fO1S233KLw8HBlZmZq4cKF8vLyUvv27RUYGKjk5GTNnTtXwcHBCgwM1OzZsxUfH0/4AQAAAFChyj38nD59Wm+88YZ+/fVXVa1aVY0aNdKECRPMx1337dtXNptNU6dOVX5+vvmSUwAAAACoSOUefp577rkrzvf19VX//v0JPAAAAADcqsLv+QEAAACA3wPCDwAAAABLIPwAAAAAsATCDwAAAABLIPwAAAAAsATCDwAAAABLIPwAAAAAsIRyf88PAKDyKRjQzdMllOqopwsohfeMpZ4uAQBwGcJPBeCHBNfxQwIAAAAqGpe9AQAAALAEwg8AAAAASyD8AAAAALAEwg8AAAAASyD8AAAAALAEwg8AAAAASyD8AAAAALAEwg8AAAAASyD8AAAAALAEwg8AAAAASyD8AAAAALAEwg8AAAAASyD8AAAAALAEwg8AAAAASyD8AAAAALAEwg8AAAAASyD8AAAAALAEwg8AAAAAS/DxdAEArl3BgG6eLqFURz1dQCm8Zyz1dAkAAMBDGPkBAAAAYAmEHwAAAACWQPgBAAAAYAmEHwAAAACWQPgBAAAAYAmEHwAAAACWQPgBAAAAYAmEHwAAAACWQPgBAAAAYAmEHwAAAACWQPgBAAAAYAmEHwAAAACWQPgBAAAAYAmEHwAAAACWQPgBAAAAYAk+ntz5ihUrtGzZMmVlZSkmJkb9+vVT/fr1PVkSAAAAgErKYyM/mzZt0ty5c3Xfffdp0qRJiomJ0YQJE5Sdne2pkgAAAABUYh4LP//97391xx136Pbbb1d0dLQGDBggX19frV271lMlAQAAAKjEPHLZW35+vg4ePKgePXqY07y8vNSsWTOlpqYWWz4vL095eXnmZ5vNpoCAAPn4ePSqvVJ51Wvo6RJuON52u6dLuCHRa66j164NveY6eu3a0Guuo9euDb3mut9rr7mSCTySHs6cOaPCwkI5HA6n6Q6HQydOnCi2/OLFi7Vo0SLzc7t27fTss88qNDS0oku9NtM+8HQFsAp6De5Cr8Fd6DW4C71mSTfE09569uypd9991/wzYMAAp5EglM358+f1wgsv6Pz5854uBZUcvQZ3odfgLvQa3IVeq1geGfmpWrWqvLy8lJWV5TQ9Kyur2GiQJNntdtl/p8NsNxLDMHTo0CEZhuHpUlDJ0WtwF3oN7kKvwV3otYrlkZEfHx8f1a1bV7t27TKnFRYWateuXYqPj/dESQAAAAAqOY89MaBr16568803VbduXdWvX1+ffvqpLly4oI4dO3qqJAAAAACVmMfCT1JSks6cOaOFCxcqKytLsbGxevnll0u87A3lw26367777uMSQlQ4eg3uQq/BXeg1uAu9VrFsBhcUAgAAALCAG+JpbwAAAABwvQg/AAAAACyB8AMAAADAEgg/AAAAACyB8AMAAHAVPB8KqBwIPwAAAFeRkpKiY8eOeboMANfJY+/5gWdlZGRo4cKFGjhwoKdLQSVw8eJFHTx4UMHBwYqOji4276uvvlKHDh08VB0qk2PHjunHH39UfHy8atWqpePHj+vTTz9VXl6ebrvtNjVt2tTTJeIGN2fOnBKnFxYWasmSJapSpYokqW/fvu4sCxaRm5urr776Sunp6QoNDVW7du3MnkP5IPxY1NmzZ7V+/XrCD67biRMnNGHCBGVkZEiSGjVqpOeee06hoaGSpJycHL311luEH1y377//XpMnT5a/v78uXLigv/3tb5o+fbpiYmJkGIbGjx+v4cOHE4BwXT799FPFxMQoKCio2Lzjx4/L39/fA1WhsvrLX/6icePGKTg4WBkZGRo1apTOnTunyMhInTx5Uh999JEmTJigGjVqeLrUSoPwU0lt2bLlivNPnjzppkpQ2X3wwQeqXbu2Jk6cqJycHL377rsaMWKERo8erfDwcE+Xh0pk0aJF6tatm+6//359+eWXeuONN9S5c2c98MADkqR58+ZpyZIlhB9clwceeECfffaZHn74YadeeuCBB/T0008XG90GrseJEydUUFAg6bd/w8LCwjRlyhQFBgYqNzdXU6ZM0fz58/Xss896uNLKg/BTSU2ZMsXTJcAiUlNTNWLECFWtWlVVq1bVCy+8oJkzZ2rkyJEaNWqU/Pz8PF0iKomjR49q0KBBkqS2bdtq+vTpuvXWW8357du319q1az1VHiqJHj16qGnTpvrnP/+pli1bKiUlRT4+/LiEivfjjz9qwIABCgwMlCT5+/urV69eev311z1bWCXD3+ZKyuFwqH///mrVqlWJ8w8fPqwXXnjBzVWhMrp48aK8vP7v2Sk2m00DBgzQrFmzNHr0aD3zzDMerA6VlZeXl+x2u/lDgiQFBAQoJyfHg1Whsqhfv74mTZqkmTNn6qWXXtLgwYM9XRIqMZvNJum3/08dDofTvLCwMJ05c8YDVVVehJ9Kqm7dujp48GCp4QcoL1FRUTp48GCxS0Eee+wxSdLkyZM9URYqoRo1aig9PV0RERGSpPHjxztdWpmRkWHeawZcL39/fw0aNEhffvmlxo0bp8LCQk+XhEpq7Nix8vb21vnz53XixAnVqVPHnHfq1CkeeFDOCD+VVLdu3XThwoVS50dERGjUqFFurAiVVevWrfXll1/qtttuKzbvsccek2EYWr16tQcqQ2Xzxz/+0ekH0Et/QJCk7777jvt9UO7atWunRo0a6eDBg9zHiHJ33333OX2+/IEaW7duVaNGjdxZUqVnM3hrFwAAAAAL4CWnAAAAACyB8AMAAADAEgg/AAAAACyB8AMAcIt169apV69e+vnnnz1dCgDAonjaGwBYyLp16/TWW2+Zn728vBQSEqLmzZvrgQceUFhYmAerc58tW7Zo2bJlOn78uHJzc+VwOFS3bl0lJycrISFBknT69Gl99tlnat26tWJjYz1aLwCgfBB+AMCCevXqpRo1aigvL08//vij1q1bp3379mnq1Kny9fWtkH3edtttSkpKkt1ur5Dtl9XSpUv1/vvv66abblKPHj3k5+en9PR07dy5U19++aUZfjIzM7Vo0SLVqFGD8AMAlQThBwAsKDExUfXq1ZMk3XHHHapSpYo+/vhjbdmyRUlJSRWyTy8vrwoLVmVVUFCgjz76SM2bN9fw4cOLzc/Ozq7wGnJzc4u9ywMA4B7c8wMAUOPGjSVJJ0+edJp+/PhxTZ06VY8++qj69OmjF198UVu2bDHnHzhwQL169dK6deuKbfP7779Xr169tHXrVkml3/Pz3XffaeTIkXrooYf08MMPa+LEiTp69Kg5f8uWLerVq5d++uknc9rXX3+tXr166bXXXnPa1l/+8hf94x//KPU4f/31V50/f14NGzYscX5ISIgkaffu3XrppZckSW+99ZZ69erldJx79+7V3//+dz311FNKSUnRU089pXfffVcXL1502t6bb76phx56SOnp6Zo4caIefvhhTZs2TZKUlpam1157TQMGDFCfPn305JNP6vXXX1dOTk6p9QMArg/hBwBgBpKgoCBz2tGjRzVs2DAdP35cPXr00EMPPSQ/Pz9NmTJF3377rSSpXr16qlmzpr766qti29y0aZOCgoLUokWLUve7YcMGvfrqq/L391efPn1077336tixYxo5cqRZU6NGjWSz2bR3715zvX379slms2nfvn3mtDNnzuj48eNmkCtJ1apV5evrq61bt+rs2bOlLlerVi316tVLktSpUycNGjRIgwYNMrf91Vdf6cKFC+rcubP69eunFi1aaMWKFZo+fXqxbRUWFmrChAmqWrWqHnroId16663Kz8/XhAkT9OOPP+quu+7SY489pk6dOunkyZM6d+5cqXUBAK4Pl70BgAXl5OTozJkz5j0/ixYtkt1uV8uWLc1l3n33XYWHh2vixInmfTpdunTRyJEj9cEHH6h169aSpLZt22rZsmU6e/asgoODJUn5+fnavHmzWrduLR+fkv+ryc3N1TvvvKPk5GQ98cQT5vQOHTroueee0+LFi/XEE08oODhY0dHR2rt3r+68805Jv428tGnTRl9//bWOHz+uWrVqmUHoSuHHy8tL3bp106JFi/TUU0/ppptuUsOGDZWQkKC6deuayzkcDiUmJmrhwoWKj4/Xbbfd5rSdBx980OkSvk6dOikiIkLz589XRkaGwsPDzXl5eXlq27atUlJSzGmHDx/Wzz//rOeff1633nqrOf2+++4rtXYAwPUj/ACABY0bN87pc/Xq1TV48GBVq1ZNknT27Fnt2rVLvXr10vnz53X+/Hlz2RYtWmjhwoU6ffq0wsLClJSUpCVLlujbb79VcnKyJGn79u06d+7cFe8f2rFjh86dO6d27drpzJkz5nQvLy81aNBAu3fvNqc1atTIvNzu/Pnz+umnn9SnTx/t3r1be/fuVa1atbR3714FBQWpdu3aVzz2Xr16KSoqSqtWrdL333+v7777Th9++KHi4uI0ePBgRUdHX/X8XRp8cnNzdfHiRcXHx8swDB06dMgp/EhS586dnT4HBgZK+u3SwMTERPn5+V11nwCA60f4AQALeuyxxxQZGamcnBytXbtWe/fudXoKW3p6ugzD0IIFC7RgwYISt5Gdna2wsDDFxsaqVq1a2rRpkxl+Nm3apCpVqqhp06al1pCWliZJGjt2bInzAwICzK8bN26s1atXKz09Xenp6bLZbIqPj1fjxo21b98+derUSfv27VPDhg3l5XX1K7rbt2+v9u3bKycnR/v379e6deu0ceNGTZo0qUxPvMvIyNCCBQu0ZcuWYpepXX7Pjre3d7FHiNeoUUNdu3bVf//7X23cuFGNGzdWy5Ytddttt5nBCABQ/gg/AGBB9evXN5/21rp1a40YMUJvvPGG3njjDfn7+6uwsFCS9Oc//7nUe3YiIiLMr9u2bavFixfrzJkzCggI0JYtW9SuXTt5e3uXWoNhGJKkQYMGyeFwFJt/6bqNGjWSJO3Zs0c///yz4uLi5O/vr0aNGmn58uXKzc3VoUOHdP/997t0HgIDA9W8eXM1b95c3t7eWr9+vfbv36+bbrqp1HUKCws1btw4nT17Vt27d1etWrXk5+en06dP66233jKPq4iPj0+Jgezhhx9Wx44dtXnzZu3YsUPvvPOOlixZogkTJpgjcACA8kX4AQCL8/LyUkpKisaMGaMVK1aoR48eqlmzpqTfAkjz5s2vuo2kpCQtWrRI33zzjUJCQnT+/Hm1a9fuiusU7aPoJatXEh4ervDwcO3bt08nT540w9BNN92kuXPn6quvvlJhYeEVQ8vV1KtXT+vXr1dmZqYkyWazlbjckSNHlJaWpqefflodOnQwp+/YscPlfdapU0d16tTRvffeqx9++EEjRozQ6tWrXQ5xAICy4WlvAAA1adJE9evX1yeffKKLFy8qJCRETZo00WeffWaGgUtdeo+OJEVHR6tOnTratGmTNm3apNDQ0Cs+eED67d6hgIAALV68WPn5+VfdR6NGjbRr1y7t37/f3HZsbKwCAgK0ZMkS+fr6Oj20oCQXLlxQampqifO+++47SVJUVJQkmffhXH5ZW9EozqUjPIZh6NNPP73ivi+Vk5OjgoICp2l16tSRzWZTXl5embcDAHANIz8AAElSt27d9Pe//13r1q1T586d9dhjj2nEiBEaMmSI7rjjDtWoUUPZ2dlKTU3V6dOnNWXKFKf1k5KStGDBAvn6+ur222+/6r03gYGBGjBggP75z3/qhRdeULt27VS1alVlZGRo27ZtatiwoR577DFz+caNG2vjxo2y2WzmyI+Xl5fi4+O1fft2NWnSpNQnyxW5cOGChg8frgYNGighIUHVqlVTTk6ONm/erL1796pVq1aKi4uT9NvIVFBQkFavXq2AgAD5+fmpQYMGioqKUs2aNfXee+/p9OnTCgwM1DfffHPFR2dfbteuXZo9e7ZuvfVWRUVFqaCgQBs2bJCXl5fatGlT5u0AAFxD+AEASPrt3p+aNWtq2bJl6tSpk6Kjo/Xqq6/qP//5j9atW6dff/1VISEhio2N1b333lts/aSkJH344Ye6cOHCFZ/ydqn27dsrNDRUS5Ys0dKlS5WXl6ewsDA1btxYt99+u9OyRaM9UVFRqlKlitP07du3m4HoSoKCgvTEE09o27ZtWrdunbKysuTl5aWoqCg9+OCD+tOf/mQu6+Pjo6efflrz5s3TjBkzVFBQoIEDB6pjx4564YUXzHt07Ha7WrdurTvvvFN/+9vfynTcsbGxatGihbZu3arVq1fLz89PMTExevnllxUfH1+mbQAAXGczLr8zEwAAAAAqIe75AQAAAGAJhB8AAAAAlkD4AQAAAGAJhB8AAAAAlkD4AQAAAGAJhB8AAAAAlkD4AQAAAGAJhB8AAAAAlkD4AQAAAGAJhB8AAAAAlkD4AQAAAGAJhB8AAAAAlkD4AQAAAGAJ/x8CIZBtx5eECwAAAABJRU5ErkJggg==",
      "text/plain": [
       "<Figure size 1000x500 with 1 Axes>"
      ]
     },
     "metadata": {},
     "output_type": "display_data"
    }
   ],
   "source": [
    "ax = df['Score'].value_counts().sort_index() \\\n",
    "    .plot(kind='bar',\n",
    "          title='Count of Reviews by Stars(1 to 5)',\n",
    "          figsize=(10, 5))\n",
    "ax.set_xlabel('Review Stars')\n",
    "plt.show()"
   ]
  },
  {
   "cell_type": "code",
   "execution_count": 35,
   "metadata": {},
   "outputs": [
    {
     "name": "stdout",
     "output_type": "stream",
     "text": [
      "Great taffy at a great price.  There was a wide assortment of yummy taffy.  Delivery was very quick.  If your a taffy lover, this is a deal.\n"
     ]
    }
   ],
   "source": [
    "example = df['Text'][4]\n",
    "print(example)"
   ]
  },
  {
   "cell_type": "code",
   "execution_count": 36,
   "metadata": {},
   "outputs": [
    {
     "name": "stdout",
     "output_type": "stream",
     "text": [
      "['Great', 'taffy', 'at', 'a', 'great', 'price', '.', 'There', 'was', 'a', 'wide', 'assortment', 'of', 'yummy', 'taffy', '.', 'Delivery', 'was', 'very', 'quick', '.', 'If', 'your', 'a', 'taffy', 'lover', ',', 'this', 'is', 'a', 'deal', '.']\n"
     ]
    }
   ],
   "source": [
    "tokens = nltk.word_tokenize(example)\n",
    "print(tokens)"
   ]
  },
  {
   "cell_type": "code",
   "execution_count": 37,
   "metadata": {},
   "outputs": [
    {
     "name": "stdout",
     "output_type": "stream",
     "text": [
      "[('Great', 'NNP'), ('taffy', 'NN'), ('at', 'IN'), ('a', 'DT'), ('great', 'JJ'), ('price', 'NN'), ('.', '.'), ('There', 'EX'), ('was', 'VBD'), ('a', 'DT'), ('wide', 'JJ'), ('assortment', 'NN'), ('of', 'IN'), ('yummy', 'NN'), ('taffy', 'NN'), ('.', '.'), ('Delivery', 'NNP'), ('was', 'VBD'), ('very', 'RB'), ('quick', 'JJ'), ('.', '.'), ('If', 'IN'), ('your', 'PRP$'), ('a', 'DT'), ('taffy', 'NN'), ('lover', 'NN'), (',', ','), ('this', 'DT'), ('is', 'VBZ'), ('a', 'DT'), ('deal', 'NN'), ('.', '.')]\n"
     ]
    },
    {
     "name": "stderr",
     "output_type": "stream",
     "text": [
      "[nltk_data] Downloading package averaged_perceptron_tagger to\n",
      "[nltk_data]     /Users/mac/nltk_data...\n",
      "[nltk_data]   Package averaged_perceptron_tagger is already up-to-\n",
      "[nltk_data]       date!\n"
     ]
    }
   ],
   "source": [
    "nltk.download('averaged_perceptron_tagger')\n",
    "tagged = nltk.pos_tag(tokens)\n",
    "print(tagged)"
   ]
  },
  {
   "cell_type": "code",
   "execution_count": 38,
   "metadata": {},
   "outputs": [
    {
     "name": "stdout",
     "output_type": "stream",
     "text": [
      "(S\n",
      "  (GPE Great/NNP)\n",
      "  taffy/NN\n",
      "  at/IN\n",
      "  a/DT\n",
      "  great/JJ\n",
      "  price/NN\n",
      "  ./.\n",
      "  There/EX\n",
      "  was/VBD\n",
      "  a/DT\n",
      "  wide/JJ\n",
      "  assortment/NN\n",
      "  of/IN\n",
      "  yummy/NN\n",
      "  taffy/NN\n",
      "  ./.\n",
      "  (PERSON Delivery/NNP)\n",
      "  was/VBD\n",
      "  very/RB\n",
      "  quick/JJ\n",
      "  ./.\n",
      "  If/IN\n",
      "  your/PRP$\n",
      "  a/DT\n",
      "  taffy/NN\n",
      "  lover/NN\n",
      "  ,/,\n",
      "  this/DT\n",
      "  is/VBZ\n",
      "  a/DT\n",
      "  deal/NN\n",
      "  ./.)\n"
     ]
    },
    {
     "name": "stderr",
     "output_type": "stream",
     "text": [
      "[nltk_data] Downloading package maxent_ne_chunker to\n",
      "[nltk_data]     /Users/mac/nltk_data...\n",
      "[nltk_data]   Package maxent_ne_chunker is already up-to-date!\n",
      "[nltk_data] Downloading package words to /Users/mac/nltk_data...\n",
      "[nltk_data]   Package words is already up-to-date!\n"
     ]
    }
   ],
   "source": [
    "nltk.download('maxent_ne_chunker')\n",
    "nltk.download('words')\n",
    "entities = nltk.chunk.ne_chunk(tagged)\n",
    "entities.pprint()"
   ]
  },
  {
   "cell_type": "code",
   "execution_count": 39,
   "metadata": {},
   "outputs": [
    {
     "name": "stderr",
     "output_type": "stream",
     "text": [
      "[nltk_data] Downloading package vader_lexicon to\n",
      "[nltk_data]     /Users/mac/nltk_data...\n",
      "[nltk_data]   Package vader_lexicon is already up-to-date!\n"
     ]
    },
    {
     "data": {
      "text/plain": [
       "True"
      ]
     },
     "execution_count": 39,
     "metadata": {},
     "output_type": "execute_result"
    }
   ],
   "source": [
    "from nltk.sentiment import SentimentIntensityAnalyzer\n",
    "from tqdm.notebook import tqdm\n",
    "nltk.download('vader_lexicon')"
   ]
  },
  {
   "cell_type": "code",
   "execution_count": 40,
   "metadata": {},
   "outputs": [
    {
     "data": {
      "text/plain": [
       "<nltk.sentiment.vader.SentimentIntensityAnalyzer at 0x13e947f10>"
      ]
     },
     "execution_count": 40,
     "metadata": {},
     "output_type": "execute_result"
    }
   ],
   "source": [
    "sia = SentimentIntensityAnalyzer()\n",
    "sia"
   ]
  },
  {
   "cell_type": "code",
   "execution_count": 41,
   "metadata": {},
   "outputs": [
    {
     "data": {
      "text/plain": [
       "{'neg': 0.0, 'neu': 0.508, 'pos': 0.492, 'compound': 0.4404}"
      ]
     },
     "execution_count": 41,
     "metadata": {},
     "output_type": "execute_result"
    }
   ],
   "source": [
    "sia.polarity_scores(\"Abdullah is a good boy\")"
   ]
  },
  {
   "cell_type": "code",
   "execution_count": 42,
   "metadata": {},
   "outputs": [
    {
     "data": {
      "text/plain": [
       "{'neg': 0.0, 'neu': 0.552, 'pos': 0.448, 'compound': 0.9468}"
      ]
     },
     "execution_count": 42,
     "metadata": {},
     "output_type": "execute_result"
    }
   ],
   "source": [
    "sia.polarity_scores(example)"
   ]
  },
  {
   "cell_type": "code",
   "execution_count": 43,
   "metadata": {},
   "outputs": [
    {
     "data": {
      "application/vnd.jupyter.widget-view+json": {
       "model_id": "284922b19349495fb5d61220835a0f7b",
       "version_major": 2,
       "version_minor": 0
      },
      "text/plain": [
       "  0%|          | 0/500 [00:00<?, ?it/s]"
      ]
     },
     "metadata": {},
     "output_type": "display_data"
    }
   ],
   "source": [
    "\n",
    "res ={}\n",
    "for i, row in tqdm(df.iterrows(), total=len(df)):\n",
    "    text = row['Text']\n",
    "    id = row['Id']\n",
    "    res[id] = sia.polarity_scores(text)\n",
    "    "
   ]
  },
  {
   "cell_type": "code",
   "execution_count": 44,
   "metadata": {},
   "outputs": [
    {
     "data": {
      "text/plain": [
       "{1: {'neg': 0.0, 'neu': 0.695, 'pos': 0.305, 'compound': 0.9441},\n",
       " 2: {'neg': 0.138, 'neu': 0.862, 'pos': 0.0, 'compound': -0.5664},\n",
       " 3: {'neg': 0.091, 'neu': 0.754, 'pos': 0.155, 'compound': 0.8265},\n",
       " 4: {'neg': 0.0, 'neu': 1.0, 'pos': 0.0, 'compound': 0.0},\n",
       " 5: {'neg': 0.0, 'neu': 0.552, 'pos': 0.448, 'compound': 0.9468},\n",
       " 6: {'neg': 0.029, 'neu': 0.809, 'pos': 0.163, 'compound': 0.883},\n",
       " 7: {'neg': 0.034, 'neu': 0.693, 'pos': 0.273, 'compound': 0.9346},\n",
       " 8: {'neg': 0.0, 'neu': 0.52, 'pos': 0.48, 'compound': 0.9487},\n",
       " 9: {'neg': 0.0, 'neu': 0.851, 'pos': 0.149, 'compound': 0.6369},\n",
       " 10: {'neg': 0.0, 'neu': 0.705, 'pos': 0.295, 'compound': 0.8313},\n",
       " 11: {'neg': 0.017, 'neu': 0.846, 'pos': 0.137, 'compound': 0.9746},\n",
       " 12: {'neg': 0.113, 'neu': 0.887, 'pos': 0.0, 'compound': -0.7579},\n",
       " 13: {'neg': 0.031, 'neu': 0.923, 'pos': 0.046, 'compound': 0.296},\n",
       " 14: {'neg': 0.0, 'neu': 0.355, 'pos': 0.645, 'compound': 0.9466},\n",
       " 15: {'neg': 0.104, 'neu': 0.632, 'pos': 0.264, 'compound': 0.6486},\n",
       " 16: {'neg': 0.0, 'neu': 0.861, 'pos': 0.139, 'compound': 0.5719},\n",
       " 17: {'neg': 0.097, 'neu': 0.694, 'pos': 0.209, 'compound': 0.7481},\n",
       " 18: {'neg': 0.0, 'neu': 0.61, 'pos': 0.39, 'compound': 0.8883},\n",
       " 19: {'neg': 0.012, 'neu': 0.885, 'pos': 0.103, 'compound': 0.8957},\n",
       " 20: {'neg': 0.0, 'neu': 0.863, 'pos': 0.137, 'compound': 0.6077},\n",
       " 21: {'neg': 0.0, 'neu': 0.865, 'pos': 0.135, 'compound': 0.6249},\n",
       " 22: {'neg': 0.0, 'neu': 0.739, 'pos': 0.261, 'compound': 0.9153},\n",
       " 23: {'neg': 0.0, 'neu': 0.768, 'pos': 0.232, 'compound': 0.7687},\n",
       " 24: {'neg': 0.085, 'neu': 0.771, 'pos': 0.143, 'compound': 0.2617},\n",
       " 25: {'neg': 0.038, 'neu': 0.895, 'pos': 0.068, 'compound': 0.3939},\n",
       " 26: {'neg': 0.0, 'neu': 1.0, 'pos': 0.0, 'compound': 0.0},\n",
       " 27: {'neg': 0.128, 'neu': 0.872, 'pos': 0.0, 'compound': -0.296},\n",
       " 28: {'neg': 0.04, 'neu': 0.808, 'pos': 0.152, 'compound': 0.5956},\n",
       " 29: {'neg': 0.022, 'neu': 0.669, 'pos': 0.309, 'compound': 0.9913},\n",
       " 30: {'neg': 0.017, 'neu': 0.846, 'pos': 0.137, 'compound': 0.9746},\n",
       " 31: {'neg': 0.041, 'neu': 0.692, 'pos': 0.267, 'compound': 0.9713},\n",
       " 32: {'neg': 0.0, 'neu': 0.484, 'pos': 0.516, 'compound': 0.9153},\n",
       " 33: {'neg': 0.069, 'neu': 0.839, 'pos': 0.092, 'compound': 0.7103},\n",
       " 34: {'neg': 0.024, 'neu': 0.72, 'pos': 0.256, 'compound': 0.9779},\n",
       " 35: {'neg': 0.0, 'neu': 0.874, 'pos': 0.126, 'compound': 0.9091},\n",
       " 36: {'neg': 0.024, 'neu': 0.821, 'pos': 0.155, 'compound': 0.7622},\n",
       " 37: {'neg': 0.0, 'neu': 0.754, 'pos': 0.246, 'compound': 0.9196},\n",
       " 38: {'neg': 0.0, 'neu': 0.938, 'pos': 0.062, 'compound': 0.4457},\n",
       " 39: {'neg': 0.05, 'neu': 0.846, 'pos': 0.104, 'compound': 0.7638},\n",
       " 40: {'neg': 0.0, 'neu': 0.856, 'pos': 0.144, 'compound': 0.8114},\n",
       " 41: {'neg': 0.033, 'neu': 0.82, 'pos': 0.147, 'compound': 0.9301},\n",
       " 42: {'neg': 0.03, 'neu': 0.848, 'pos': 0.122, 'compound': 0.9435},\n",
       " 43: {'neg': 0.0, 'neu': 0.588, 'pos': 0.412, 'compound': 0.9441},\n",
       " 44: {'neg': 0.0, 'neu': 0.685, 'pos': 0.315, 'compound': 0.9161},\n",
       " 45: {'neg': 0.031, 'neu': 0.778, 'pos': 0.191, 'compound': 0.8421},\n",
       " 46: {'neg': 0.0, 'neu': 1.0, 'pos': 0.0, 'compound': 0.0},\n",
       " 47: {'neg': 0.0, 'neu': 0.737, 'pos': 0.263, 'compound': 0.9169},\n",
       " 48: {'neg': 0.0, 'neu': 0.868, 'pos': 0.132, 'compound': 0.4404},\n",
       " 49: {'neg': 0.0, 'neu': 0.821, 'pos': 0.179, 'compound': 0.747},\n",
       " 50: {'neg': 0.056, 'neu': 0.865, 'pos': 0.079, 'compound': 0.2363},\n",
       " 51: {'neg': 0.22, 'neu': 0.78, 'pos': 0.0, 'compound': -0.5448},\n",
       " 52: {'neg': 0.047, 'neu': 0.735, 'pos': 0.218, 'compound': 0.9194},\n",
       " 53: {'neg': 0.09, 'neu': 0.858, 'pos': 0.052, 'compound': -0.8259},\n",
       " 54: {'neg': 0.075, 'neu': 0.925, 'pos': 0.0, 'compound': -0.3612},\n",
       " 55: {'neg': 0.0, 'neu': 0.857, 'pos': 0.143, 'compound': 0.8761},\n",
       " 56: {'neg': 0.071, 'neu': 0.708, 'pos': 0.221, 'compound': 0.8908},\n",
       " 57: {'neg': 0.029, 'neu': 0.694, 'pos': 0.277, 'compound': 0.908},\n",
       " 58: {'neg': 0.0, 'neu': 0.701, 'pos': 0.299, 'compound': 0.91},\n",
       " 59: {'neg': 0.0, 'neu': 0.611, 'pos': 0.389, 'compound': 0.9323},\n",
       " 60: {'neg': 0.0, 'neu': 0.638, 'pos': 0.362, 'compound': 0.8807},\n",
       " 61: {'neg': 0.0, 'neu': 0.9, 'pos': 0.1, 'compound': 0.4404},\n",
       " 62: {'neg': 0.0, 'neu': 0.741, 'pos': 0.259, 'compound': 0.8442},\n",
       " 63: {'neg': 0.0, 'neu': 1.0, 'pos': 0.0, 'compound': 0.0},\n",
       " 64: {'neg': 0.055, 'neu': 0.765, 'pos': 0.179, 'compound': 0.9817},\n",
       " 65: {'neg': 0.046, 'neu': 0.75, 'pos': 0.205, 'compound': 0.8674},\n",
       " 66: {'neg': 0.04, 'neu': 0.822, 'pos': 0.138, 'compound': 0.5165},\n",
       " 67: {'neg': 0.057, 'neu': 0.869, 'pos': 0.073, 'compound': 0.492},\n",
       " 68: {'neg': 0.183, 'neu': 0.776, 'pos': 0.041, 'compound': -0.9116},\n",
       " 69: {'neg': 0.135, 'neu': 0.71, 'pos': 0.155, 'compound': -0.0096},\n",
       " 70: {'neg': 0.344, 'neu': 0.52, 'pos': 0.136, 'compound': -0.7345},\n",
       " 71: {'neg': 0.036, 'neu': 0.916, 'pos': 0.048, 'compound': 0.2228},\n",
       " 72: {'neg': 0.078, 'neu': 0.701, 'pos': 0.222, 'compound': 0.9733},\n",
       " 73: {'neg': 0.025, 'neu': 0.653, 'pos': 0.323, 'compound': 0.9787},\n",
       " 74: {'neg': 0.093, 'neu': 0.762, 'pos': 0.144, 'compound': 0.9665},\n",
       " 75: {'neg': 0.0, 'neu': 0.872, 'pos': 0.128, 'compound': 0.2263},\n",
       " 76: {'neg': 0.106, 'neu': 0.768, 'pos': 0.126, 'compound': 0.1098},\n",
       " 77: {'neg': 0.019, 'neu': 0.898, 'pos': 0.083, 'compound': 0.5647},\n",
       " 78: {'neg': 0.034, 'neu': 0.798, 'pos': 0.168, 'compound': 0.8303},\n",
       " 79: {'neg': 0.0, 'neu': 0.763, 'pos': 0.237, 'compound': 0.7814},\n",
       " 80: {'neg': 0.087, 'neu': 0.589, 'pos': 0.324, 'compound': 0.8636},\n",
       " 81: {'neg': 0.0, 'neu': 0.723, 'pos': 0.277, 'compound': 0.9098},\n",
       " 82: {'neg': 0.0, 'neu': 0.663, 'pos': 0.337, 'compound': 0.9041},\n",
       " 83: {'neg': 0.04, 'neu': 0.794, 'pos': 0.165, 'compound': 0.9957},\n",
       " 84: {'neg': 0.055, 'neu': 0.767, 'pos': 0.178, 'compound': 0.8642},\n",
       " 85: {'neg': 0.109, 'neu': 0.676, 'pos': 0.214, 'compound': 0.8431},\n",
       " 86: {'neg': 0.035, 'neu': 0.698, 'pos': 0.267, 'compound': 0.9487},\n",
       " 87: {'neg': 0.019, 'neu': 0.855, 'pos': 0.126, 'compound': 0.8797},\n",
       " 88: {'neg': 0.05, 'neu': 0.735, 'pos': 0.215, 'compound': 0.7424},\n",
       " 89: {'neg': 0.048, 'neu': 0.762, 'pos': 0.19, 'compound': 0.9716},\n",
       " 90: {'neg': 0.029, 'neu': 0.645, 'pos': 0.326, 'compound': 0.9554},\n",
       " 91: {'neg': 0.0, 'neu': 0.833, 'pos': 0.167, 'compound': 0.7351},\n",
       " 92: {'neg': 0.0, 'neu': 0.837, 'pos': 0.163, 'compound': 0.6249},\n",
       " 93: {'neg': 0.069, 'neu': 0.663, 'pos': 0.268, 'compound': 0.8255},\n",
       " 94: {'neg': 0.01, 'neu': 0.781, 'pos': 0.208, 'compound': 0.9882},\n",
       " 95: {'neg': 0.0, 'neu': 1.0, 'pos': 0.0, 'compound': 0.0},\n",
       " 96: {'neg': 0.031, 'neu': 0.732, 'pos': 0.237, 'compound': 0.9273},\n",
       " 97: {'neg': 0.0, 'neu': 0.818, 'pos': 0.182, 'compound': 0.982},\n",
       " 98: {'neg': 0.053, 'neu': 0.793, 'pos': 0.154, 'compound': 0.7729},\n",
       " 99: {'neg': 0.024, 'neu': 0.91, 'pos': 0.066, 'compound': 0.5106},\n",
       " 100: {'neg': 0.173, 'neu': 0.735, 'pos': 0.092, 'compound': -0.5267},\n",
       " 101: {'neg': 0.0, 'neu': 0.807, 'pos': 0.193, 'compound': 0.7717},\n",
       " 102: {'neg': 0.103, 'neu': 0.752, 'pos': 0.145, 'compound': 0.2285},\n",
       " 103: {'neg': 0.0, 'neu': 0.75, 'pos': 0.25, 'compound': 0.9287},\n",
       " 104: {'neg': 0.0, 'neu': 0.859, 'pos': 0.141, 'compound': 0.7249},\n",
       " 105: {'neg': 0.051, 'neu': 0.577, 'pos': 0.372, 'compound': 0.9313},\n",
       " 106: {'neg': 0.0, 'neu': 0.696, 'pos': 0.304, 'compound': 0.9603},\n",
       " 107: {'neg': 0.0, 'neu': 0.791, 'pos': 0.209, 'compound': 0.5719},\n",
       " 108: {'neg': 0.0, 'neu': 0.804, 'pos': 0.196, 'compound': 0.9503},\n",
       " 109: {'neg': 0.059, 'neu': 0.676, 'pos': 0.265, 'compound': 0.9116},\n",
       " 110: {'neg': 0.014, 'neu': 0.764, 'pos': 0.222, 'compound': 0.9841},\n",
       " 111: {'neg': 0.059, 'neu': 0.879, 'pos': 0.062, 'compound': 0.0176},\n",
       " 112: {'neg': 0.0, 'neu': 0.81, 'pos': 0.19, 'compound': 0.8769},\n",
       " 113: {'neg': 0.037, 'neu': 0.786, 'pos': 0.177, 'compound': 0.9946},\n",
       " 114: {'neg': 0.0, 'neu': 0.631, 'pos': 0.369, 'compound': 0.8779},\n",
       " 115: {'neg': 0.027, 'neu': 0.727, 'pos': 0.245, 'compound': 0.9379},\n",
       " 116: {'neg': 0.0, 'neu': 0.645, 'pos': 0.355, 'compound': 0.872},\n",
       " 117: {'neg': 0.0, 'neu': 0.892, 'pos': 0.108, 'compound': 0.6573},\n",
       " 118: {'neg': 0.0, 'neu': 0.781, 'pos': 0.219, 'compound': 0.9751},\n",
       " 119: {'neg': 0.05, 'neu': 0.872, 'pos': 0.079, 'compound': 0.8972},\n",
       " 120: {'neg': 0.013, 'neu': 0.785, 'pos': 0.203, 'compound': 0.9828},\n",
       " 121: {'neg': 0.026, 'neu': 0.759, 'pos': 0.215, 'compound': 0.9509},\n",
       " 122: {'neg': 0.102, 'neu': 0.822, 'pos': 0.076, 'compound': -0.3626},\n",
       " 123: {'neg': 0.025, 'neu': 0.803, 'pos': 0.172, 'compound': 0.9022},\n",
       " 124: {'neg': 0.017, 'neu': 0.795, 'pos': 0.188, 'compound': 0.9769},\n",
       " 125: {'neg': 0.079, 'neu': 0.67, 'pos': 0.252, 'compound': 0.9678},\n",
       " 126: {'neg': 0.035, 'neu': 0.87, 'pos': 0.095, 'compound': 0.5709},\n",
       " 127: {'neg': 0.0, 'neu': 0.721, 'pos': 0.279, 'compound': 0.9258},\n",
       " 128: {'neg': 0.067, 'neu': 0.633, 'pos': 0.299, 'compound': 0.9022},\n",
       " 129: {'neg': 0.043, 'neu': 0.728, 'pos': 0.229, 'compound': 0.8142},\n",
       " 130: {'neg': 0.114, 'neu': 0.676, 'pos': 0.21, 'compound': 0.6721},\n",
       " 131: {'neg': 0.0, 'neu': 0.755, 'pos': 0.245, 'compound': 0.8658},\n",
       " 132: {'neg': 0.135, 'neu': 0.76, 'pos': 0.105, 'compound': -0.3612},\n",
       " 133: {'neg': 0.046, 'neu': 0.772, 'pos': 0.181, 'compound': 0.7902},\n",
       " 134: {'neg': 0.02, 'neu': 0.878, 'pos': 0.103, 'compound': 0.8082},\n",
       " 135: {'neg': 0.0, 'neu': 0.877, 'pos': 0.123, 'compound': 0.4215},\n",
       " 136: {'neg': 0.0, 'neu': 0.9, 'pos': 0.1, 'compound': 0.6503},\n",
       " 137: {'neg': 0.0, 'neu': 0.695, 'pos': 0.305, 'compound': 0.9661},\n",
       " 138: {'neg': 0.0, 'neu': 0.689, 'pos': 0.311, 'compound': 0.8591},\n",
       " 139: {'neg': 0.15, 'neu': 0.773, 'pos': 0.077, 'compound': -0.4199},\n",
       " 140: {'neg': 0.043, 'neu': 0.833, 'pos': 0.125, 'compound': 0.835},\n",
       " 141: {'neg': 0.098, 'neu': 0.787, 'pos': 0.114, 'compound': 0.2023},\n",
       " 142: {'neg': 0.0, 'neu': 0.782, 'pos': 0.218, 'compound': 0.7814},\n",
       " 143: {'neg': 0.0, 'neu': 0.763, 'pos': 0.237, 'compound': 0.9296},\n",
       " 144: {'neg': 0.059, 'neu': 0.667, 'pos': 0.274, 'compound': 0.9653},\n",
       " 145: {'neg': 0.058, 'neu': 0.841, 'pos': 0.102, 'compound': 0.6124},\n",
       " 146: {'neg': 0.144, 'neu': 0.677, 'pos': 0.178, 'compound': 0.6341},\n",
       " 147: {'neg': 0.087, 'neu': 0.783, 'pos': 0.13, 'compound': 0.7567},\n",
       " 148: {'neg': 0.058, 'neu': 0.867, 'pos': 0.075, 'compound': 0.1533},\n",
       " 149: {'neg': 0.04, 'neu': 0.833, 'pos': 0.127, 'compound': 0.6956},\n",
       " 150: {'neg': 0.0, 'neu': 0.709, 'pos': 0.291, 'compound': 0.9231},\n",
       " 151: {'neg': 0.0, 'neu': 0.564, 'pos': 0.436, 'compound': 0.9858},\n",
       " 152: {'neg': 0.0, 'neu': 0.784, 'pos': 0.216, 'compound': 0.765},\n",
       " 153: {'neg': 0.0, 'neu': 0.775, 'pos': 0.225, 'compound': 0.7269},\n",
       " 154: {'neg': 0.12, 'neu': 0.76, 'pos': 0.12, 'compound': 0.2502},\n",
       " 155: {'neg': 0.0, 'neu': 0.647, 'pos': 0.353, 'compound': 0.9803},\n",
       " 156: {'neg': 0.0, 'neu': 0.768, 'pos': 0.232, 'compound': 0.9681},\n",
       " 157: {'neg': 0.191, 'neu': 0.809, 'pos': 0.0, 'compound': -0.7269},\n",
       " 158: {'neg': 0.071, 'neu': 0.514, 'pos': 0.415, 'compound': 0.8934},\n",
       " 159: {'neg': 0.065, 'neu': 0.893, 'pos': 0.042, 'compound': -0.4721},\n",
       " 160: {'neg': 0.081, 'neu': 0.779, 'pos': 0.14, 'compound': 0.4194},\n",
       " 161: {'neg': 0.0, 'neu': 0.644, 'pos': 0.356, 'compound': 0.9117},\n",
       " 162: {'neg': 0.106, 'neu': 0.894, 'pos': 0.0, 'compound': -0.5504},\n",
       " 163: {'neg': 0.072, 'neu': 0.652, 'pos': 0.276, 'compound': 0.9517},\n",
       " 164: {'neg': 0.047, 'neu': 0.869, 'pos': 0.085, 'compound': 0.4199},\n",
       " 165: {'neg': 0.025, 'neu': 0.752, 'pos': 0.223, 'compound': 0.8957},\n",
       " 166: {'neg': 0.032, 'neu': 0.717, 'pos': 0.251, 'compound': 0.9597},\n",
       " 167: {'neg': 0.0, 'neu': 0.657, 'pos': 0.343, 'compound': 0.9098},\n",
       " 168: {'neg': 0.05, 'neu': 0.905, 'pos': 0.045, 'compound': -0.1154},\n",
       " 169: {'neg': 0.186, 'neu': 0.74, 'pos': 0.074, 'compound': -0.5283},\n",
       " 170: {'neg': 0.141, 'neu': 0.832, 'pos': 0.028, 'compound': -0.7721},\n",
       " 171: {'neg': 0.0, 'neu': 0.854, 'pos': 0.146, 'compound': 0.6476},\n",
       " 172: {'neg': 0.04, 'neu': 0.844, 'pos': 0.116, 'compound': 0.6808},\n",
       " 173: {'neg': 0.0, 'neu': 0.763, 'pos': 0.237, 'compound': 0.8906},\n",
       " 174: {'neg': 0.022, 'neu': 0.788, 'pos': 0.189, 'compound': 0.9901},\n",
       " 175: {'neg': 0.04, 'neu': 0.722, 'pos': 0.237, 'compound': 0.9782},\n",
       " 176: {'neg': 0.0, 'neu': 0.874, 'pos': 0.126, 'compound': 0.7579},\n",
       " 177: {'neg': 0.0, 'neu': 0.938, 'pos': 0.062, 'compound': 0.4215},\n",
       " 178: {'neg': 0.058, 'neu': 0.794, 'pos': 0.148, 'compound': 0.6249},\n",
       " 179: {'neg': 0.2, 'neu': 0.63, 'pos': 0.171, 'compound': 0.1203},\n",
       " 180: {'neg': 0.048, 'neu': 0.829, 'pos': 0.122, 'compound': 0.7458},\n",
       " 181: {'neg': 0.076, 'neu': 0.767, 'pos': 0.156, 'compound': 0.6085},\n",
       " 182: {'neg': 0.0, 'neu': 0.433, 'pos': 0.567, 'compound': 0.9667},\n",
       " 183: {'neg': 0.088, 'neu': 0.743, 'pos': 0.169, 'compound': 0.943},\n",
       " 184: {'neg': 0.0, 'neu': 0.857, 'pos': 0.143, 'compound': 0.9577},\n",
       " 185: {'neg': 0.11, 'neu': 0.593, 'pos': 0.297, 'compound': 0.6597},\n",
       " 186: {'neg': 0.189, 'neu': 0.811, 'pos': 0.0, 'compound': -0.5994},\n",
       " 187: {'neg': 0.016, 'neu': 0.842, 'pos': 0.142, 'compound': 0.9944},\n",
       " 188: {'neg': 0.0, 'neu': 0.824, 'pos': 0.176, 'compound': 0.6983},\n",
       " 189: {'neg': 0.0, 'neu': 0.843, 'pos': 0.157, 'compound': 0.8868},\n",
       " 190: {'neg': 0.0, 'neu': 0.934, 'pos': 0.066, 'compound': 0.3506},\n",
       " 191: {'neg': 0.148, 'neu': 0.64, 'pos': 0.212, 'compound': 0.4926},\n",
       " 192: {'neg': 0.0, 'neu': 0.75, 'pos': 0.25, 'compound': 0.9062},\n",
       " 193: {'neg': 0.055, 'neu': 0.728, 'pos': 0.217, 'compound': 0.8756},\n",
       " 194: {'neg': 0.031, 'neu': 0.735, 'pos': 0.234, 'compound': 0.9595},\n",
       " 195: {'neg': 0.082, 'neu': 0.483, 'pos': 0.435, 'compound': 0.8299},\n",
       " 196: {'neg': 0.0, 'neu': 0.761, 'pos': 0.239, 'compound': 0.9538},\n",
       " 197: {'neg': 0.0, 'neu': 0.917, 'pos': 0.083, 'compound': 0.4738},\n",
       " 198: {'neg': 0.0, 'neu': 0.904, 'pos': 0.096, 'compound': 0.4153},\n",
       " 199: {'neg': 0.0, 'neu': 0.701, 'pos': 0.299, 'compound': 0.8268},\n",
       " 200: {'neg': 0.0, 'neu': 0.811, 'pos': 0.189, 'compound': 0.7178},\n",
       " 201: {'neg': 0.039, 'neu': 0.888, 'pos': 0.072, 'compound': 0.6381},\n",
       " 202: {'neg': 0.064, 'neu': 0.597, 'pos': 0.339, 'compound': 0.9531},\n",
       " 203: {'neg': 0.0, 'neu': 0.688, 'pos': 0.312, 'compound': 0.8225},\n",
       " 204: {'neg': 0.061, 'neu': 0.814, 'pos': 0.125, 'compound': 0.8728},\n",
       " 205: {'neg': 0.0, 'neu': 0.882, 'pos': 0.118, 'compound': 0.6249},\n",
       " 206: {'neg': 0.0, 'neu': 0.754, 'pos': 0.246, 'compound': 0.9368},\n",
       " 207: {'neg': 0.0, 'neu': 0.59, 'pos': 0.41, 'compound': 0.8779},\n",
       " 208: {'neg': 0.051, 'neu': 0.8, 'pos': 0.15, 'compound': 0.8436},\n",
       " 209: {'neg': 0.05, 'neu': 0.82, 'pos': 0.13, 'compound': 0.8913},\n",
       " 210: {'neg': 0.045, 'neu': 0.761, 'pos': 0.194, 'compound': 0.9893},\n",
       " 211: {'neg': 0.075, 'neu': 0.755, 'pos': 0.171, 'compound': 0.9218},\n",
       " 212: {'neg': 0.051, 'neu': 0.821, 'pos': 0.129, 'compound': 0.9529},\n",
       " 213: {'neg': 0.051, 'neu': 0.838, 'pos': 0.11, 'compound': 0.4404},\n",
       " 214: {'neg': 0.095, 'neu': 0.883, 'pos': 0.022, 'compound': -0.9726},\n",
       " 215: {'neg': 0.0, 'neu': 0.891, 'pos': 0.109, 'compound': 0.6476},\n",
       " 216: {'neg': 0.0, 'neu': 0.798, 'pos': 0.202, 'compound': 0.7964},\n",
       " 217: {'neg': 0.078, 'neu': 0.922, 'pos': 0.0, 'compound': -0.296},\n",
       " 218: {'neg': 0.015, 'neu': 0.884, 'pos': 0.101, 'compound': 0.9736},\n",
       " 219: {'neg': 0.059, 'neu': 0.774, 'pos': 0.167, 'compound': 0.9424},\n",
       " 220: {'neg': 0.031, 'neu': 0.702, 'pos': 0.267, 'compound': 0.9812},\n",
       " 221: {'neg': 0.027, 'neu': 0.909, 'pos': 0.064, 'compound': 0.25},\n",
       " 222: {'neg': 0.068, 'neu': 0.666, 'pos': 0.266, 'compound': 0.9883},\n",
       " 223: {'neg': 0.0, 'neu': 0.779, 'pos': 0.221, 'compound': 0.9623},\n",
       " 224: {'neg': 0.0, 'neu': 0.607, 'pos': 0.393, 'compound': 0.923},\n",
       " 225: {'neg': 0.152, 'neu': 0.739, 'pos': 0.109, 'compound': -0.25},\n",
       " 226: {'neg': 0.064, 'neu': 0.794, 'pos': 0.141, 'compound': 0.7951},\n",
       " 227: {'neg': 0.139, 'neu': 0.754, 'pos': 0.108, 'compound': -0.3774},\n",
       " 228: {'neg': 0.106, 'neu': 0.718, 'pos': 0.176, 'compound': 0.5475},\n",
       " 229: {'neg': 0.0, 'neu': 0.837, 'pos': 0.163, 'compound': 0.6486},\n",
       " 230: {'neg': 0.025, 'neu': 0.854, 'pos': 0.121, 'compound': 0.6478},\n",
       " 231: {'neg': 0.03, 'neu': 0.726, 'pos': 0.244, 'compound': 0.9281},\n",
       " 232: {'neg': 0.0, 'neu': 0.904, 'pos': 0.096, 'compound': 0.8144},\n",
       " 233: {'neg': 0.0, 'neu': 0.807, 'pos': 0.193, 'compound': 0.8126},\n",
       " 234: {'neg': 0.103, 'neu': 0.729, 'pos': 0.169, 'compound': 0.2481},\n",
       " 235: {'neg': 0.0, 'neu': 0.805, 'pos': 0.195, 'compound': 0.8655},\n",
       " 236: {'neg': 0.11, 'neu': 0.792, 'pos': 0.098, 'compound': -0.4786},\n",
       " 237: {'neg': 0.041, 'neu': 0.793, 'pos': 0.166, 'compound': 0.9387},\n",
       " 238: {'neg': 0.029, 'neu': 0.798, 'pos': 0.174, 'compound': 0.9936},\n",
       " 239: {'neg': 0.064, 'neu': 0.7, 'pos': 0.236, 'compound': 0.9677},\n",
       " 240: {'neg': 0.0, 'neu': 0.72, 'pos': 0.28, 'compound': 0.765},\n",
       " 241: {'neg': 0.066, 'neu': 0.71, 'pos': 0.223, 'compound': 0.9553},\n",
       " 242: {'neg': 0.0, 'neu': 0.765, 'pos': 0.235, 'compound': 0.807},\n",
       " 243: {'neg': 0.0, 'neu': 0.76, 'pos': 0.24, 'compound': 0.9344},\n",
       " 244: {'neg': 0.0, 'neu': 1.0, 'pos': 0.0, 'compound': 0.0},\n",
       " 245: {'neg': 0.081, 'neu': 0.63, 'pos': 0.289, 'compound': 0.765},\n",
       " 246: {'neg': 0.072, 'neu': 0.825, 'pos': 0.103, 'compound': 0.682},\n",
       " 247: {'neg': 0.075, 'neu': 0.633, 'pos': 0.292, 'compound': 0.9757},\n",
       " 248: {'neg': 0.0, 'neu': 0.869, 'pos': 0.131, 'compound': 0.7717},\n",
       " 249: {'neg': 0.0, 'neu': 0.602, 'pos': 0.398, 'compound': 0.9351},\n",
       " 250: {'neg': 0.0, 'neu': 0.75, 'pos': 0.25, 'compound': 0.7184},\n",
       " 251: {'neg': 0.047, 'neu': 0.781, 'pos': 0.172, 'compound': 0.9476},\n",
       " 252: {'neg': 0.076, 'neu': 0.924, 'pos': 0.0, 'compound': -0.4823},\n",
       " 253: {'neg': 0.107, 'neu': 0.893, 'pos': 0.0, 'compound': -0.4767},\n",
       " 254: {'neg': 0.0, 'neu': 0.801, 'pos': 0.199, 'compound': 0.9698},\n",
       " 255: {'neg': 0.091, 'neu': 0.736, 'pos': 0.172, 'compound': 0.4118},\n",
       " 256: {'neg': 0.103, 'neu': 0.699, 'pos': 0.198, 'compound': 0.9805},\n",
       " 257: {'neg': 0.034, 'neu': 0.664, 'pos': 0.302, 'compound': 0.9463},\n",
       " 258: {'neg': 0.105, 'neu': 0.816, 'pos': 0.079, 'compound': -0.3489},\n",
       " 259: {'neg': 0.04, 'neu': 0.841, 'pos': 0.119, 'compound': 0.8883},\n",
       " 260: {'neg': 0.0, 'neu': 0.833, 'pos': 0.167, 'compound': 0.8824},\n",
       " 261: {'neg': 0.0, 'neu': 0.613, 'pos': 0.387, 'compound': 0.9493},\n",
       " 262: {'neg': 0.0, 'neu': 0.54, 'pos': 0.46, 'compound': 0.9153},\n",
       " 263: {'neg': 0.106, 'neu': 0.706, 'pos': 0.188, 'compound': 0.5849},\n",
       " 264: {'neg': 0.098, 'neu': 0.875, 'pos': 0.026, 'compound': -0.9218},\n",
       " 265: {'neg': 0.051, 'neu': 0.802, 'pos': 0.147, 'compound': 0.872},\n",
       " 266: {'neg': 0.0, 'neu': 0.619, 'pos': 0.381, 'compound': 0.902},\n",
       " 267: {'neg': 0.0, 'neu': 0.862, 'pos': 0.138, 'compound': 0.4926},\n",
       " 268: {'neg': 0.062, 'neu': 0.911, 'pos': 0.028, 'compound': -0.7067},\n",
       " 269: {'neg': 0.0, 'neu': 0.767, 'pos': 0.233, 'compound': 0.8176},\n",
       " 270: {'neg': 0.032, 'neu': 0.794, 'pos': 0.174, 'compound': 0.9354},\n",
       " 271: {'neg': 0.0, 'neu': 0.839, 'pos': 0.161, 'compound': 0.5927},\n",
       " 272: {'neg': 0.062, 'neu': 0.863, 'pos': 0.074, 'compound': 0.2609},\n",
       " 273: {'neg': 0.052, 'neu': 0.817, 'pos': 0.132, 'compound': 0.7003},\n",
       " 274: {'neg': 0.0, 'neu': 0.733, 'pos': 0.267, 'compound': 0.7346},\n",
       " 275: {'neg': 0.037, 'neu': 0.693, 'pos': 0.271, 'compound': 0.9421},\n",
       " 276: {'neg': 0.132, 'neu': 0.711, 'pos': 0.157, 'compound': 0.3303},\n",
       " 277: {'neg': 0.0, 'neu': 0.523, 'pos': 0.477, 'compound': 0.9542},\n",
       " 278: {'neg': 0.025, 'neu': 0.809, 'pos': 0.167, 'compound': 0.937},\n",
       " 279: {'neg': 0.072, 'neu': 0.641, 'pos': 0.288, 'compound': 0.8565},\n",
       " 280: {'neg': 0.066, 'neu': 0.859, 'pos': 0.075, 'compound': 0.1666},\n",
       " 281: {'neg': 0.049, 'neu': 0.823, 'pos': 0.127, 'compound': 0.6438},\n",
       " 282: {'neg': 0.0, 'neu': 0.754, 'pos': 0.246, 'compound': 0.8016},\n",
       " 283: {'neg': 0.028, 'neu': 0.934, 'pos': 0.038, 'compound': 0.1779},\n",
       " 284: {'neg': 0.032, 'neu': 0.792, 'pos': 0.176, 'compound': 0.9852},\n",
       " 285: {'neg': 0.0, 'neu': 0.864, 'pos': 0.136, 'compound': 0.5255},\n",
       " 286: {'neg': 0.0, 'neu': 0.898, 'pos': 0.102, 'compound': 0.7917},\n",
       " 287: {'neg': 0.0, 'neu': 0.857, 'pos': 0.143, 'compound': 0.919},\n",
       " 288: {'neg': 0.035, 'neu': 0.801, 'pos': 0.163, 'compound': 0.9676},\n",
       " 289: {'neg': 0.054, 'neu': 0.745, 'pos': 0.2, 'compound': 0.9557},\n",
       " 290: {'neg': 0.039, 'neu': 0.697, 'pos': 0.264, 'compound': 0.8439},\n",
       " 291: {'neg': 0.104, 'neu': 0.705, 'pos': 0.191, 'compound': 0.6257},\n",
       " 292: {'neg': 0.052, 'neu': 0.745, 'pos': 0.203, 'compound': 0.9434},\n",
       " 293: {'neg': 0.09, 'neu': 0.705, 'pos': 0.205, 'compound': 0.8636},\n",
       " 294: {'neg': 0.034, 'neu': 0.757, 'pos': 0.209, 'compound': 0.9823},\n",
       " 295: {'neg': 0.0, 'neu': 0.887, 'pos': 0.113, 'compound': 0.4939},\n",
       " 296: {'neg': 0.12, 'neu': 0.781, 'pos': 0.099, 'compound': -0.7095},\n",
       " 297: {'neg': 0.025, 'neu': 0.737, 'pos': 0.239, 'compound': 0.9566},\n",
       " 298: {'neg': 0.0, 'neu': 0.811, 'pos': 0.189, 'compound': 0.8781},\n",
       " 299: {'neg': 0.0, 'neu': 0.681, 'pos': 0.319, 'compound': 0.8934},\n",
       " 300: {'neg': 0.078, 'neu': 0.735, 'pos': 0.187, 'compound': 0.9637},\n",
       " 301: {'neg': 0.0, 'neu': 0.632, 'pos': 0.368, 'compound': 0.9661},\n",
       " 302: {'neg': 0.148, 'neu': 0.625, 'pos': 0.227, 'compound': 0.5849},\n",
       " 303: {'neg': 0.014, 'neu': 0.705, 'pos': 0.281, 'compound': 0.9763},\n",
       " 304: {'neg': 0.076, 'neu': 0.791, 'pos': 0.133, 'compound': 0.25},\n",
       " 305: {'neg': 0.058, 'neu': 0.778, 'pos': 0.165, 'compound': 0.5734},\n",
       " 306: {'neg': 0.15, 'neu': 0.773, 'pos': 0.077, 'compound': -0.9037},\n",
       " 307: {'neg': 0.097, 'neu': 0.781, 'pos': 0.122, 'compound': 0.4733},\n",
       " 308: {'neg': 0.0, 'neu': 0.649, 'pos': 0.351, 'compound': 0.894},\n",
       " 309: {'neg': 0.0, 'neu': 0.796, 'pos': 0.204, 'compound': 0.9695},\n",
       " 310: {'neg': 0.0, 'neu': 0.774, 'pos': 0.226, 'compound': 0.9287},\n",
       " 311: {'neg': 0.031, 'neu': 0.657, 'pos': 0.312, 'compound': 0.9644},\n",
       " 312: {'neg': 0.087, 'neu': 0.913, 'pos': 0.0, 'compound': -0.4939},\n",
       " 313: {'neg': 0.0, 'neu': 1.0, 'pos': 0.0, 'compound': 0.0},\n",
       " 314: {'neg': 0.018, 'neu': 0.914, 'pos': 0.069, 'compound': 0.4971},\n",
       " 315: {'neg': 0.024, 'neu': 0.828, 'pos': 0.148, 'compound': 0.6897},\n",
       " 316: {'neg': 0.06, 'neu': 0.772, 'pos': 0.168, 'compound': 0.9109},\n",
       " 317: {'neg': 0.0, 'neu': 0.823, 'pos': 0.177, 'compound': 0.5783},\n",
       " 318: {'neg': 0.07, 'neu': 0.839, 'pos': 0.091, 'compound': 0.6785},\n",
       " 319: {'neg': 0.0, 'neu': 0.904, 'pos': 0.096, 'compound': 0.3716},\n",
       " 320: {'neg': 0.0, 'neu': 0.758, 'pos': 0.242, 'compound': 0.7717},\n",
       " 321: {'neg': 0.065, 'neu': 0.562, 'pos': 0.373, 'compound': 0.886},\n",
       " 322: {'neg': 0.0, 'neu': 1.0, 'pos': 0.0, 'compound': 0.0},\n",
       " 323: {'neg': 0.05, 'neu': 0.69, 'pos': 0.26, 'compound': 0.7712},\n",
       " 324: {'neg': 0.0, 'neu': 1.0, 'pos': 0.0, 'compound': 0.0},\n",
       " 325: {'neg': 0.213, 'neu': 0.514, 'pos': 0.274, 'compound': 0.3185},\n",
       " 326: {'neg': 0.0, 'neu': 0.688, 'pos': 0.312, 'compound': 0.8979},\n",
       " 327: {'neg': 0.075, 'neu': 0.726, 'pos': 0.199, 'compound': 0.9373},\n",
       " 328: {'neg': 0.064, 'neu': 0.594, 'pos': 0.342, 'compound': 0.9581},\n",
       " 329: {'neg': 0.163, 'neu': 0.708, 'pos': 0.129, 'compound': -0.8462},\n",
       " 330: {'neg': 0.029, 'neu': 0.856, 'pos': 0.115, 'compound': 0.5709},\n",
       " 331: {'neg': 0.0, 'neu': 0.837, 'pos': 0.163, 'compound': 0.6249},\n",
       " 332: {'neg': 0.115, 'neu': 0.885, 'pos': 0.0, 'compound': -0.4588},\n",
       " 333: {'neg': 0.0, 'neu': 0.689, 'pos': 0.311, 'compound': 0.9732},\n",
       " 334: {'neg': 0.0, 'neu': 0.662, 'pos': 0.338, 'compound': 0.9719},\n",
       " 335: {'neg': 0.0, 'neu': 0.886, 'pos': 0.114, 'compound': 0.6124},\n",
       " 336: {'neg': 0.046, 'neu': 0.8, 'pos': 0.154, 'compound': 0.6796},\n",
       " 337: {'neg': 0.078, 'neu': 0.651, 'pos': 0.271, 'compound': 0.8506},\n",
       " 338: {'neg': 0.0, 'neu': 0.765, 'pos': 0.235, 'compound': 0.9008},\n",
       " 339: {'neg': 0.0, 'neu': 0.734, 'pos': 0.266, 'compound': 0.784},\n",
       " 340: {'neg': 0.078, 'neu': 0.823, 'pos': 0.098, 'compound': 0.4416},\n",
       " 341: {'neg': 0.069, 'neu': 0.782, 'pos': 0.149, 'compound': 0.8499},\n",
       " 342: {'neg': 0.041, 'neu': 0.657, 'pos': 0.302, 'compound': 0.8731},\n",
       " 343: {'neg': 0.0, 'neu': 0.912, 'pos': 0.088, 'compound': 0.4939},\n",
       " 344: {'neg': 0.11, 'neu': 0.678, 'pos': 0.211, 'compound': 0.8053},\n",
       " 345: {'neg': 0.101, 'neu': 0.627, 'pos': 0.273, 'compound': 0.9758},\n",
       " 346: {'neg': 0.044, 'neu': 0.725, 'pos': 0.231, 'compound': 0.8319},\n",
       " 347: {'neg': 0.0, 'neu': 0.608, 'pos': 0.392, 'compound': 0.9694},\n",
       " 348: {'neg': 0.093, 'neu': 0.752, 'pos': 0.155, 'compound': 0.7667},\n",
       " 349: {'neg': 0.0, 'neu': 0.678, 'pos': 0.322, 'compound': 0.908},\n",
       " 350: {'neg': 0.071, 'neu': 0.861, 'pos': 0.068, 'compound': -0.0258},\n",
       " 351: {'neg': 0.0, 'neu': 0.715, 'pos': 0.285, 'compound': 0.9177},\n",
       " 352: {'neg': 0.064, 'neu': 0.727, 'pos': 0.209, 'compound': 0.7337},\n",
       " 353: {'neg': 0.0, 'neu': 0.893, 'pos': 0.107, 'compound': 0.802},\n",
       " 354: {'neg': 0.0, 'neu': 0.888, 'pos': 0.112, 'compound': 0.6604},\n",
       " 355: {'neg': 0.0, 'neu': 0.802, 'pos': 0.198, 'compound': 0.6892},\n",
       " 356: {'neg': 0.05, 'neu': 0.734, 'pos': 0.215, 'compound': 0.8008},\n",
       " 357: {'neg': 0.027, 'neu': 0.835, 'pos': 0.138, 'compound': 0.8805},\n",
       " 358: {'neg': 0.0, 'neu': 0.895, 'pos': 0.105, 'compound': 0.631},\n",
       " 359: {'neg': 0.164, 'neu': 0.694, 'pos': 0.142, 'compound': 0.283},\n",
       " 360: {'neg': 0.0, 'neu': 0.705, 'pos': 0.295, 'compound': 0.954},\n",
       " 361: {'neg': 0.033, 'neu': 0.785, 'pos': 0.182, 'compound': 0.9441},\n",
       " 362: {'neg': 0.228, 'neu': 0.772, 'pos': 0.0, 'compound': -0.734},\n",
       " 363: {'neg': 0.0, 'neu': 0.891, 'pos': 0.109, 'compound': 0.8802},\n",
       " 364: {'neg': 0.0, 'neu': 0.742, 'pos': 0.258, 'compound': 0.8088},\n",
       " 365: {'neg': 0.033, 'neu': 0.621, 'pos': 0.346, 'compound': 0.9334},\n",
       " 366: {'neg': 0.076, 'neu': 0.768, 'pos': 0.156, 'compound': 0.4434},\n",
       " 367: {'neg': 0.0, 'neu': 0.685, 'pos': 0.315, 'compound': 0.9366},\n",
       " 368: {'neg': 0.038, 'neu': 0.84, 'pos': 0.122, 'compound': 0.8016},\n",
       " 369: {'neg': 0.064, 'neu': 0.871, 'pos': 0.066, 'compound': 0.0258},\n",
       " 370: {'neg': 0.0, 'neu': 0.913, 'pos': 0.087, 'compound': 0.7703},\n",
       " 371: {'neg': 0.012, 'neu': 0.86, 'pos': 0.128, 'compound': 0.9923},\n",
       " 372: {'neg': 0.087, 'neu': 0.643, 'pos': 0.27, 'compound': 0.6912},\n",
       " 373: {'neg': 0.11, 'neu': 0.748, 'pos': 0.142, 'compound': 0.1264},\n",
       " 374: {'neg': 0.0, 'neu': 0.588, 'pos': 0.412, 'compound': 0.9168},\n",
       " 375: {'neg': 0.0, 'neu': 0.728, 'pos': 0.272, 'compound': 0.9472},\n",
       " 376: {'neg': 0.054, 'neu': 0.69, 'pos': 0.256, 'compound': 0.8962},\n",
       " 377: {'neg': 0.0, 'neu': 0.796, 'pos': 0.204, 'compound': 0.874},\n",
       " 378: {'neg': 0.046, 'neu': 0.793, 'pos': 0.161, 'compound': 0.9341},\n",
       " 379: {'neg': 0.063, 'neu': 0.524, 'pos': 0.413, 'compound': 0.9709},\n",
       " 380: {'neg': 0.036, 'neu': 0.695, 'pos': 0.269, 'compound': 0.9468},\n",
       " 381: {'neg': 0.074, 'neu': 0.715, 'pos': 0.212, 'compound': 0.8349},\n",
       " 382: {'neg': 0.318, 'neu': 0.515, 'pos': 0.167, 'compound': -0.7184},\n",
       " 383: {'neg': 0.0, 'neu': 0.905, 'pos': 0.095, 'compound': 0.6369},\n",
       " 384: {'neg': 0.027, 'neu': 0.78, 'pos': 0.193, 'compound': 0.9913},\n",
       " 385: {'neg': 0.0, 'neu': 0.767, 'pos': 0.233, 'compound': 0.8065},\n",
       " 386: {'neg': 0.0, 'neu': 0.774, 'pos': 0.226, 'compound': 0.9796},\n",
       " 387: {'neg': 0.0, 'neu': 0.839, 'pos': 0.161, 'compound': 0.8625},\n",
       " 388: {'neg': 0.089, 'neu': 0.75, 'pos': 0.161, 'compound': 0.8201},\n",
       " 389: {'neg': 0.088, 'neu': 0.537, 'pos': 0.375, 'compound': 0.755},\n",
       " 390: {'neg': 0.031, 'neu': 0.764, 'pos': 0.205, 'compound': 0.9183},\n",
       " 391: {'neg': 0.248, 'neu': 0.636, 'pos': 0.116, 'compound': -0.8174},\n",
       " 392: {'neg': 0.0, 'neu': 0.642, 'pos': 0.358, 'compound': 0.8591},\n",
       " 393: {'neg': 0.0, 'neu': 0.661, 'pos': 0.339, 'compound': 0.8481},\n",
       " 394: {'neg': 0.0, 'neu': 1.0, 'pos': 0.0, 'compound': 0.0},\n",
       " 395: {'neg': 0.0, 'neu': 0.83, 'pos': 0.17, 'compound': 0.8016},\n",
       " 396: {'neg': 0.0, 'neu': 0.502, 'pos': 0.498, 'compound': 0.9677},\n",
       " 397: {'neg': 0.0, 'neu': 0.638, 'pos': 0.362, 'compound': 0.9682},\n",
       " 398: {'neg': 0.046, 'neu': 0.703, 'pos': 0.251, 'compound': 0.867},\n",
       " 399: {'neg': 0.0, 'neu': 0.8, 'pos': 0.2, 'compound': 0.9885},\n",
       " 400: {'neg': 0.0, 'neu': 0.787, 'pos': 0.213, 'compound': 0.7644},\n",
       " 401: {'neg': 0.234, 'neu': 0.556, 'pos': 0.211, 'compound': 0.0},\n",
       " 402: {'neg': 0.093, 'neu': 0.813, 'pos': 0.095, 'compound': 0.0258},\n",
       " 403: {'neg': 0.215, 'neu': 0.697, 'pos': 0.088, 'compound': -0.6351},\n",
       " 404: {'neg': 0.194, 'neu': 0.771, 'pos': 0.035, 'compound': -0.9058},\n",
       " 405: {'neg': 0.0, 'neu': 0.691, 'pos': 0.309, 'compound': 0.8172},\n",
       " 406: {'neg': 0.019, 'neu': 0.702, 'pos': 0.279, 'compound': 0.9622},\n",
       " 407: {'neg': 0.0, 'neu': 0.954, 'pos': 0.046, 'compound': 0.6249},\n",
       " 408: {'neg': 0.036, 'neu': 0.772, 'pos': 0.192, 'compound': 0.9477},\n",
       " 409: {'neg': 0.0, 'neu': 0.713, 'pos': 0.287, 'compound': 0.9257},\n",
       " 410: {'neg': 0.05, 'neu': 0.758, 'pos': 0.192, 'compound': 0.8316},\n",
       " 411: {'neg': 0.016, 'neu': 0.879, 'pos': 0.105, 'compound': 0.8681},\n",
       " 412: {'neg': 0.0, 'neu': 0.802, 'pos': 0.198, 'compound': 0.8555},\n",
       " 413: {'neg': 0.0, 'neu': 0.815, 'pos': 0.185, 'compound': 0.7777},\n",
       " 414: {'neg': 0.0, 'neu': 0.914, 'pos': 0.086, 'compound': 0.4118},\n",
       " 415: {'neg': 0.0, 'neu': 0.722, 'pos': 0.278, 'compound': 0.8902},\n",
       " 416: {'neg': 0.0, 'neu': 0.594, 'pos': 0.406, 'compound': 0.9612},\n",
       " 417: {'neg': 0.07, 'neu': 0.799, 'pos': 0.131, 'compound': 0.9222},\n",
       " 418: {'neg': 0.166, 'neu': 0.809, 'pos': 0.025, 'compound': -0.8957},\n",
       " 419: {'neg': 0.0, 'neu': 0.784, 'pos': 0.216, 'compound': 0.8876},\n",
       " 420: {'neg': 0.148, 'neu': 0.815, 'pos': 0.037, 'compound': -0.5983},\n",
       " 421: {'neg': 0.035, 'neu': 0.754, 'pos': 0.211, 'compound': 0.9561},\n",
       " 422: {'neg': 0.0, 'neu': 0.861, 'pos': 0.139, 'compound': 0.4404},\n",
       " 423: {'neg': 0.223, 'neu': 0.68, 'pos': 0.096, 'compound': -0.3314},\n",
       " 424: {'neg': 0.055, 'neu': 0.687, 'pos': 0.258, 'compound': 0.9106},\n",
       " 425: {'neg': 0.017, 'neu': 0.821, 'pos': 0.161, 'compound': 0.9576},\n",
       " 426: {'neg': 0.0, 'neu': 0.806, 'pos': 0.194, 'compound': 0.7717},\n",
       " 427: {'neg': 0.029, 'neu': 0.817, 'pos': 0.154, 'compound': 0.7845},\n",
       " 428: {'neg': 0.0, 'neu': 0.761, 'pos': 0.239, 'compound': 0.9337},\n",
       " 429: {'neg': 0.0, 'neu': 0.739, 'pos': 0.261, 'compound': 0.9741},\n",
       " 430: {'neg': 0.0, 'neu': 0.617, 'pos': 0.383, 'compound': 0.9876},\n",
       " 431: {'neg': 0.04, 'neu': 0.786, 'pos': 0.174, 'compound': 0.9847},\n",
       " 432: {'neg': 0.0, 'neu': 0.73, 'pos': 0.27, 'compound': 0.9516},\n",
       " 433: {'neg': 0.083, 'neu': 0.751, 'pos': 0.166, 'compound': 0.8044},\n",
       " 434: {'neg': 0.108, 'neu': 0.593, 'pos': 0.299, 'compound': 0.8655},\n",
       " 435: {'neg': 0.0, 'neu': 0.771, 'pos': 0.229, 'compound': 0.9179},\n",
       " 436: {'neg': 0.0, 'neu': 0.829, 'pos': 0.171, 'compound': 0.8519},\n",
       " 437: {'neg': 0.0, 'neu': 0.926, 'pos': 0.074, 'compound': 0.7383},\n",
       " 438: {'neg': 0.0, 'neu': 0.887, 'pos': 0.113, 'compound': 0.6369},\n",
       " 439: {'neg': 0.0, 'neu': 0.728, 'pos': 0.272, 'compound': 0.87},\n",
       " 440: {'neg': 0.072, 'neu': 0.781, 'pos': 0.147, 'compound': 0.9307},\n",
       " 441: {'neg': 0.078, 'neu': 0.793, 'pos': 0.129, 'compound': 0.5176},\n",
       " 442: {'neg': 0.054, 'neu': 0.69, 'pos': 0.257, 'compound': 0.9683},\n",
       " 443: {'neg': 0.0, 'neu': 0.616, 'pos': 0.384, 'compound': 0.9603},\n",
       " 444: {'neg': 0.044, 'neu': 0.898, 'pos': 0.058, 'compound': 0.1882},\n",
       " 445: {'neg': 0.055, 'neu': 0.873, 'pos': 0.072, 'compound': 0.0935},\n",
       " 446: {'neg': 0.077, 'neu': 0.78, 'pos': 0.143, 'compound': 0.3699},\n",
       " 447: {'neg': 0.042, 'neu': 0.763, 'pos': 0.195, 'compound': 0.9883},\n",
       " 448: {'neg': 0.0, 'neu': 0.713, 'pos': 0.287, 'compound': 0.967},\n",
       " 449: {'neg': 0.0, 'neu': 0.737, 'pos': 0.263, 'compound': 0.8531},\n",
       " 450: {'neg': 0.0, 'neu': 0.845, 'pos': 0.155, 'compound': 0.6908},\n",
       " 451: {'neg': 0.034, 'neu': 0.743, 'pos': 0.223, 'compound': 0.9873},\n",
       " 452: {'neg': 0.054, 'neu': 0.782, 'pos': 0.164, 'compound': 0.9337},\n",
       " 453: {'neg': 0.0, 'neu': 0.5, 'pos': 0.5, 'compound': 0.943},\n",
       " 454: {'neg': 0.0, 'neu': 0.603, 'pos': 0.397, 'compound': 0.8811},\n",
       " 455: {'neg': 0.0, 'neu': 0.699, 'pos': 0.301, 'compound': 0.9619},\n",
       " 456: {'neg': 0.082, 'neu': 0.854, 'pos': 0.064, 'compound': -0.4854},\n",
       " 457: {'neg': 0.0, 'neu': 0.684, 'pos': 0.316, 'compound': 0.926},\n",
       " 458: {'neg': 0.0, 'neu': 0.564, 'pos': 0.436, 'compound': 0.9642},\n",
       " 459: {'neg': 0.045, 'neu': 0.717, 'pos': 0.239, 'compound': 0.8455},\n",
       " 460: {'neg': 0.066, 'neu': 0.743, 'pos': 0.19, 'compound': 0.9481},\n",
       " 461: {'neg': 0.08, 'neu': 0.821, 'pos': 0.099, 'compound': 0.4883},\n",
       " 462: {'neg': 0.037, 'neu': 0.87, 'pos': 0.093, 'compound': 0.34},\n",
       " 463: {'neg': 0.099, 'neu': 0.794, 'pos': 0.108, 'compound': 0.5983},\n",
       " 464: {'neg': 0.019, 'neu': 0.868, 'pos': 0.113, 'compound': 0.8443},\n",
       " 465: {'neg': 0.0, 'neu': 0.838, 'pos': 0.162, 'compound': 0.7823},\n",
       " 466: {'neg': 0.0, 'neu': 0.772, 'pos': 0.228, 'compound': 0.9606},\n",
       " 467: {'neg': 0.009, 'neu': 0.845, 'pos': 0.147, 'compound': 0.9874},\n",
       " 468: {'neg': 0.008, 'neu': 0.818, 'pos': 0.174, 'compound': 0.9926},\n",
       " 469: {'neg': 0.049, 'neu': 0.951, 'pos': 0.0, 'compound': -0.3595},\n",
       " 470: {'neg': 0.0, 'neu': 0.957, 'pos': 0.043, 'compound': 0.25},\n",
       " 471: {'neg': 0.051, 'neu': 0.676, 'pos': 0.273, 'compound': 0.9749},\n",
       " 472: {'neg': 0.0, 'neu': 0.565, 'pos': 0.435, 'compound': 0.9649},\n",
       " 473: {'neg': 0.0, 'neu': 0.686, 'pos': 0.314, 'compound': 0.7506},\n",
       " 474: {'neg': 0.013, 'neu': 0.75, 'pos': 0.237, 'compound': 0.9828},\n",
       " 475: {'neg': 0.0, 'neu': 0.585, 'pos': 0.415, 'compound': 0.9095},\n",
       " 476: {'neg': 0.066, 'neu': 0.614, 'pos': 0.32, 'compound': 0.9684},\n",
       " 477: {'neg': 0.034, 'neu': 0.728, 'pos': 0.238, 'compound': 0.8555},\n",
       " 478: {'neg': 0.0, 'neu': 0.823, 'pos': 0.177, 'compound': 0.6239},\n",
       " 479: {'neg': 0.245, 'neu': 0.652, 'pos': 0.103, 'compound': -0.3855},\n",
       " 480: {'neg': 0.0, 'neu': 0.435, 'pos': 0.565, 'compound': 0.9935},\n",
       " 481: {'neg': 0.022, 'neu': 0.728, 'pos': 0.249, 'compound': 0.9451},\n",
       " 482: {'neg': 0.0, 'neu': 0.605, 'pos': 0.395, 'compound': 0.9079},\n",
       " 483: {'neg': 0.0, 'neu': 0.862, 'pos': 0.138, 'compound': 0.3384},\n",
       " 484: {'neg': 0.088, 'neu': 0.767, 'pos': 0.145, 'compound': 0.4516},\n",
       " 485: {'neg': 0.0, 'neu': 0.761, 'pos': 0.239, 'compound': 0.8547},\n",
       " 486: {'neg': 0.0, 'neu': 0.818, 'pos': 0.182, 'compound': 0.9224},\n",
       " 487: {'neg': 0.0, 'neu': 0.909, 'pos': 0.091, 'compound': 0.296},\n",
       " 488: {'neg': 0.179, 'neu': 0.707, 'pos': 0.114, 'compound': -0.3723},\n",
       " 489: {'neg': 0.0, 'neu': 0.861, 'pos': 0.139, 'compound': 0.9598},\n",
       " 490: {'neg': 0.0, 'neu': 0.763, 'pos': 0.237, 'compound': 0.9788},\n",
       " 491: {'neg': 0.055, 'neu': 0.704, 'pos': 0.241, 'compound': 0.9287},\n",
       " 492: {'neg': 0.0, 'neu': 0.717, 'pos': 0.283, 'compound': 0.9367},\n",
       " 493: {'neg': 0.056, 'neu': 0.855, 'pos': 0.089, 'compound': 0.5976},\n",
       " 494: {'neg': 0.1, 'neu': 0.645, 'pos': 0.254, 'compound': 0.6486},\n",
       " 495: {'neg': 0.0, 'neu': 0.788, 'pos': 0.212, 'compound': 0.9743},\n",
       " 496: {'neg': 0.0, 'neu': 0.554, 'pos': 0.446, 'compound': 0.9725},\n",
       " 497: {'neg': 0.059, 'neu': 0.799, 'pos': 0.142, 'compound': 0.7833},\n",
       " 498: {'neg': 0.025, 'neu': 0.762, 'pos': 0.212, 'compound': 0.9848},\n",
       " 499: {'neg': 0.041, 'neu': 0.904, 'pos': 0.055, 'compound': 0.128},\n",
       " 500: {'neg': 0.0, 'neu': 0.678, 'pos': 0.322, 'compound': 0.9811}}"
      ]
     },
     "execution_count": 44,
     "metadata": {},
     "output_type": "execute_result"
    }
   ],
   "source": [
    "res"
   ]
  },
  {
   "cell_type": "code",
   "execution_count": 45,
   "metadata": {},
   "outputs": [
    {
     "data": {
      "text/html": [
       "<div>\n",
       "<style scoped>\n",
       "    .dataframe tbody tr th:only-of-type {\n",
       "        vertical-align: middle;\n",
       "    }\n",
       "\n",
       "    .dataframe tbody tr th {\n",
       "        vertical-align: top;\n",
       "    }\n",
       "\n",
       "    .dataframe thead th {\n",
       "        text-align: right;\n",
       "    }\n",
       "</style>\n",
       "<table border=\"1\" class=\"dataframe\">\n",
       "  <thead>\n",
       "    <tr style=\"text-align: right;\">\n",
       "      <th></th>\n",
       "      <th>neg</th>\n",
       "      <th>neu</th>\n",
       "      <th>pos</th>\n",
       "      <th>compound</th>\n",
       "    </tr>\n",
       "  </thead>\n",
       "  <tbody>\n",
       "    <tr>\n",
       "      <th>1</th>\n",
       "      <td>0.000</td>\n",
       "      <td>0.695</td>\n",
       "      <td>0.305</td>\n",
       "      <td>0.9441</td>\n",
       "    </tr>\n",
       "    <tr>\n",
       "      <th>2</th>\n",
       "      <td>0.138</td>\n",
       "      <td>0.862</td>\n",
       "      <td>0.000</td>\n",
       "      <td>-0.5664</td>\n",
       "    </tr>\n",
       "    <tr>\n",
       "      <th>3</th>\n",
       "      <td>0.091</td>\n",
       "      <td>0.754</td>\n",
       "      <td>0.155</td>\n",
       "      <td>0.8265</td>\n",
       "    </tr>\n",
       "    <tr>\n",
       "      <th>4</th>\n",
       "      <td>0.000</td>\n",
       "      <td>1.000</td>\n",
       "      <td>0.000</td>\n",
       "      <td>0.0000</td>\n",
       "    </tr>\n",
       "    <tr>\n",
       "      <th>5</th>\n",
       "      <td>0.000</td>\n",
       "      <td>0.552</td>\n",
       "      <td>0.448</td>\n",
       "      <td>0.9468</td>\n",
       "    </tr>\n",
       "    <tr>\n",
       "      <th>...</th>\n",
       "      <td>...</td>\n",
       "      <td>...</td>\n",
       "      <td>...</td>\n",
       "      <td>...</td>\n",
       "    </tr>\n",
       "    <tr>\n",
       "      <th>496</th>\n",
       "      <td>0.000</td>\n",
       "      <td>0.554</td>\n",
       "      <td>0.446</td>\n",
       "      <td>0.9725</td>\n",
       "    </tr>\n",
       "    <tr>\n",
       "      <th>497</th>\n",
       "      <td>0.059</td>\n",
       "      <td>0.799</td>\n",
       "      <td>0.142</td>\n",
       "      <td>0.7833</td>\n",
       "    </tr>\n",
       "    <tr>\n",
       "      <th>498</th>\n",
       "      <td>0.025</td>\n",
       "      <td>0.762</td>\n",
       "      <td>0.212</td>\n",
       "      <td>0.9848</td>\n",
       "    </tr>\n",
       "    <tr>\n",
       "      <th>499</th>\n",
       "      <td>0.041</td>\n",
       "      <td>0.904</td>\n",
       "      <td>0.055</td>\n",
       "      <td>0.1280</td>\n",
       "    </tr>\n",
       "    <tr>\n",
       "      <th>500</th>\n",
       "      <td>0.000</td>\n",
       "      <td>0.678</td>\n",
       "      <td>0.322</td>\n",
       "      <td>0.9811</td>\n",
       "    </tr>\n",
       "  </tbody>\n",
       "</table>\n",
       "<p>500 rows × 4 columns</p>\n",
       "</div>"
      ],
      "text/plain": [
       "       neg    neu    pos  compound\n",
       "1    0.000  0.695  0.305    0.9441\n",
       "2    0.138  0.862  0.000   -0.5664\n",
       "3    0.091  0.754  0.155    0.8265\n",
       "4    0.000  1.000  0.000    0.0000\n",
       "5    0.000  0.552  0.448    0.9468\n",
       "..     ...    ...    ...       ...\n",
       "496  0.000  0.554  0.446    0.9725\n",
       "497  0.059  0.799  0.142    0.7833\n",
       "498  0.025  0.762  0.212    0.9848\n",
       "499  0.041  0.904  0.055    0.1280\n",
       "500  0.000  0.678  0.322    0.9811\n",
       "\n",
       "[500 rows x 4 columns]"
      ]
     },
     "execution_count": 45,
     "metadata": {},
     "output_type": "execute_result"
    }
   ],
   "source": [
    "pd.DataFrame(res).T"
   ]
  },
  {
   "cell_type": "code",
   "execution_count": 46,
   "metadata": {},
   "outputs": [],
   "source": [
    "vader = pd.DataFrame(res).T\n",
    "vader = vader.reset_index().rename(columns={'index': 'Id'})\n",
    "vader = vader.merge(df, how='left')"
   ]
  },
  {
   "cell_type": "code",
   "execution_count": 47,
   "metadata": {},
   "outputs": [
    {
     "data": {
      "text/html": [
       "<div>\n",
       "<style scoped>\n",
       "    .dataframe tbody tr th:only-of-type {\n",
       "        vertical-align: middle;\n",
       "    }\n",
       "\n",
       "    .dataframe tbody tr th {\n",
       "        vertical-align: top;\n",
       "    }\n",
       "\n",
       "    .dataframe thead th {\n",
       "        text-align: right;\n",
       "    }\n",
       "</style>\n",
       "<table border=\"1\" class=\"dataframe\">\n",
       "  <thead>\n",
       "    <tr style=\"text-align: right;\">\n",
       "      <th></th>\n",
       "      <th>Id</th>\n",
       "      <th>neg</th>\n",
       "      <th>neu</th>\n",
       "      <th>pos</th>\n",
       "      <th>compound</th>\n",
       "      <th>ProductId</th>\n",
       "      <th>UserId</th>\n",
       "      <th>ProfileName</th>\n",
       "      <th>HelpfulnessNumerator</th>\n",
       "      <th>HelpfulnessDenominator</th>\n",
       "      <th>Score</th>\n",
       "      <th>Time</th>\n",
       "      <th>Summary</th>\n",
       "      <th>Text</th>\n",
       "    </tr>\n",
       "  </thead>\n",
       "  <tbody>\n",
       "    <tr>\n",
       "      <th>0</th>\n",
       "      <td>1</td>\n",
       "      <td>0.000</td>\n",
       "      <td>0.695</td>\n",
       "      <td>0.305</td>\n",
       "      <td>0.9441</td>\n",
       "      <td>B001E4KFG0</td>\n",
       "      <td>A3SGXH7AUHU8GW</td>\n",
       "      <td>delmartian</td>\n",
       "      <td>1</td>\n",
       "      <td>1</td>\n",
       "      <td>5</td>\n",
       "      <td>1303862400</td>\n",
       "      <td>Good Quality Dog Food</td>\n",
       "      <td>I have bought several of the Vitality canned d...</td>\n",
       "    </tr>\n",
       "    <tr>\n",
       "      <th>1</th>\n",
       "      <td>2</td>\n",
       "      <td>0.138</td>\n",
       "      <td>0.862</td>\n",
       "      <td>0.000</td>\n",
       "      <td>-0.5664</td>\n",
       "      <td>B00813GRG4</td>\n",
       "      <td>A1D87F6ZCVE5NK</td>\n",
       "      <td>dll pa</td>\n",
       "      <td>0</td>\n",
       "      <td>0</td>\n",
       "      <td>1</td>\n",
       "      <td>1346976000</td>\n",
       "      <td>Not as Advertised</td>\n",
       "      <td>Product arrived labeled as Jumbo Salted Peanut...</td>\n",
       "    </tr>\n",
       "    <tr>\n",
       "      <th>2</th>\n",
       "      <td>3</td>\n",
       "      <td>0.091</td>\n",
       "      <td>0.754</td>\n",
       "      <td>0.155</td>\n",
       "      <td>0.8265</td>\n",
       "      <td>B000LQOCH0</td>\n",
       "      <td>ABXLMWJIXXAIN</td>\n",
       "      <td>Natalia Corres \"Natalia Corres\"</td>\n",
       "      <td>1</td>\n",
       "      <td>1</td>\n",
       "      <td>4</td>\n",
       "      <td>1219017600</td>\n",
       "      <td>\"Delight\" says it all</td>\n",
       "      <td>This is a confection that has been around a fe...</td>\n",
       "    </tr>\n",
       "    <tr>\n",
       "      <th>3</th>\n",
       "      <td>4</td>\n",
       "      <td>0.000</td>\n",
       "      <td>1.000</td>\n",
       "      <td>0.000</td>\n",
       "      <td>0.0000</td>\n",
       "      <td>B000UA0QIQ</td>\n",
       "      <td>A395BORC6FGVXV</td>\n",
       "      <td>Karl</td>\n",
       "      <td>3</td>\n",
       "      <td>3</td>\n",
       "      <td>2</td>\n",
       "      <td>1307923200</td>\n",
       "      <td>Cough Medicine</td>\n",
       "      <td>If you are looking for the secret ingredient i...</td>\n",
       "    </tr>\n",
       "    <tr>\n",
       "      <th>4</th>\n",
       "      <td>5</td>\n",
       "      <td>0.000</td>\n",
       "      <td>0.552</td>\n",
       "      <td>0.448</td>\n",
       "      <td>0.9468</td>\n",
       "      <td>B006K2ZZ7K</td>\n",
       "      <td>A1UQRSCLF8GW1T</td>\n",
       "      <td>Michael D. Bigham \"M. Wassir\"</td>\n",
       "      <td>0</td>\n",
       "      <td>0</td>\n",
       "      <td>5</td>\n",
       "      <td>1350777600</td>\n",
       "      <td>Great taffy</td>\n",
       "      <td>Great taffy at a great price.  There was a wid...</td>\n",
       "    </tr>\n",
       "  </tbody>\n",
       "</table>\n",
       "</div>"
      ],
      "text/plain": [
       "   Id    neg    neu    pos  compound   ProductId          UserId  \\\n",
       "0   1  0.000  0.695  0.305    0.9441  B001E4KFG0  A3SGXH7AUHU8GW   \n",
       "1   2  0.138  0.862  0.000   -0.5664  B00813GRG4  A1D87F6ZCVE5NK   \n",
       "2   3  0.091  0.754  0.155    0.8265  B000LQOCH0   ABXLMWJIXXAIN   \n",
       "3   4  0.000  1.000  0.000    0.0000  B000UA0QIQ  A395BORC6FGVXV   \n",
       "4   5  0.000  0.552  0.448    0.9468  B006K2ZZ7K  A1UQRSCLF8GW1T   \n",
       "\n",
       "                       ProfileName  HelpfulnessNumerator  \\\n",
       "0                       delmartian                     1   \n",
       "1                           dll pa                     0   \n",
       "2  Natalia Corres \"Natalia Corres\"                     1   \n",
       "3                             Karl                     3   \n",
       "4    Michael D. Bigham \"M. Wassir\"                     0   \n",
       "\n",
       "   HelpfulnessDenominator  Score        Time                Summary  \\\n",
       "0                       1      5  1303862400  Good Quality Dog Food   \n",
       "1                       0      1  1346976000      Not as Advertised   \n",
       "2                       1      4  1219017600  \"Delight\" says it all   \n",
       "3                       3      2  1307923200         Cough Medicine   \n",
       "4                       0      5  1350777600            Great taffy   \n",
       "\n",
       "                                                Text  \n",
       "0  I have bought several of the Vitality canned d...  \n",
       "1  Product arrived labeled as Jumbo Salted Peanut...  \n",
       "2  This is a confection that has been around a fe...  \n",
       "3  If you are looking for the secret ingredient i...  \n",
       "4  Great taffy at a great price.  There was a wid...  "
      ]
     },
     "execution_count": 47,
     "metadata": {},
     "output_type": "execute_result"
    }
   ],
   "source": [
    "vader.head()"
   ]
  },
  {
   "cell_type": "code",
   "execution_count": 48,
   "metadata": {},
   "outputs": [
    {
     "data": {
      "text/plain": [
       "<bound method Axes.plot of <Axes: title={'center': 'Distribution of VADER Compound Scores by Review Score'}, xlabel='Score', ylabel='compound'>>"
      ]
     },
     "execution_count": 48,
     "metadata": {},
     "output_type": "execute_result"
    },
    {
     "data": {
      "image/png": "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",
      "text/plain": [
       "<Figure size 640x480 with 1 Axes>"
      ]
     },
     "metadata": {},
     "output_type": "display_data"
    }
   ],
   "source": [
    "ax = sns.barplot(x='Score', y='compound', data=vader)\n",
    "ax.set_title('Distribution of VADER Compound Scores by Review Score')\n",
    "ax.plot"
   ]
  },
  {
   "cell_type": "code",
   "execution_count": 49,
   "metadata": {},
   "outputs": [
    {
     "data": {
      "text/plain": [
       "<bound method Axes.plot of <Axes: title={'center': 'Mean VADER Compound Score by Review Score'}, xlabel='Score', ylabel='pos'>>"
      ]
     },
     "execution_count": 49,
     "metadata": {},
     "output_type": "execute_result"
    },
    {
     "data": {
      "image/png": "iVBORw0KGgoAAAANSUhEUgAAAkQAAAHMCAYAAAA067dyAAAAOXRFWHRTb2Z0d2FyZQBNYXRwbG90bGliIHZlcnNpb24zLjguMywgaHR0cHM6Ly9tYXRwbG90bGliLm9yZy/H5lhTAAAACXBIWXMAAA9hAAAPYQGoP6dpAABGL0lEQVR4nO3deXgUVcL24aebdFZIQtiSGEkIISAaNgFlk21ERERAXgRcQCQKqLgjiwuMwgzDMK++AzMuIMgojjEOaBRQRASR+IGDioBjZJM1EJaEJRAScr4/mC5p0oFAErqxfvd15YI6dbrq1NLVT1edqnYYY4wAAABszOnrBgAAAPgagQgAANgegQgAANgegQgAANgegQgAANgegQgAANgegQgAANgegQgAANgegQgAANgegQgA/svhcKhTp06+bobfmzBhghwOh7744gtfN8UvfPHFF3I4HJowYYKvm4JyIBBVAofDIYfDIafTqc2bN5dar3PnzlbdOXPmXLoGVqDXX39dDodD/fv3P2/dyZMny+Fw6JFHHikxLjk5WQ6HQ23btj3nNDp16mStM4fDoYCAAFWvXl2NGjVS//79NXv2bB09etTra+fMmePxWm9/CQkJ55yfw+FQ1apV1axZM02cOLHUeZ3PyZMnNWvWLN1yyy2KiYlRUFCQqlWrpmbNmunRRx/VunXrLmq6uLROnTql119/XR07dlRUVJRcLpdq166tJk2aaNiwYfrwww993cTfHG/v46CgIMXHx+vOO+/U999/7+sm+q2ffvpJqampSkpKUnBwsMLCwlSvXj1169ZNv//977V3715fN9GnAnzdgN+qgIAAFRUVadasWZo8eXKJ8T///LO++OILq97lauDAgXr88cf1wQcfaP/+/apZs6bXesYYzZo1S5J0//33e4xbtmyZfv75ZzkcDmVmZmr9+vW65pprzjnfwYMHKyEhQcYYHTlyRFu2bNFnn32m9957T+PGjdOsWbPUo0cPr69t2rSpevfu7XVcZGTkeee3e/duLViwQBMmTNCHH36ozMxMBQYGnrO9Z8rKylLv3r31448/qmbNmrrxxhtVt25dnTx5Uhs3btQrr7yi//u//9OCBQvUq1evMk8Xl9apU6fUs2dPLV68WJGRkbrlllsUFxenkydPasOGDZo3b57+85//sA0ryZnv48OHD+urr77SvHnz9P7772vp0qVq167dJWtL69atrfezv/r88891yy236MSJE2rTpo26d++u8PBw7d69W6tWrdKSJUvUtm1b1alTx9dN9R2DCifJXHHFFaZly5YmOjraFBYWlqgzevRoI8n06dPHSDKzZ8++9A2tIKmpqUaSmTZtWql1PvvsMyPJtG3btsS4AQMGGElmzJgxRpJ5+OGHS51Ox44djSSzbNmyEuOOHz9uXnzxReN0Ok1gYKBZvny5x/jZs2cbSWbw4MFlXrbS5rd//34TGxtrJJk5c+aUeXrZ2dkmLi7OSDKPPvqoyc/PL1Fn7969ZuTIkRc0XVQMSaZjx45lqvuPf/zDSDJNmzY1ubm5JcYfO3bMfP755xXcQv/w/PPPl/o+rGzneh8/8MADRpLp1KnTJW+Xv0tKSjrn8er7778327dvv8St8i9cMqtEqampys7O1kcffeRRXlhYqDlz5qht27Zq3Lhxqa8/ePCgxo4dq6uuukohISGKiIhQ165d9emnn5aom5eXp6lTp6pLly6Ki4tTYGCgatWqpV69eikzM9Pr9N39Jfbv36/777/funRz9dVXa/bs2WVeTvcZn5kzZ5Za5/XXX/eo63bgwAHNnz9fDRo00AsvvKDo6Gi99dZbOnHiRJnn7xYcHKzx48frmWee0cmTJ71emqsoNWrUsL6drlmzpsyve+aZZ7Rz504NHDhQ//u//6uQkJASdWrXrq0ZM2ZowIABHuV79uzRgw8+qISEBGv79u3bV//+979LTMN9WWHOnDlasmSJOnTooKpVq6pWrVq69957lZubK0n69ttv1bNnT1WvXl1Vq1ZVr169tG3bthLTc186LCgo0DPPPKN69eopKChI9evX18SJE3Xy5Emvy7t06VJ1795dUVFRCgoKUnJyssaMGaO8vLwSdRMSEkpcsnQrrc/KxezDJ0+e1AsvvKD69esrKChI9erV0zPPPKOCggKv9UuzatUqSdKQIUMUERFRYnxoaKg6d+7s9bXvvvuuunbtqqioKAUHByshIUEDBw7UN99841GvoKBAf/zjH5WSkqLQ0FCFh4erQ4cOSktLKzHNbdu2yeFwaMiQIcrKytIdd9yh2rVry+l0eqy3Tz75RD169FDNmjWtbfjUU09Z+8SFevPNN9W8eXOFhISodu3aGjp0qLKzsz3qtGnTRk6n0+u+JUnTpk2Tw+HQn//854tqg9t9990nyft7sqioSH/72990/fXXKzw8XKGhoWrevLmmT5+u4uJiq97XX38th8OhPn36lDqfq666SkFBQTp48KCkc/chKutx/JNPPpHD4dD48eM9ypctW2ZdGtyxY4fHuDvuuEMOh0Nbtmw553rZt2+fNm3apIiICA0ePNhrnSZNmujKK68sUb5z506NGjVKDRo0UEhIiKKiotS6dWu98MILJer++9//1u23367atWtblzFHjhypPXv2lKg7ZMgQq+1//etf1aRJE4WEhHj04buQz8AK4etE9luk/54hOnz4sAkLCzO33HKLx/j09HTrrND48eO9niHatm2bSUhIMJJMhw4dzKOPPmpSU1NNTEyMcTgc5rXXXvOon5mZaVwul+natau5//77zdNPP20GDhxowsLCTEBAgFm0aJHXdjZt2tQkJyeba665xjz00EMmNTXVREZGXvCZj2bNmhlJZuXKlSXG7d+/3wQFBZmIiIgSZ0SmTZtmJJlJkyYZY4x54oknjCQzd+5cr/M51xkit8OHD5uQkBAjyaxfv94qr8gzRMYYM3LkSOtMT1nk5+eboKAgI8n85z//KXMbjDFmy5Yt1hmpLl26mDFjxpg777zTBAYGmsDAQJORkeFR372sffr0MS6Xy/Tp08c88cQTpk2bNtY36MzMTBMaGmpuuukm88QTT5hu3boZSebqq682p06d8roeevXqZWJiYszDDz9sHn/8cVO/fn0jyfTs2dMUFxd7vOaVV14xDofDVK1a1dx7773m6aefNtddd52RZBo3bmwOHTrkUT8+Pt7Ex8d7Xf7Szkhc6D5cXFxsbrvtNiPJ1K9f3zz++OPmoYceMjExMaZXr14XdIbomWeeMZLMiBEjylTfPf/BgwcbSaZmzZrmvvvuM2PGjDF33XWXueKKK8zzzz9v1S0oKLDWe6NGjcyTTz5pRo4caWrXrm0kmbFjx3pMe+vWrUaSad++vYmMjDStW7c2jz76qHnggQfMv//9b2OMMRMmTDCSTFRUlLnnnnvMk08+aW33xo0bm7y8vDIth3t79OrVywQHB5vBgwebMWPGmPbt2xtJpl69embfvn1W/TfffNNIMuPGjfM6veTkZBMUFGRycnLOO+9zvY9Xr15tJJnIyEiP8pMnT5qbbrrJSDINGzY0DzzwgHnkkUdMkyZNjCRz1113edRv2LChCQwMNPv37y8xj//3//6fkWRuv/12q2zZsmVGksf2M+bCjuPHjh0zgYGB5rrrrvOYhvsz4uzPieLiYlOrVi2TkJBwvlVmTpw4YQICAkyVKlXM7t27z1vfbc2aNSYqKspIMjfccIMZPXq0eeihh0yXLl2M0+n0qJuRkWECAwONy+UyAwcONGPGjDE33nijkWRiY2PNli1bPOq73wc9e/Y0ERERZtCgQebpp5+29pEL/QysCASiSuAORMYYc99995kqVaqYHTt2WONvuukmEx4ebo4dO1ZqIOrYsaNxOBzmnXfe8Sg/dOiQadq0qQkODjbZ2dlWeW5urteDyY4dO0xMTIxp1KiR13ZKMvfdd58pKiqyyjds2GCqVKlirrrqqjIv89/+9rdSD1J/+ctfjCTz4IMPlhjXqFEj43Q6rfXzww8/WAd1b8oSiIwx1oH5jTfesMrcB9KmTZua559/3uvf2cGxtPnt27fPxMTEGEkmPT39nG1xW7Fihce+cSHcH1ovvviiR/lXX31lqlSpYqKiosyRI0dKLGuVKlXMF198YZWfOnXK/O53vzOSTPXq1c1bb73lMb2hQ4caSWbBggUe5e710KBBA3Pw4EGr/Pjx4+b6668vEWK3bdtmAgMDTbVq1cyPP/7oMa0RI0YYSSY1NdWj/GID0YXsw2+//baRZK6//npz/Phxq/zAgQMmMTHxggLR2rVrjcvlMg6Hw9x1113m/fffN9u2bTvna1599VUjybRq1arEZbaioiKPD6vJkycbSebmm2/2uOy+d+9eEx8fbySZr776yip3ByJvYckYYz7//HMjybRp06ZEGHXvL2UN9+7t4XK5zNq1az3GPfroo0aSGTp0qFV2/PhxU6NGDa9dCNxhYtCgQWWa97kC0bBhw6wPWW/tfeihhzz2k6KiIq/7vHvd//Wvfy0xD/cXoQ8//LDEMpwdiC70ON6hQwdTpUoVj33j+uuvN82bNzc1atTwCG7fffddifV8LrfffruRZBITE83UqVPN119/bY4dO1Zq/YKCAiuQvP322yXGn/mZduTIERMVFWWcTqdZsWKFR70//vGPRpK58cYbPcrdgchbWDLmwtddRSAQVYIzP/S+/vprI8lMnDjRGHP6g8LpdFrfKr0FIveO3q9fP6/TX7BggZFkZsyYUab2PPzww0aS+eWXX0q0MzQ01Ou3whtuuMFI8viQPZe8vDwTFhbmdXqNGzc2ksz333/vUe4OCN26dfMov/baa40ks3HjxhLzKWsguuOOO4wkM2XKFKvMfSA9198jjzzidX6DBw82zz//vHnuuefMsGHDTI0aNYwk079//xJnU0rz7rvvGkklvgGez44dO4wkU7duXXPy5MkS4++66y4jybz55psllvXsb77G/PptvUOHDiXGffHFF0aSmTBhgke5ez14O3Pn/jA4s9/Giy++WOoH88GDB021atVMcHCwOXHihFV+sYHoQvZhdxj01rfHvc7KGoiMOb1No6OjPfahqKgo07t3b48PTLdrrrnGSCoRIrxJSkoyDoejRKA0xpiZM2caSebee++1ytyBqE6dOh7r1a13795G8jxreqZmzZqZWrVqnbddxvy6Pbx9GOfm5pqIiIgS2/fJJ5/0+gXC3Yfw7D5/pfH2xeaxxx4zLVu2tD5gf/rpJ6v+qVOnTFRUVKn9OQ8dOmQcDof5n//5H6tsx44dxul0mpYtW3rULSgoMFFRUaZ27doe0/IWiC7mOO4+g/fBBx8YY06f7Q4ICDCjR482/fr1M7GxsVZd99l1b2HFm4MHD5q+ffsah8Nh7atOp9M0adLEjB8/vkS4cF/J6NWr13mn/dZbbxlJZuDAgSXGFRYWWsHqzM8gdyB66aWXSrymoj8Dy4q7zCrZddddp5SUFL3xxht65plnNHPmTBUXFys1NbXU17j7/OTl5Xm9Jp2TkyNJ+vHHHz3Kv/rqK7388svKzMzUvn37SvTr2LVrl+rWretR1qBBA4WHh5eYh/ta8qFDh1S1atXzLmd4eLjuuOMOvfHGG3r77bc1YsQISaf7WWzcuFGtW7dWkyZNPF7z2muvSZLuvfdej/IhQ4bo3//+t15//XX95S9/Oe+8vTHGSDrdx+RsgwcPvuDHHLz55pslyu6991698cYbF9W+C/Htt99Kkjp06CCXy1VifJcuXfTWW2/p22+/1T333OMxrmXLliXqx8bGSpKuvfbaEuOuuOIKSaf7DXjTsWPHEmXt27dXlSpVrHZK0tq1a622na169epq3ry5VqxYof/85z9q2rSp13mV1YXsw2vXrpXT6VT79u1L1L+Y5w/1799fffr00bJly7Ry5Up9++23WrlypRYsWKAFCxbonnvusfpzHTt2TOvXr1edOnXUvHnzc073yJEj2rRpk6644go1atSoxHj3ej1znbs1bdpUQUFBJcozMzPlcrn03nvv6b333isx/uTJk8rJydGBAwdUo0aNMi2/t/0hIiJCzZo10/Lly/Xjjz+qWbNmkqQRI0Zo2rRpevXVV3X77bdLkvbv36/58+frqquu0g033FCmebp9//33JW6xr1u3rr788kuP41xWVpYOHjyoBg0a6MUXX/Q6rZCQEI/jaVxcnLp27aolS5Zo48aNVl/PjIwMHTx4UI899pgCAs798Xkxx/EuXbpowoQJWrp0qXr16qXly5erqKhIXbt2VUJCgtLT0/Xjjz/qqquu0ueff269piyqV6+u999/X9u2bdMnn3yib775RmvWrNG6deu0bt06/f3vf9fixYvVqlUrSaf7UknSzTfffN5pn+v9HhAQoBtuuEHbtm3Tt99+W+IzqHXr1iVec7GfgeVFILoEUlNTNWrUKC1atEizZ8/Wtddee84D4oEDByRJS5Ys0ZIlS0qtd+YzcObPn69+/fopODhYN954o+rXr6+wsDCrQ+Xy5cu9dhot7TZz95v91KlTZVlESaeX84033tDMmTOtQOTuaH12Z+pDhw4pPT1dkZGRJW6BHzRokJ544gnNnTtXf/jDH7we3M9n9+7dkqRatWpd8Gu9WbZsmTp16qTCwkL9+OOPeuyxxzR79mwlJibqmWeeKdM0YmJiJJ0OphfC3QHZ/frSpuutU6y3zr7ubXuucYWFhV7n5e2W3ICAANWsWVP79u2rkDZfqAvZh/Py8qznBZ0tOjr6oubvcrnUrVs3devWzZrf+++/r6FDh2ru3Lnq06ePevfubS2rO3SeS3nWX2nLceDAARUVFWnixInnnPfRo0fLHIhKu0Xb3YYzO88nJibqpptu0ieffKLNmzerfv36evPNN1VQUKAHHnigTPM7k/uLjTFG+/bt06xZs/TMM8/o1ltvVWZmpkJDQyX9ejz9+eefz7nsZz9TbMiQIVqyZInefPNNTZkyRdKvX4xK65h8pos5jl9//fUKCwvT0qVLJZ2+KSEwMFDt27e3bjhYunSpGjRooBUrVqhx48YXvN8mJCTogQcesNb5zp07NXLkSGVkZCg1NVXfffedJPl0f72YdVcRuMvsErj77rsVEhKi4cOHa9euXSXCwdncH1Qvv/yyzOnLml7/zryL5tlnn1VgYKC++eYbLViwQNOmTdPvf/97TZgwQQ0bNqzU5XO7/vrr1aRJE61du1Zr167VkSNHlJaWpvDw8BJ3TM2dO1cnTpxQbm6uQkJCPB6yVqNGDZ08eVIHDhzQ+++/f8HtOHLkiHXn1XXXXVchy+bmcrnUpEkTZWRkKD4+Xs8//7zXb+netGzZUkFBQdq5c6eysrLKPE/3/nD2nTtu7js4vAWciubtwW1FRUXav3+/x1mai2mz0+ks9ZlcFRGc3PM7ePCg18BXWlsvVJUqVdS/f3899thjkmR9k3cHt7IE4vJsc29nRd11q1evfs5jijFG8fHx522fW2kP8nO3++z2jRgxQsYY667T1157TcHBwSXObF4Ih8OhOnXqaNy4cXriiSe0bt06jy8p7jb06dPnnMu9detWj+n26dNH4eHheuutt3Tq1Cnt27dPixYtUtOmTct0VvNijuMul0vt27fXhg0blJ2draVLl6pNmzYKDQ1VcnKy4uLi9Nlnn2n16tU6cuRImc8OnUtcXJz++c9/KjAwUN9//71155wv99eLWXcVgUB0CURGRqpfv37auXOnwsLCNHDgwHPWv/766yVJX375ZZnnsWnTJjVu3FhXXXWVR3lxcbFWrlx54Y2+SO5LgTNnztS8efN07NgxDRo0SGFhYR713AfEgQMH6r777ivx169fP496F2Lq1Kk6fvy4WrRoUWJ9VJTQ0FBNmTJFxcXFGj16dJleExISorvvvluS9Pvf//689d1n9NxnE1euXOk1MCxbtkyS1KJFizK1ozyWL19eomzlypU6deqUx1lP9/+9/bRDbm6uvvvuOwUHB3tsn+rVq2vv3r1ew8rZt6NfrBYtWpT6nqjon6GoVq2apF8v34aFhemaa67R3r17zxuiq1Wrpvr162vXrl36+eefS4y/mG1+/fXX69ChQ9qwYUOZX3M+3vaHvLw8r9tXknr27Km6detq9uzZ+vTTT5WVlaX+/furevXqFdKe5557TrVq1dL06dOtgNOoUSNFRkbq66+/LvXMpzchISHq37+/du/erc8++0zz5s1TUVFRmc4OSRd3HJekrl27SpLeeecdrV+/3hqWTl+S+uKLL6yzJmeOK4+goCDr4bLu/dXd/kWLFp339ed6vxcVFVnroKz768Wuu3Kr0B5JMMZ4dqp2++WXX8z8+fNL3JZe2l1mHTp0ME6n08yaNcvrPNatW2f27t1rDTds2NBUq1bN7Nq1yyorLi42zz77rNWBzluH1NI6kLo7vG3duvXcC3uWQ4cOmZCQEBMREWHd0uq+5dftq6++MtLp23xLc+rUKetOmqysLKv8fA9mnDRpkvVgxi+//NJjfEXfdl9cXGxSUlLK1Mnb7cwHMz755JNeH8yYk5NjHn74YY9bxt23r06dOtWj7tdff22qVKliqlevbg4fPmyVu5fV2wM/S7sjxphfO+aevY7KcpfZmZ26t27dalwul4mIiDA///yzx7QeeughI8kMGzbMo3z48OFGknn11Vc9ys/sDF/efdh9l1mbNm1K3GXmfoRAWTtVz5s3z3z66adeO9Xv2bPHehBeWlqaVf7aa68ZlXKX2alTpzzuMps0aZKRZG677TaPO6NycnKsTqpn7uOlbTs398NR27Rp43GccDt69KjJzMws07KX5S6zMzt8n8nd4f6KK64wksyqVavKNE+3872P//znPxtJ5p577rHK3MfB4cOHe33P7d6922zYsKFE+cqVK43+ewdc8+bNTUBAgMdx162099SFHseNMeabb74xkqzHK5x5J+GcOXOscU6ns8TdgqU5evSo+f3vf1/qXVnudXbmMfnMu8zmzZtX4jXe7jKrUqVKiX1o6tSpRpL53e9+51F+vs+Yi1l35UUgqgTeAlFpSgtEO3bsMA0aNLDuprj//vvN6NGjzaBBg6w7Vc7c8V555RXrjTJixAgzatQoc+2115qQkBBz6623XrJAZIwx99xzj/UBdu2115Y67XM92dqYX++4ePLJJ62ys+/6ev75583jjz9uevfubT0vIyYmxutzl8py272322bPFXjmz59vfciU1U8//WSuuuoqI8nUqlXLDBo0yIwZM8Y8/vjj5uabbzYhISHG6XR63KW0efNm626mG2+80YwdO9bcddddJigoyLhcrhK3yVdWICrtOUS33HJLiecQzZgxw0gy1apVs563434OUqNGjcyBAwc86m/YsMEEBQUZp9Np+vfvb5544gnTtWtXExoaanr27Fkh+3BxcbH1vCH3c4gefvjhi3oO0SOPPGIkmejoaNOvXz/z1FNPmaeeesr069fPeg7Wbbfd5rFeiouLzd13321t+2HDhpmxY8eawYMHmyuvvLLEc4jcj4+4+uqrzVNPPWUefPBB64Ny9OjRHu05XyAy5vQt0A6Hw4SGhlptHjFihOnRo4cJCwszN910U5mW/cznEIWEhJR4DlFCQkKpH1bZ2dkmMDDQSDIpKSllmt+ZzheI8vPzTXR0tHE6ndadqidPnrS27xVXXGHuvvtuM2bMGDN06FDrg/cPf/iD1+klJSUZl8tlJJlbb73Va53S3lMXehw35nQwrl69uvXeOfNuNvcdp5JK3AF3LocOHTLS6cdwtGnTxowYMcKMGzfODB8+3PpSFxYWVuKW+TVr1lht6dixo3n66afNI488Yrp162aqVKniUXfBggXG5XKZwMBAc+edd5qxY8dajwuJjo42mzdv9qh/vs+Yi1l35UUgqgQVEYiMOX3L5aRJk0yLFi1MWFiYCQ4ONgkJCaZHjx7m1VdfNUePHvWoP3v2bNO0aVMTGhpqatSoYXr37m3WrVt3zluWKyMQub9Vefu2n5uba0JDQ01gYOB5H8K2fft243Q6Ta1atUxBQYEx5tcPZvdflSpVTEREhGnYsKHp37+/mT17don14laW2+7PPmlaltv83Y8J8HabdWkKCgrMzJkzzc0332yio6ONy+UyVatWNddcc415+OGHzbp160q8ZufOnWb48OGmbt26xuVymRo1apjbbrvNrF69utRlrehAdOLECTN+/HiTkJBgAgMDTb169cyECRO83uZtjDGffPKJufHGG01kZKQJDAw09evXN0899VSp32y//PJL06FDBxMSEmKqVatmevToYb7//vsK3YcLCgrMxIkTTb169UxgYKCJj48348aNMydOnLigQLR9+3Yzffp007t3b5OcnGyqVatmXC6XiY6ONjfffLP5xz/+UeojGd566y1zww03mPDwcBMUFGQSEhLMoEGDSpxNdZ/1vPrqq01wcLCpWrWqadeunddv7GUJRMacXsf/8z//Y2JiYozL5TI1a9Y0TZs2NY899phZs2ZNmZb9zO3hPu4EBwebmjVrmiFDhpz34X/uRwBMnz69TPM7U1nO9P7f//2fkWT69u1rlRUXF5u5c+eaLl26mOrVqxuXy2ViY2NNu3btzKRJk0r92YoXXnjBOjaU9syxc72nLvQ4bowxffv2NZJMjx49SoxLTk72GojP5dSpU2bRokXm8ccfN61btzYxMTEmICDAVK1a1aSkpJhHHnmk1GP9L7/8YkaMGGESEhKMy+UyUVFRpnXr1tbDdM+0evVq07t3b1OzZk3jcrnMlVdeaYYPH+71jGRZPmMuZt2Vh8OY/14wBIBSdOrUScuXLxeHC5RXcXGxkpKStHfvXu3Zs8frIxMAX6BTNQDgkklPT9fWrVt1zz33EIbgV3gOEQCg0v3xj3/UwYMH9dprryksLExjx471dZMADwQiAEClGzt2rFwulxo3bqypU6eWeGIx4Gv0IQIAALZHHyIAAGB7BCIAAGB7BCIAAGB7BCIAAGB73GV2AQ4dOlTqr3EDAAD/EhAQUOYfDyYQXYCioqIL+rVkAABweeCSGQAAsD0CEQAAsD0CEQAAsD0CEQAAsD0CEQAAsD0CEQAAsD0CEQAAsD0CEQAAsD0CEQAAsD0CEQAAsD0CEQAAsD0CEQAAsD0CEQAAsD1+7R4AAFiMMcrPz7eGQ0ND5XA4fNiiS4NABAAALPn5+Ro+fLg1/MorrygsLMyHLbo0uGQGAABsj0AEAABsj0AEAABsj0AEAABsj0AEAABsj0AEAABsj0AEAABsj0AEAABsj0AEAABsj0AEAABsj0AEAABsj0AEAABsj0AEAABsj0AEAABsj0AEAABsj0AEAABsj0AEAABsL8DXDQAAwK72PDXM100o4Xix8Rje+9wohTgdPmpN6WKmzqzQ6XGGCAAA2B6BCAAA2B6BCAAA2B59iAAAPmeMUX5+vjUcGhoqh8P/+q3gt4tABADwufz8fA0fPtwafuWVVxQWFubDFsFuuGQGAABsj0AEAABsj0AEAABsj0AEAABsj0AEAABsj0AEAABsj0AEAABsj0AEAABsj0AEAABsj0AEAABsj0AEAABsj0AEAABsj0AEAABsj1+7BwAAlmCHNLF2oMewHRCIAACAxeFwKMQmIehMXDIDAAC2RyACAAC2RyACAAC255d9iBYvXqyMjAzl5uYqPj5eQ4cOVVJSkte6n332mVasWKEdO3ZIkhITEzVw4ECP+sYYpaWlaenSpTp27JgaNWqkYcOGKSYm5pIsDwAA8G9+d4Zo1apVmjt3rvr166cpU6YoPj5ekyZNUl5entf6GzduVLt27fT888/rxRdfVI0aNfTiiy/q4MGDVp0PPvhAixYtUmpqqiZPnqygoCBNmjRJJ0+evFSLBQAA/JjfBaKPPvpIXbt2VefOnRUXF6fU1FQFBgZq2bJlXuuPGjVKN910kxISEnTFFVdo+PDhMsbohx9+kHT67NDChQvVt29ftWrVSvHx8XrooYd06NAhrVmz5lIuGgAA8FN+dcmsqKhIW7ZsUe/eva0yp9OplJQUZWVllWkaBQUFKioqUtWqVSVJ+/btU25urpo0aWLVCQ0NVVJSkrKystSuXbsS0ygsLFRhYaE17HA4FBISYv0fAFCxzj62OhwOjrc4p4reP/wqEB0+fFjFxcWKjIz0KI+MjNTu3bvLNI23335bUVFRSklJkSTl5uZKkiIiIjzqRUREWOPONn/+fKWnp1vD9erV05QpU1SrVq2yLQgA4IIcPXrUYzg6Otr6YvtbVrZPNnhT0f2A/SoQldeCBQv01VdfacKECQoMDDz/C0rRp08f9ezZ0xp2p9CcnBwVFRWVu50AAE/Hjh3zGM7OzlZYWJiPWoPLwZ49e85bJyAgoMwnM/wqEIWHh8vpdJY4c5Obm1virNHZPvzwQy1YsEDPPvus4uPjrXL36/Ly8lS9enWrPC8vTwkJCV6n5XK55HK5vI4zxpx3OQAAF+bsY6sxhuMtzqmi9w+/6lQdEBCgxMRErV+/3iorLi7W+vXrlZycXOrrPvjgA73//vsaN26c6tev7zGudu3aioyMtDpZS1J+fr42bdp0zmkCAAD78KszRJLUs2dPzZgxQ4mJiUpKStLChQtVUFCgTp06SZKmT5+uqKgoDRo0SNLpy2RpaWkaNWqUateubZ1dCg4OVnBwsBwOh3r06KF//etfiomJUe3atfXPf/5T1atXV6tWrXy0lAAAwJ/4XSBq27atDh8+rLS0NOXm5iohIUHjxo2zLn3t37/fo2f5kiVLVFRUpL/85S8e0+nXr5/69+8vSbrttttUUFCgV199Vfn5+WrUqJHGjRtXrn5GAADgt8NhuEhbZjk5OR634wMAKsaxY8c0fPhwa/iVV16xRafqPU8N83UTLlsxU2eet47L5Spzp2q/6kMEAADgCwQiAABgewQiAABgewQiAABgewQiAABgewQiAABgewQiAABgewQiAABgewQiAABgewQiAABgewQiAABge373464AgMrlj7+fdbzY82c19z43SiFORym1facsv5+FyxNniAAAgO0RiAAAgO0RiAAAgO0RiAAAgO0RiAAAgO0RiAAAgO0RiAAAgO0RiAAAgO0RiAAAgO0RiAAAgO0RiAAAgO0RiAAAgO0RiAAAgO0RiAAAgO0RiAAAgO0RiAAAgO0RiAAAgO0RiAAAgO0RiAAAgO0RiAAAgO0RiAAAgO0RiAAAgO0RiAAAgO0RiAAAgO0RiAAAgO0RiAAAgO0RiAAAgO0RiAAAgO0RiAAAgO0RiAAAgO0RiAAAgO0RiAAAgO0RiAAAgO0RiAAAgO0F+LoBAAAEO6SJtQM9hoFLiUAEAPA5h8OhEEIQfIhLZgAAwPYIRAAAwPYIRAAAwPYIRAAAwPYIRAAAwPYIRAAAwPYIRAAAwPYIRAAAwPYIRAAAwPYIRAAAwPYIRAAAwPYIRAAAwPYIRAAAwPYIRAAAwPYIRAAAwPYIRAAAwPYCfN0AAPAVY4zy8/Ot4dDQUDkcDh+2CICvEIgA2FZ+fr6GDx9uDb/yyisKCwvzYYsA+IrfBaLFixcrIyNDubm5io+P19ChQ5WUlOS17o4dO/Tuu+9q69atysnJ0eDBg3XLLbd41ElLS1N6erpHWWxsrF566aXKWgQAAHCZ8atAtGrVKs2dO1epqalq0KCBPv74Y02aNEkvvfSSIiIiStQvKChQnTp11KZNG7355pulTvfKK6/Us88+aw07nXSdAgAAv/KrZPDRRx+pa9eu6ty5s+Li4pSamqrAwEAtW7bMa/2kpCTdfffdateunVwuV6nTdTqdioyMtP7Cw8MraxEAAMBlyG/OEBUVFWnLli3q3bu3VeZ0OpWSkqKsrKxyTTs7O1sPPPCAXC6XkpOTNWjQINWsWbPU+oWFhSosLLSGHQ6HQkJCrP8D+G04+/3scDh4j+Oc2D/8R0VvC78JRIcPH1ZxcbEiIyM9yiMjI7V79+6Lnm6DBg00cuRIxcbG6tChQ0pPT9dzzz2nadOmWSHnbPPnz/fod1SvXj1NmTJFtWrVuuh2APA/R48e9RiOjo5W1apVfdSaS+fij6iIiYmp0OmxLS5eRW8LvwlElaV58+bW/+Pj462AlJmZqS5dunh9TZ8+fdSzZ09r2J1Cc3JyVFRUVLkNBnDJHDt2zGM4Ozubu8xwTnv27PF1E/BfZdkWAQEBZT6Z4TeBKDw8XE6nU7m5uR7lubm5Jc4alUdYWJhiY2OVnZ1dah2Xy1VqnyRjTIW1BYBvnf1+NsbwHsc5sX/4j4reFn7TqTogIECJiYlav369VVZcXKz169crOTm5wuZz4sQJZWdnV2jIAgAAlze/OUMkST179tSMGTOUmJiopKQkLVy4UAUFBerUqZMkafr06YqKitKgQYMkne6IvXPnTuv/Bw8e1LZt2xQcHKzo6GhJ0ty5c9WyZUvVrFlThw4dUlpampxOp9q3b++TZQQAAP7HrwJR27ZtdfjwYaWlpSk3N1cJCQkaN26cdTZn//79Hr3KDx48qNGjR1vDGRkZysjIUOPGjTVhwgSrzssvv6wjR44oPDxcjRo10qRJk7j1HgAAWPwqEElS9+7d1b17d6/j3CHHrXbt2kpLSzvn9B599NEKahkAAPit8ps+RAAAAL5CIAIAALbnd5fMgN86Y4zy8/Ot4dDQUJ5+CwA+RiACLrH8/HwNHz7cGn7llVd4GCAA+BiXzAAAgO0RiAAAgO0RiAAAgO0RiAAAgO0RiAAAgO0RiAAAgO0RiAAAgO0RiAAAgO0RiAAAgO0RiAAAgO0RiAAAgO0RiAAAgO0RiAAAgO0RiAAAgO0RiAAAgO0RiAAAgO0RiAAAgO0RiAAAgO0RiAAAgO0RiAAAgO0RiAAAgO0RiAAAgO0F+LoBAH779jw1zNdN8Op4sfEY3vvcKIU4HT5qTelips70dROA37wKD0QFBQX66quvVFRUpObNm6tWrVoVPQsAAIAKVa5A9Pe//12bNm3StGnTJElFRUUaP368duzYIUkKDQ3Vc889p3r16pW/pQAAAJWkXH2INmzYoNatW1vDK1eu1I4dO/Twww9r2rRpioyM1HvvvVfuRgIAAFSmcgWi3Nxcj0tiq1evVmJiotq3b6+4uDh17dpVmzZtKncjAQAAKlO5AlFQUJDy8/MlSadOndLGjRvVtGlTa3xwcLA1HgAAwF+Vqw9RYmKili5dqquvvlrffPONjh8/rpYtW1rj9+7dq4iIiHI3EgAAoDKV6wzRgAEDlJeXpzFjxig9PV3XXXedkpKSrPGrV69Ww4YNy91IAACAylSuM0T169fXSy+9pJ9++klhYWFq3LixNe7YsWO66aabPMoAAAD8UbmfQxQeHq5WrVqVKA8LC1OPHj3KO3kAAIBKVyEPZty4caPWrl2rnJwcSVKtWrXUokULzg4BAIDLQrkCUVFRkV566SWtWbNG0ukHMUpSfn6+MjIy1Lp1az3yyCMKCOAXQgAAgP8qV1J57733tGbNGt16663q2bOnIiMjJUl5eXnKyMhQRkaG0tPTNWDAgIpoKwAAQKUo111mK1euVMeOHXXXXXdZYUiSIiIidNddd+mGG27Ql19+Wd42AgAAVKpyP6n6zNvsz9agQQPl5uaWZxYAAACVrlyBKCoqShs3bix1/MaNGxUVFVWeWQAAAFS6cgWijh07KjMzU6+99pp2796t4uJiFRcXa/fu3Xr99deVmZmpTp06VVBTAQAAKke5OlX37dtXe/fu1dKlS7V06VI5nafzVXFxsaTTgalPnz7lbyUAAEAlKlcgcjqdevDBB9WzZ099++23Hs8hat68ueLj4yukkcDF2PPUMF83wavjxcZjeO9zoxTidPioNaWLmTrT100AgEumQh4Q5HA4rL8zhwEAAC4H5QpEhYWFeu2117RixQpJskKQMUbz5s1Thw4dNHz4cB7MCAAA/Fq5ksrbb7+tFStWqFu3brr55ptVp04dORwOZWdna+HChVqyZImqVq2qIUOGVFBzAQAAKl657jL78ssv1aFDB913332KjY1VlSpV5HQ6FRsbq2HDhql9+/Y8mBEAAPi9cgWioqIiJScnlzq+YcOGOnXqVHlmAQAAUOnKFYiaNm2q7777rtTx3333nZo0aVKeWQAAAFS6cgWiAQMGKCcnR3/+85/1ww8/KCcnRzk5OVq3bp2mTp2qnJwcDRgwQEePHvX4AwAA8Cfl6lT92GOPSZK2b9+uNWvWnLPOmd59993yzBYAAKBClSsQ3X777TxvCAAAXPbKFYj69+9fUe0AAADwmXL1IQIAAPgtIBABAADbIxABAADbIxABAADbIxABAADbIxABAADbIxABAADbIxABAADbIxABAADbIxABAADbK9dPd1SGxYsXKyMjQ7m5uYqPj9fQoUOVlJTkte6OHTv07rvvauvWrcrJydHgwYN1yy23lGuaAOwj2CFNrB3oMQzAnvzqDNGqVas0d+5c9evXT1OmTFF8fLwmTZqkvLw8r/ULCgpUp04dDRo0SJGRkRUyTQD24XA4FOL89Y8fqwbsy68C0UcffaSuXbuqc+fOiouLU2pqqgIDA7Vs2TKv9ZOSknT33XerXbt2crlcFTJNAABgP35zyayoqEhbtmxR7969rTKn06mUlBRlZWVd0mkWFhaqsLDQGnY4HAoJCbH+D9gB+7r/YFv4D7aF/6jobeE3gejw4cMqLi4ucekrMjJSu3fvvqTTnD9/vtLT063hevXqacqUKapVq9ZFtQO+cXF7DdxiYmIqbFpsi/KpyG0hsT3Kg23hPyp6W/hNIPInffr0Uc+ePa1hdwrNyclRUVGRr5oFXFJ79uzxdRPwX2wL/8G28B9l2RYBAQFlPpnhN4EoPDxcTqdTubm5HuW5ubmldpiurGm6XK5S+yQZYy6qLb5mjFF+fr41HBoayqlfnNPluq//FrEt/Afbwn9U9Lbwm07VAQEBSkxM1Pr1662y4uJirV+/XsnJyX4zzctVfn6+hg8fbv2dGY4AALA7vzlDJEk9e/bUjBkzlJiYqKSkJC1cuFAFBQXq1KmTJGn69OmKiorSoEGDJJ3uNL1z507r/wcPHtS2bdsUHBys6OjoMk0TAADArwJR27ZtdfjwYaWlpSk3N1cJCQkaN26cdXlr//79Hpd5Dh48qNGjR1vDGRkZysjIUOPGjTVhwoQyTRMAAMCvApEkde/eXd27d/c6zh1y3GrXrq20tLRyTRMAAMBv+hABAAD4CoEIAADYHoEIAADYHoEIAADYHoEIAADYHoEIAADYHoEIAADYHoEIAADYHoEIAADYnt89qRr4rQt2SBNrB3oMAwB8i0AEXGIOh0MhhCAA8CtcMgMAALZHIAIAALZHIAIAALZHIAIAALZHIAIAALZHIAIAALZHIAIAALZHIAIAALZHIAIAALZHIAIAALZHIAIAALZHIAIAALZHIAIAALZHIAIAALZHIAIAALZHIAIAALZHIAIAALZHIAIAALZHIAIAALZHIAIAALZHIAIAALZHIAIAALZHIAIAALYX4OsG/NbseWqYr5vg1fFi4zG897lRCnE6fNQa72KmzvR1EwAANsUZIgAAYHsEIgAAYHsEIgAAYHsEIgAAYHsEIgAAYHsEIgAAYHsEIgAAYHsEIgAAYHsEIgAAYHsEIgAAYHsEIgAAYHsEIgAAYHsEIgAAYHsEIgAAYHsEIgAAYHsEIgAAYHsEIgAAYHsEIgAAYHsEIgAAYHsEIgAAYHsEIgAAYHsEIgAAYHsEIgAAYHsEIgAAYHsEIgAAYHsEIgAAYHsEIgAAYHsEIgAAYHsEIgAAYHsEIgAAYHsEIgAAYHsBvm6AN4sXL1ZGRoZyc3MVHx+voUOHKikpqdT6mZmZevfdd5WTk6Po6GjdeeedatGihTV+xowZWr58ucdrmjZtqvHjx1faMgAAgMuH3wWiVatWae7cuUpNTVWDBg308ccfa9KkSXrppZcUERFRov5PP/2kl19+WYMGDVKLFi20cuVKTZ06VVOmTFHdunWtes2aNdPIkSOt4YAAv1t0AADgI353yeyjjz5S165d1blzZ8XFxSk1NVWBgYFatmyZ1/oLFy5Us2bN1KtXL8XFxWnAgAFKTEzU4sWLPeoFBAQoMjLS+qtateqlWBwAAHAZ8KvTJEVFRdqyZYt69+5tlTmdTqWkpCgrK8vra7KystSzZ0+PsqZNm2rNmjUeZRs3btSwYcMUFhama665RgMGDFC1atW8TrOwsFCFhYXWsMPhUEhIiPV/VA7WrX9he/gPtoX/YFv4j4reFn4ViA4fPqzi4mJFRkZ6lEdGRmr37t1eX5Obm1viUlpERIRyc3Ot4WbNmum6665T7dq1lZ2drXfeeUeTJ0/WpEmT5HSWPEk2f/58paenW8P16tXTlClTVKtWrfMug/dWoixiYmIqdHpsi/KpyO3Btigf3hv+g23hPyp6W/hVIKos7dq1s/5ft25dxcfH6+GHH9aGDRuUkpJSon6fPn08zjq5U2hOTo6Kiooqv8E2tWfPHl83AWdge/gPtoX/YFv4j7Jsi4CAgDKdzJD8LBCFh4fL6XR6nN2RTp8FOvuskVtkZKTy8vI8yvLy8kqtL0l16tRRtWrVlJ2d7TUQuVwuuVwur681xpxzGXDxWLf+he3hP9gW/oNt4T8qelv4VafqgIAAJSYmav369VZZcXGx1q9fr+TkZK+vSU5O1g8//OBRtm7dOjVo0KDU+Rw4cEBHjx5V9erVK6bhl4FghzSxdqD1F8xlcAAALH4ViCSpZ8+eWrp0qb744gvt3LlTM2fOVEFBgTp16iRJmj59uubNm2fV79Gjh77//ntlZGRo165dSktL0+bNm9W9e3dJ0okTJ/SPf/xDWVlZ2rdvn3744Qf96U9/UnR0tJo2beqLRfQJh8OhEOevf3QMBADgV351yUyS2rZtq8OHDystLU25ublKSEjQuHHjrEtg+/fv9/gwb9iwoUaNGqV//vOfeueddxQTE6OnnnrKegaR0+nU9u3btXz5ch07dkxRUVFq0qSJ7rjjjlIviwEAAHvxu0AkSd27d7fO8JxtwoQJJcratGmjNm3aeK0fGBjIE6kBAMA5+d0lMwAAgEuNQAQAAGyPQAQAAGyPQAQAAGyPQAQAAGyPQAQAAGyPQAQAAGyPQAQAAGyPQAQAAGyPQAQAAGyPQAQAAGyPQAQAAGyPQAQAAGyPQAQAAGyPQAQAAGyPQAQAAGyPQAQAAGyPQAQAAGyPQAQAAGyPQAQAAGyPQAQAAGyPQAQAAGyPQAQAAGyPQAQAAGyPQAQAAGyPQAQAAGyPQAQAAGyPQAQAAGyPQAQAAGyPQAQAAGyPQAQAAGyPQAQAAGyPQAQAAGyPQAQAAGyPQAQAAGyPQAQAAGyPQAQAAGyPQAQAAGyPQAQAAGyPQAQAAGyPQAQAAGyPQAQAAGyPQAQAAGyPQAQAAGyPQAQAAGyPQAQAAGyPQAQAAGyPQAQAAGyPQAQAAGyPQAQAAGyPQAQAAGyPQAQAAGyPQAQAAGyPQAQAAGyPQAQAAGyPQAQAAGyPQAQAAGyPQAQAAGyPQAQAAGyPQAQAAGyPQAQAAGyPQAQAAGyPQAQAAGyPQAQAAGyPQAQAAGwvwNcN8Gbx4sXKyMhQbm6u4uPjNXToUCUlJZVaPzMzU++++65ycnIUHR2tO++8Uy1atLDGG2OUlpampUuX6tixY2rUqJGGDRummJiYS7E4AADAz/ndGaJVq1Zp7ty56tevn6ZMmaL4+HhNmjRJeXl5Xuv/9NNPevnll9WlSxdNmTJFrVq10tSpU7V9+3arzgcffKBFixYpNTVVkydPVlBQkCZNmqSTJ09eqsUCAAB+zO8C0UcffaSuXbuqc+fOiouLU2pqqgIDA7Vs2TKv9RcuXKhmzZqpV69eiouL04ABA5SYmKjFixdLOn12aOHCherbt69atWql+Ph4PfTQQzp06JDWrFlzKRcNAAD4Kb8KREVFRdqyZYtSUlKsMqfTqZSUFGVlZXl9TVZWlkd9SWratKl+/vlnSdK+ffuUm5urJk2aWONDQ0OVlJRU6jQBAIC9+FUfosOHD6u4uFiRkZEe5ZGRkdq9e7fX1+Tm5ioiIsKjLCIiQrm5udZ4d1lpdc5WWFiowsJCa9jhcCgkJEQBAedfXSEJ9c9bB965XK4KnR7bonwqcnuwLcqH94b/YFv4j7Jsi7J8blt1y9OY36r58+crPT3dGm7Xrp0eeeQRVa9e/byvrTXpr5XZNFwAtoX/YFv4F7aH/2Bb+A+/umQWHh4up9NZ4sxNbm5uibNGbpGRkSU6XOfl5Vn13f+eq87Z+vTpozlz5lh/qampHmeMLlfHjx/X008/rePHj/u6KbbHtvAfbAv/wbbwH3bcFn4ViAICApSYmKj169dbZcXFxVq/fr2Sk5O9viY5OVk//PCDR9m6devUoEEDSVLt2rUVGRnpUSc/P1+bNm0qdZoul0uhoaEefxV9mtQXjDHaunWrjDG+bortsS38B9vCf7At/Icdt4VfBSJJ6tmzp5YuXaovvvhCO3fu1MyZM1VQUKBOnTpJkqZPn6558+ZZ9Xv06KHvv/9eGRkZ2rVrl9LS0rR582Z1795d0un+Pz169NC//vUvffPNN9q+fbumT5+u6tWrq1WrVr5YRAAA4Gf8rg9R27ZtdfjwYaWlpSk3N1cJCQkaN26cdXlr//79cjgcVv2GDRtq1KhR+uc//6l33nlHMTExeuqpp1S3bl2rzm233aaCggK9+uqrys/PV6NGjTRu3DgFBgZe6sUDAAB+yGHsdD7M5goLCzV//nz16dPnN3EJ8HLGtvAfbAv/wbbwH3bcFgQiAABge37XhwgAAOBSIxABAADbIxABAADbIxABAADb87vb7lHxNm7cqA8//FBbt27VoUOH9OSTT6p169a+bpbtzJ8/X6tXr9auXbsUGBio5ORk3XXXXYqNjfV102zp008/1aeffqqcnBxJUlxcnPr166fmzZv7uGVYsGCB5s2bpx49emjIkCG+bo6tpKWlefx0lSTFxsbqpZde8k2DLiECkQ0UFBQoISFBXbp00Z///GdfN8e2Nm7cqJtuukn169fXqVOn9M477+jFF1/UX/7yFwUHB/u6ebYTFRWlQYMGKSYmRsYYLV++XH/605/0pz/9SVdeeaWvm2dbmzZt0pIlSxQfH+/rptjWlVdeqWeffdYadjrtcTGJQGQDzZs351uvHxg/frzH8IMPPqhhw4Zpy5Ytaty4sY9aZV8tW7b0GB44cKA+/fRT/fzzzwQiHzlx4oT++te/6oEHHtC//vUvXzfHtpxOZ6m/9flbRiACfCQ/P1+SVLVqVR+3BMXFxcrMzFRBQUGpv3GIyjdz5kw1b95cTZo0IRD5UHZ2th544AG5XC4lJydr0KBBqlmzpq+bVekIRIAPFBcXa86cOWrYsKHHz8zg0tq+fbvGjx+vwsJCBQcH68knn1RcXJyvm2VLX331lbZu3ao//OEPvm6KrTVo0EAjR45UbGysDh06pPT0dD333HOaNm2aQkJCfN28SmWPC4OAn5k1a5Z27NihRx991NdNsbXY2FhNnTpVkydPVrdu3TRjxgzt3LnT182ynf3792vOnDkaNWoUvzHpY82bN1ebNm0UHx+vZs2aaezYsTp27JgyMzN93bRKxxki4BKbNWuW1q5dq4kTJ6pGjRq+bo6tBQQEKDo6WpKUmJiozZs3a+HChbr//vt93DJ72bJli/Ly8vT0009bZcXFxfrxxx+1ePFizZs3zzYde/1NWFiYYmNjlZ2d7eumVDoCEXCJGGP0xhtvaPXq1ZowYYJq167t6ybhLMXFxSosLPR1M2wnJSWlxB2wf//73xUbG6vbbruNMORDJ06cUHZ2tjp06ODrplQ6ApENuHdot3379mnbtm2qWrWqLTrK+YtZs2Zp5cqVGj16tEJCQpSbmytJCg0N5TKBD8ybN0/NmjVTzZo1deLECa1cuVIbN24scTcgKl9ISEiJvnRBQUGqVq0afewusblz56ply5aqWbOmDh06pLS0NDmdTrVv397XTat0BCIb2Lx5syZOnGgNz507V5LUsWNHPfjgg75qlu18+umnkqQJEyZ4lI8cOVKdOnW69A2yuby8PM2YMUOHDh1SaGio4uPjNX78eDVp0sTXTQN85uDBg3r55Zd15MgRhYeHq1GjRpo0aZLCw8N93bRK5zDGGF83AgAAwJe4MAsAAGyPQAQAAGyPQAQAAGyPQAQAAGyPQAQAAGyPQAQAAGyPQAQAAGyPQAQAAGyPJ1UDuKxs375d7733njZv3qy8vDxVrVpVcXFxatmypW6++WZfNw/AZYonVQO4bPz000+aOHGiatasqY4dOyoyMlIHDhzQzz//rOzsbP31r3/1dRMBXKY4QwTgsvGvf/1LoaGh+sMf/qCwsDCPcXl5eZesHQUFBQoKCrpk8wNQ+QhEAC4be/fu1ZVXXlkiDElSRESEx/CKFSu0aNEi7dixQy6XS3Xr1lXfvn3VtGlTq84nn3yiTz75RNnZ2apWrZpatWqlgQMHekx/woQJOnLkiB588EG9+eab2rx5s373u99pyJAhKiws1Pz58/Xll1/qwIEDioiIULt27XTHHXfI5XJV3ooAUOEIRAAuG7Vq1VJWVpa2b9+uunXrllrvvffe03vvvaeGDRuqf//+CggI0KZNm7R+/XorEKWlpSk9PV0pKSnq1q2bdu/erU8//VSbN2/WCy+8oICAXw+PR44c0eTJk9W2bVt16NBBERERKi4u1p/+9Cf95z//UdeuXRUXF6ft27fr448/1u7duzV69OhKXx8AKg6BCMBl49Zbb9XkyZM1evRoJSUlqVGjRkpJSdHVV19tBZjs7Gylp6erdevWevzxx+V0/nozrbvL5OHDh7VgwQI1bdpUY8eOterExsbqjTfe0JdffqnOnTtbr8vNzVVqaqpuvPFGq2zFihVat26dJk6cqEaNGlnlV155pV5//XX99NNPatiwYaWuDwAVh9vuAVw2mjRpohdffFEtW7bUL7/8og8//FCTJk3S8OHD9c0330iSVq9eLWOM+vXr5xGGJMnhcEiS1q1bp6KiIvXo0cOjzu9+9zuFhIRo7dq1Hq9zuVweAUmSvv76a8XFxSk2NlaHDx+2/q655hpJ0oYNGyp8+QFUHs4QAbisJCUl6cknn1RRUZG2bdum1atX6+OPP9a0adM0depU7d27Vw6HQ3FxcaVOY//+/ZJOnxE6U0BAgOrUqWONd4uKivK4hCZJe/bs0a5duzRs2DCv87iUnbwBlB+BCMBlKSAgQElJSUpKSlJsbKz+9re/KTMzs1LmFRgYWKLMGKO6devqnnvu8fqamjVrVkpbAFQOAhGAy15iYqIk6dChQ4qOjpYxRjt37lRCQoLX+u6wsnv3btWpU8cqLyoq0r59+5SSknLeedapU0e//PKLUlJSrEtxAC5f9CECcNlYv369vD1L9ttvv5V0+hJY69at5XA4lJ6eruLiYo967tc2adJEAQEBWrRokcf0Pv/8c+Xn56tFixbnbUubNm108OBBLV26tMS4kydP6sSJExe0bAB8izNEAC4bs2fPVkFBgVq3bq3Y2FgVFRUpKytLq1atUq1atdS5c2eFhYWpb9++ev/99/X888+rdevWcrlc2rRpk6KiojRo0CCFh4erd+/eSk9P1+TJk3Xttddat93Xr19fHTp0OG9bbrjhBmVmZur111/X+vXr1ahRIxUXF2vXrl3KzMzU+PHjVb9+/UuwVgBUBH66A8Bl47vvvlNmZqaysrJ04MABFRUVqWbNmmrWrJluv/12j4czLlu2TIsXL9bOnTsVGBio+Ph49e3bV02aNLHqLF682HowY9WqVXXdddeV+mDGadOmlWhPUVGRPv74Y61YsULZ2dkKDAxUnTp11LJlS/Xo0UOhoaGVu0IAVBgCEQAAsD36EAEAANsjEAEAANsjEAEAANsjEAEAANsjEAEAANsjEAEAANsjEAEAANsjEAEAANsjEAEAANsjEAEAANsjEAEAANsjEAEAANsjEAEAANv7/zC7OibUJPLOAAAAAElFTkSuQmCC",
      "text/plain": [
       "<Figure size 640x480 with 1 Axes>"
      ]
     },
     "metadata": {},
     "output_type": "display_data"
    }
   ],
   "source": [
    "ax = sns.barplot(x='Score', y='pos', data=vader, estimator=np.mean)\n",
    "ax.set_title('Mean VADER Compound Score by Review Score')\n",
    "ax.plot"
   ]
  },
  {
   "cell_type": "code",
   "execution_count": 50,
   "metadata": {},
   "outputs": [
    {
     "name": "stdout",
     "output_type": "stream",
     "text": [
      "Requirement already satisfied: transformers in /Library/Frameworks/Python.framework/Versions/3.11/lib/python3.11/site-packages (4.38.2)\n",
      "Requirement already satisfied: filelock in /Library/Frameworks/Python.framework/Versions/3.11/lib/python3.11/site-packages (from transformers) (3.13.1)\n",
      "Requirement already satisfied: huggingface-hub<1.0,>=0.19.3 in /Library/Frameworks/Python.framework/Versions/3.11/lib/python3.11/site-packages (from transformers) (0.21.4)\n",
      "Requirement already satisfied: numpy>=1.17 in /Library/Frameworks/Python.framework/Versions/3.11/lib/python3.11/site-packages (from transformers) (1.23.5)\n",
      "Requirement already satisfied: packaging>=20.0 in /Library/Frameworks/Python.framework/Versions/3.11/lib/python3.11/site-packages (from transformers) (23.2)\n",
      "Requirement already satisfied: pyyaml>=5.1 in /Library/Frameworks/Python.framework/Versions/3.11/lib/python3.11/site-packages (from transformers) (6.0.1)\n",
      "Requirement already satisfied: regex!=2019.12.17 in /Library/Frameworks/Python.framework/Versions/3.11/lib/python3.11/site-packages (from transformers) (2023.12.25)\n",
      "Requirement already satisfied: requests in /Library/Frameworks/Python.framework/Versions/3.11/lib/python3.11/site-packages (from transformers) (2.31.0)\n",
      "Requirement already satisfied: tokenizers<0.19,>=0.14 in /Library/Frameworks/Python.framework/Versions/3.11/lib/python3.11/site-packages (from transformers) (0.15.2)\n",
      "Requirement already satisfied: safetensors>=0.4.1 in /Library/Frameworks/Python.framework/Versions/3.11/lib/python3.11/site-packages (from transformers) (0.4.2)\n",
      "Requirement already satisfied: tqdm>=4.27 in /Library/Frameworks/Python.framework/Versions/3.11/lib/python3.11/site-packages (from transformers) (4.66.2)\n",
      "Requirement already satisfied: fsspec>=2023.5.0 in /Library/Frameworks/Python.framework/Versions/3.11/lib/python3.11/site-packages (from huggingface-hub<1.0,>=0.19.3->transformers) (2024.2.0)\n",
      "Requirement already satisfied: typing-extensions>=3.7.4.3 in /Library/Frameworks/Python.framework/Versions/3.11/lib/python3.11/site-packages (from huggingface-hub<1.0,>=0.19.3->transformers) (4.10.0)\n",
      "Requirement already satisfied: charset-normalizer<4,>=2 in /Library/Frameworks/Python.framework/Versions/3.11/lib/python3.11/site-packages (from requests->transformers) (3.3.2)\n",
      "Requirement already satisfied: idna<4,>=2.5 in /Library/Frameworks/Python.framework/Versions/3.11/lib/python3.11/site-packages (from requests->transformers) (3.6)\n",
      "Requirement already satisfied: urllib3<3,>=1.21.1 in /Library/Frameworks/Python.framework/Versions/3.11/lib/python3.11/site-packages (from requests->transformers) (2.2.1)\n",
      "Requirement already satisfied: certifi>=2017.4.17 in /Library/Frameworks/Python.framework/Versions/3.11/lib/python3.11/site-packages (from requests->transformers) (2024.2.2)\n"
     ]
    }
   ],
   "source": [
    "!python3 -m pip install transformers "
   ]
  },
  {
   "cell_type": "code",
   "execution_count": 60,
   "metadata": {},
   "outputs": [],
   "source": [
    "from transformers import  AutoTokenizer\n",
    "from transformers import TFAutoModelForSequenceClassification\n",
    "from scipy.special import softmax\n",
    "\n"
   ]
  },
  {
   "cell_type": "code",
   "execution_count": 62,
   "metadata": {},
   "outputs": [
    {
     "name": "stderr",
     "output_type": "stream",
     "text": [
      "2024-03-21 03:11:27.912766: I tensorflow/core/platform/cpu_feature_guard.cc:182] This TensorFlow binary is optimized to use available CPU instructions in performance-critical operations.\n",
      "To enable the following instructions: SSE4.1 SSE4.2 AVX AVX2 FMA, in other operations, rebuild TensorFlow with the appropriate compiler flags.\n"
     ]
    },
    {
     "data": {
      "application/vnd.jupyter.widget-view+json": {
       "model_id": "6b6254e89581426883b8436c17291432",
       "version_major": 2,
       "version_minor": 0
      },
      "text/plain": [
       "tf_model.h5:   0%|          | 0.00/501M [00:00<?, ?B/s]"
      ]
     },
     "metadata": {},
     "output_type": "display_data"
    },
    {
     "name": "stderr",
     "output_type": "stream",
     "text": [
      "Error while downloading from https://cdn-lfs.huggingface.co/cardiffnlp/twitter-roberta-base-sentiment/60edb4641e2b28ee3ecfb272f96cb9a6b0a662f4072eaf294dd8a1fd8b8484f3?response-content-disposition=attachment%3B+filename*%3DUTF-8%27%27tf_model.h5%3B+filename%3D%22tf_model.h5%22%3B&Expires=1711231898&Policy=eyJTdGF0ZW1lbnQiOlt7IkNvbmRpdGlvbiI6eyJEYXRlTGVzc1RoYW4iOnsiQVdTOkVwb2NoVGltZSI6MTcxMTIzMTg5OH19LCJSZXNvdXJjZSI6Imh0dHBzOi8vY2RuLWxmcy5odWdnaW5nZmFjZS5jby9jYXJkaWZmbmxwL3R3aXR0ZXItcm9iZXJ0YS1iYXNlLXNlbnRpbWVudC82MGVkYjQ2NDFlMmIyOGVlM2VjZmIyNzJmOTZjYjlhNmIwYTY2MmY0MDcyZWFmMjk0ZGQ4YTFmZDhiODQ4NGYzP3Jlc3BvbnNlLWNvbnRlbnQtZGlzcG9zaXRpb249KiJ9XX0_&Signature=t41DYmSnwizo2KZPxJ%7EVILP3ekwDQaIKLIQMWYYyot2MdujSFJPapRpxizIbSIjYtrgl3wlZUXbo11gOhi4mk0vUxIns3jKQhHTwIWeSwSSlOu5ansHDMfUsBPivX7AXJlAglRDjzzmjIFE9OkJjK6-crdmCRA28DXzu6brJHF0xRuFDNqD23FYKx-whJ5Oxw%7E5ke3ukgEV2SVcL9h1XtEXBoMRzLSAbUH17bVfIjMpd%7EcQkihnUceH2kYdY-H55lq3XTu%7EZ35iSq0aheHAdK722SYIHxvy5m7cRosH1ooa-Tq31C8n4mkmHgnVqE2IVsqqR6U26yHQwxoGbEb1J2Q__&Key-Pair-Id=KVTP0A1DKRTAX: HTTPSConnectionPool(host='cdn-lfs.huggingface.co', port=443): Read timed out.\n",
      "Trying to resume download...\n"
     ]
    },
    {
     "data": {
      "application/vnd.jupyter.widget-view+json": {
       "model_id": "559a949271f143de9145f7f8bef065fb",
       "version_major": 2,
       "version_minor": 0
      },
      "text/plain": [
       "tf_model.h5:  13%|#2        | 62.9M/501M [00:00<?, ?B/s]"
      ]
     },
     "metadata": {},
     "output_type": "display_data"
    },
    {
     "name": "stderr",
     "output_type": "stream",
     "text": [
      "2024-03-21 03:15:09.267762: I tensorflow/core/common_runtime/pluggable_device/pluggable_device_factory.cc:306] Could not identify NUMA node of platform GPU ID 0, defaulting to 0. Your kernel may not have been built with NUMA support.\n",
      "2024-03-21 03:15:09.267815: I tensorflow/core/common_runtime/pluggable_device/pluggable_device_factory.cc:272] Created TensorFlow device (/job:localhost/replica:0/task:0/device:GPU:0 with 0 MB memory) -> physical PluggableDevice (device: 0, name: METAL, pci bus id: <undefined>)\n",
      "All model checkpoint layers were used when initializing TFRobertaForSequenceClassification.\n",
      "\n",
      "All the layers of TFRobertaForSequenceClassification were initialized from the model checkpoint at cardiffnlp/twitter-roberta-base-sentiment.\n",
      "If your task is similar to the task the model of the checkpoint was trained on, you can already use TFRobertaForSequenceClassification for predictions without further training.\n"
     ]
    }
   ],
   "source": [
    "model = f\"cardiffnlp/twitter-roberta-base-sentiment\"\n",
    "tokenizer = AutoTokenizer.from_pretrained(model)\n",
    "model = TFAutoModelForSequenceClassification.from_pretrained(model)"
   ]
  },
  {
   "cell_type": "code",
   "execution_count": 64,
   "metadata": {},
   "outputs": [
    {
     "name": "stdout",
     "output_type": "stream",
     "text": [
      "Great taffy at a great price.  There was a wide assortment of yummy taffy.  Delivery was very quick.  If your a taffy lover, this is a deal.\n"
     ]
    },
    {
     "data": {
      "text/plain": [
       "{'neg': 0.0, 'neu': 0.552, 'pos': 0.448, 'compound': 0.9468}"
      ]
     },
     "execution_count": 64,
     "metadata": {},
     "output_type": "execute_result"
    }
   ],
   "source": [
    "print(example)\n",
    "sia.polarity_scores(example)    "
   ]
  },
  {
   "cell_type": "code",
   "execution_count": 66,
   "metadata": {},
   "outputs": [],
   "source": [
    "encoded_text = tokenizer(example, return_tensors=\"tf\")"
   ]
  },
  {
   "cell_type": "code",
   "execution_count": 68,
   "metadata": {},
   "outputs": [],
   "source": [
    "output =model(**encoded_text)"
   ]
  },
  {
   "cell_type": "code",
   "execution_count": 78,
   "metadata": {},
   "outputs": [
    {
     "name": "stdout",
     "output_type": "stream",
     "text": [
      "[-2.4850383 -0.6441332  3.9192314]\n",
      "[0.00163473 0.01030245 0.98806286]\n"
     ]
    }
   ],
   "source": [
    "output\n",
    "score = output[0][0].numpy()\n",
    "print(score)\n",
    "final_output   = softmax(score)\n",
    "print(  final_output)"
   ]
  },
  {
   "cell_type": "code",
   "execution_count": null,
   "metadata": {},
   "outputs": [],
   "source": []
  }
 ],
 "metadata": {
  "kernelspec": {
   "display_name": "Python 3",
   "language": "python",
   "name": "python3"
  },
  "language_info": {
   "codemirror_mode": {
    "name": "ipython",
    "version": 3
   },
   "file_extension": ".py",
   "mimetype": "text/x-python",
   "name": "python",
   "nbconvert_exporter": "python",
   "pygments_lexer": "ipython3",
   "version": "3.11.8"
  }
 },
 "nbformat": 4,
 "nbformat_minor": 2
}
